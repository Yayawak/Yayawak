{
 "cells": [
  {
   "cell_type": "code",
   "execution_count": 1,
   "id": "cd3d145f-8da6-49e0-9a6b-ce2afe431c80",
   "metadata": {},
   "outputs": [
    {
     "data": {
      "text/plain": [
       "3.142857142857143"
      ]
     },
     "execution_count": 1,
     "metadata": {},
     "output_type": "execute_result"
    }
   ],
   "source": [
    "pi = 22/ 7\n",
    "pi"
   ]
  },
  {
   "cell_type": "code",
   "execution_count": 2,
   "id": "cb2639d4-c716-4fc2-8d38-ced1c6dbcd48",
   "metadata": {},
   "outputs": [
    {
     "data": {
      "text/plain": [
       "9.877551020408163"
      ]
     },
     "execution_count": 2,
     "metadata": {},
     "output_type": "execute_result"
    }
   ],
   "source": [
    "pi ** 2"
   ]
  },
  {
   "cell_type": "code",
   "execution_count": 3,
   "id": "fbe000d7-e2b8-469d-a409-c9989fdb55e3",
   "metadata": {},
   "outputs": [
    {
     "data": {
      "text/plain": [
       "1.5714285714285714"
      ]
     },
     "execution_count": 3,
     "metadata": {},
     "output_type": "execute_result"
    }
   ],
   "source": [
    "pi / 2\n"
   ]
  },
  {
   "cell_type": "code",
   "execution_count": 4,
   "id": "439d8010-bd44-46c2-aa2d-4b463d3c8a0f",
   "metadata": {},
   "outputs": [
    {
     "data": {
      "text/plain": [
       "6.285714285714286"
      ]
     },
     "execution_count": 4,
     "metadata": {},
     "output_type": "execute_result"
    }
   ],
   "source": [
    "pi + pi"
   ]
  },
  {
   "cell_type": "code",
   "execution_count": 6,
   "id": "13b1e28f-eaaa-4218-8d21-e77182fc3417",
   "metadata": {},
   "outputs": [],
   "source": [
    "pi = \"pie\""
   ]
  },
  {
   "cell_type": "code",
   "execution_count": 7,
   "id": "37b4d53a-124c-4f9f-9a4a-7f0c567883f2",
   "metadata": {},
   "outputs": [
    {
     "data": {
      "text/plain": [
       "'pie'"
      ]
     },
     "execution_count": 7,
     "metadata": {},
     "output_type": "execute_result"
    }
   ],
   "source": [
    "pi"
   ]
  },
  {
   "cell_type": "code",
   "execution_count": 8,
   "id": "d08b5198-7d32-460d-a3c7-044afb4c7e49",
   "metadata": {},
   "outputs": [
    {
     "data": {
      "text/plain": [
       "5"
      ]
     },
     "execution_count": 8,
     "metadata": {},
     "output_type": "execute_result"
    }
   ],
   "source": [
    "5"
   ]
  },
  {
   "cell_type": "code",
   "execution_count": 9,
   "id": "ea4797ce-c659-4f1e-820e-9109d8dbe17c",
   "metadata": {},
   "outputs": [
    {
     "data": {
      "text/plain": [
       "'string'"
      ]
     },
     "execution_count": 9,
     "metadata": {},
     "output_type": "execute_result"
    }
   ],
   "source": [
    "\"string\""
   ]
  },
  {
   "cell_type": "code",
   "execution_count": 10,
   "id": "96e87d6b-1bce-4402-9f51-1c29a1fab05d",
   "metadata": {},
   "outputs": [
    {
     "data": {
      "text/plain": [
       "'a'"
      ]
     },
     "execution_count": 10,
     "metadata": {},
     "output_type": "execute_result"
    }
   ],
   "source": [
    "'a'"
   ]
  },
  {
   "cell_type": "code",
   "execution_count": 11,
   "id": "981e04b3-09d4-474e-959e-6d8e3a962c5e",
   "metadata": {},
   "outputs": [
    {
     "data": {
      "text/plain": [
       "'b'"
      ]
     },
     "execution_count": 11,
     "metadata": {},
     "output_type": "execute_result"
    }
   ],
   "source": [
    "'b'"
   ]
  },
  {
   "cell_type": "code",
   "execution_count": 12,
   "id": "949679b7-8cf0-427b-9a77-3c99dd313144",
   "metadata": {},
   "outputs": [
    {
     "name": "stdout",
     "output_type": "stream",
     "text": [
      "I\n",
      " \n",
      "l\n",
      "o\n",
      "v\n",
      "e\n",
      " \n",
      "c\n",
      "h\n",
      "i\n",
      "r\n",
      "s\n",
      "m\n",
      "a\n",
      "s\n"
     ]
    }
   ],
   "source": [
    "cm = \"I love chirsmas\"\n",
    "for character in cm:\n",
    "    print(character)"
   ]
  },
  {
   "cell_type": "code",
   "execution_count": 14,
   "id": "d1a2612d-9fec-461f-b3c2-0901ea5468cb",
   "metadata": {},
   "outputs": [
    {
     "data": {
      "text/plain": [
       "'I love chirsmas'"
      ]
     },
     "execution_count": 14,
     "metadata": {},
     "output_type": "execute_result"
    }
   ],
   "source": [
    "cm"
   ]
  },
  {
   "cell_type": "code",
   "execution_count": 15,
   "id": "db4ce03f-cbe4-48e2-8613-40c86284ab4c",
   "metadata": {},
   "outputs": [
    {
     "data": {
      "text/plain": [
       "str"
      ]
     },
     "execution_count": 15,
     "metadata": {},
     "output_type": "execute_result"
    }
   ],
   "source": [
    "type(cm)"
   ]
  },
  {
   "cell_type": "code",
   "execution_count": 16,
   "id": "2ae46f37-8703-4e0d-b2ff-a6dfea1f41a7",
   "metadata": {},
   "outputs": [
    {
     "data": {
      "text/plain": [
       "3.142857142857143"
      ]
     },
     "execution_count": 16,
     "metadata": {},
     "output_type": "execute_result"
    }
   ],
   "source": [
    "# string\n",
    "pi = 22 / 7\n",
    "pi"
   ]
  },
  {
   "cell_type": "code",
   "execution_count": 17,
   "id": "b9cdda52-aaf9-44a0-9d6a-6ebc4870f3dc",
   "metadata": {},
   "outputs": [
    {
     "data": {
      "text/plain": [
       "float"
      ]
     },
     "execution_count": 17,
     "metadata": {},
     "output_type": "execute_result"
    }
   ],
   "source": [
    "type(pi)"
   ]
  },
  {
   "cell_type": "code",
   "execution_count": 18,
   "id": "a838b37a-a9a2-4c6b-b38c-ec04630d4628",
   "metadata": {},
   "outputs": [],
   "source": [
    "x = 99"
   ]
  },
  {
   "cell_type": "code",
   "execution_count": 19,
   "id": "9b15c3b4-a0b2-4f2c-a21a-4cc0fc6dcf85",
   "metadata": {},
   "outputs": [
    {
     "data": {
      "text/plain": [
       "int"
      ]
     },
     "execution_count": 19,
     "metadata": {},
     "output_type": "execute_result"
    }
   ],
   "source": [
    "type(x)"
   ]
  },
  {
   "cell_type": "code",
   "execution_count": 21,
   "id": "a1b4961c-f12d-44b7-b6ac-86a1e9a23f98",
   "metadata": {},
   "outputs": [],
   "source": [
    "# integer"
   ]
  },
  {
   "cell_type": "code",
   "execution_count": 22,
   "id": "d61f673f-8318-41fb-866c-0adedb5123ce",
   "metadata": {},
   "outputs": [],
   "source": [
    "# string, float, integer"
   ]
  },
  {
   "cell_type": "code",
   "execution_count": 23,
   "id": "700aee2b-32a4-4e8a-9a4e-51bc88ebbb13",
   "metadata": {},
   "outputs": [
    {
     "data": {
      "text/plain": [
       "(True, False)"
      ]
     },
     "execution_count": 23,
     "metadata": {},
     "output_type": "execute_result"
    }
   ],
   "source": [
    "True, False"
   ]
  },
  {
   "cell_type": "code",
   "execution_count": 24,
   "id": "5bea6800-9542-4df3-a871-08154c803986",
   "metadata": {},
   "outputs": [
    {
     "data": {
      "text/plain": [
       "True"
      ]
     },
     "execution_count": 24,
     "metadata": {},
     "output_type": "execute_result"
    }
   ],
   "source": [
    "True"
   ]
  },
  {
   "cell_type": "code",
   "execution_count": 25,
   "id": "a6877d73-171a-41c0-8d08-2da97f7ef002",
   "metadata": {},
   "outputs": [
    {
     "data": {
      "text/plain": [
       "bool"
      ]
     },
     "execution_count": 25,
     "metadata": {},
     "output_type": "execute_result"
    }
   ],
   "source": [
    "type(True)"
   ]
  },
  {
   "cell_type": "code",
   "execution_count": 26,
   "id": "88c6139f-da5c-4019-a2fa-fc512cadab96",
   "metadata": {},
   "outputs": [],
   "source": [
    "pi = 3.14\n",
    "x = 10\n",
    "\n",
    "# +, -, *, / \n"
   ]
  },
  {
   "cell_type": "code",
   "execution_count": 27,
   "id": "042cae30-1530-4db9-a56f-924d6395dddc",
   "metadata": {},
   "outputs": [
    {
     "data": {
      "text/plain": [
       "13.14"
      ]
     },
     "execution_count": 27,
     "metadata": {},
     "output_type": "execute_result"
    }
   ],
   "source": [
    "pi + x"
   ]
  },
  {
   "cell_type": "code",
   "execution_count": 28,
   "id": "ecedd7dc-0edf-4f29-b443-8d406a63c746",
   "metadata": {},
   "outputs": [
    {
     "data": {
      "text/plain": [
       "31.400000000000002"
      ]
     },
     "execution_count": 28,
     "metadata": {},
     "output_type": "execute_result"
    }
   ],
   "source": [
    "pi * x"
   ]
  },
  {
   "cell_type": "code",
   "execution_count": 58,
   "id": "ab3931f8-5288-41c6-87b8-e65fa7fd22bd",
   "metadata": {},
   "outputs": [
    {
     "data": {
      "text/plain": [
       "[20, 21, 22, 23, 24, 25, 26, 27, 28, 29, 30]"
      ]
     },
     "execution_count": 58,
     "metadata": {},
     "output_type": "execute_result"
    }
   ],
   "source": [
    "# lst = [1, 2, 3, ]\n",
    "lst = list(range(20, 31))\n",
    "lst"
   ]
  },
  {
   "cell_type": "code",
   "execution_count": 59,
   "id": "f63da335-e9c1-4c1c-9bf6-67926ab846e7",
   "metadata": {},
   "outputs": [
    {
     "data": {
      "text/plain": [
       "[0, 1, 2, 3, 4, 5, 6, 7, 8, 9]"
      ]
     },
     "execution_count": 59,
     "metadata": {},
     "output_type": "execute_result"
    }
   ],
   "source": [
    "list(range(10))"
   ]
  },
  {
   "cell_type": "code",
   "execution_count": 64,
   "id": "416c1700-71ca-4fb6-9af0-3aaf6db5a486",
   "metadata": {},
   "outputs": [
    {
     "data": {
      "text/plain": [
       "11"
      ]
     },
     "execution_count": 64,
     "metadata": {},
     "output_type": "execute_result"
    }
   ],
   "source": [
    "len(lst)"
   ]
  },
  {
   "cell_type": "code",
   "execution_count": 65,
   "id": "bd2da15a-2def-45f9-a2f4-73f7814f8a2c",
   "metadata": {},
   "outputs": [
    {
     "data": {
      "text/plain": [
       "[20, 21, 22, 23, 24, 25, 26, 27, 28, 29, 30]"
      ]
     },
     "execution_count": 65,
     "metadata": {},
     "output_type": "execute_result"
    }
   ],
   "source": [
    "lst"
   ]
  },
  {
   "cell_type": "code",
   "execution_count": 66,
   "id": "1b27ffa6-4af6-4ad1-9dec-26e89e81367d",
   "metadata": {},
   "outputs": [
    {
     "name": "stdout",
     "output_type": "stream",
     "text": [
      "0 20\n",
      "1 21\n",
      "2 22\n",
      "3 23\n",
      "4 24\n",
      "5 25\n",
      "6 26\n",
      "7 27\n",
      "8 28\n",
      "9 29\n"
     ]
    }
   ],
   "source": [
    "# for i in range(len(lst)):\n",
    "for index in range(10):\n",
    "    print(index, lst[index])\n",
    "    \n"
   ]
  },
  {
   "cell_type": "code",
   "execution_count": 67,
   "id": "fde779a3-f3de-4e4f-bcb7-15ad978eb28a",
   "metadata": {},
   "outputs": [
    {
     "ename": "IndexError",
     "evalue": "list index out of range",
     "output_type": "error",
     "traceback": [
      "\u001b[0;31m---------------------------------------------------------------------------\u001b[0m",
      "\u001b[0;31mIndexError\u001b[0m                                Traceback (most recent call last)",
      "\u001b[0;32m/var/folders/tq/1dn18qvs46z75s3216p47sbm0000gn/T/ipykernel_6437/2252532902.py\u001b[0m in \u001b[0;36m<module>\u001b[0;34m\u001b[0m\n\u001b[0;32m----> 1\u001b[0;31m \u001b[0mlst\u001b[0m\u001b[0;34m[\u001b[0m\u001b[0;36m99\u001b[0m\u001b[0;34m]\u001b[0m\u001b[0;34m\u001b[0m\u001b[0;34m\u001b[0m\u001b[0m\n\u001b[0m",
      "\u001b[0;31mIndexError\u001b[0m: list index out of range"
     ]
    }
   ],
   "source": [
    "# lst[99]"
   ]
  },
  {
   "cell_type": "code",
   "execution_count": 49,
   "id": "ffcf5bf6-7154-4dde-aebf-3e77caa0f1ab",
   "metadata": {},
   "outputs": [
    {
     "data": {
      "text/plain": [
       "5"
      ]
     },
     "execution_count": 49,
     "metadata": {},
     "output_type": "execute_result"
    }
   ],
   "source": [
    "# lst[4]"
   ]
  },
  {
   "cell_type": "code",
   "execution_count": null,
   "id": "775a228a-2157-41d1-9b1c-30b35d57a4c5",
   "metadata": {},
   "outputs": [],
   "source": []
  }
 ],
 "metadata": {
  "kernelspec": {
   "display_name": "Python 3 (ipykernel)",
   "language": "python",
   "name": "python3"
  },
  "language_info": {
   "codemirror_mode": {
    "name": "ipython",
    "version": 3
   },
   "file_extension": ".py",
   "mimetype": "text/x-python",
   "name": "python",
   "nbconvert_exporter": "python",
   "pygments_lexer": "ipython3",
   "version": "3.9.13"
  }
 },
 "nbformat": 4,
 "nbformat_minor": 5
}
