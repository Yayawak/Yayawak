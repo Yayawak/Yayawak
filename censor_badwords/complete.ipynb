{
 "cells": [
  {
   "cell_type": "code",
   "execution_count": 18,
   "id": "605dd168-63d9-4c3c-9834-efdf342cbcba",
   "metadata": {},
   "outputs": [
    {
     "name": "stdout",
     "output_type": "stream",
     "text": [
      "Oh, black Persian meow!\n",
      "Oh, black Persian meow!\n",
      "Oh, black Persian meow!\n",
      "Oh, black Persian meow!\n",
      "Oh, black Persian meow!\n",
      "\n",
      "ininin out out out \n",
      "out out out out \n",
      "\n",
      "ok ok\n",
      "ok ok\n",
      "ok\n",
      "\n",
      "\n",
      "Was not your life\n",
      "already cursed with offspring?\n",
      "We took you for rest to that old\n",
      "Yankee farm, — so lonely\n",
      "and with so many field m**e\n",
      "out the long grass —\n",
      "and you return to us\n",
      "out this condition, Catalina!\n",
      "\n",
      "meow meow CCat meow meow\n"
     ]
    }
   ],
   "source": [
    "import re\n",
    "\n",
    "def get_msg():\n",
    "    path = \"message.txt\"\n",
    "    txt = \"\"\n",
    "    with open(path, \"r\") as f:\n",
    "        txt = f.read()\n",
    "    return txt\n",
    "\n",
    "\n",
    "def get_badword_and_alternatives():\n",
    "    file_name = \"badwords.txt\"\n",
    "    \n",
    "    bw_with_alters = []\n",
    "    with open(file_name, \"r\") as f:\n",
    "        lines = f.readlines()\n",
    "    for i in range(len(lines)):\n",
    "        cleaned_line = lines[i].strip().split(\" \")\n",
    "        bw_with_alters.append(cleaned_line)\n",
    "        \n",
    "    return bw_with_alters\n",
    "\n",
    "\n",
    "\n",
    "def replace_word(txt, bw_data):\n",
    "    for i in range(len(bw_data)):\n",
    "        l = len(bw_data[i])\n",
    "        badword = bw_data[i][0]\n",
    "        all_insensitive_cases = re.findall(f'(?i){badword}',\n",
    "                                           txt)\n",
    "        \n",
    "        for ins_case in all_insensitive_cases:\n",
    "\n",
    "            if l == 2:\n",
    "                alternator = bw_data[i][1]\n",
    "                txt = re.sub(fr\"\\b{ins_case}\\b\", alternator, txt)\n",
    "\n",
    "            if l == 1:\n",
    "                first_letter = ins_case[0]\n",
    "                last_letter = ins_case[-1]\n",
    "                bw_len = len(ins_case)\n",
    "                number_of_asterisk = bw_len - 2\n",
    "                mid_word = \"*\" * number_of_asterisk\n",
    "                censored_word = first_letter + mid_word + last_letter\n",
    "                txt = txt.replace(ins_case, censored_word)\n",
    "\n",
    "    return txt\n",
    "\n",
    "txt = get_msg()\n",
    "bw_data = get_badword_and_alternatives()\n",
    "\n",
    "output = replace_word(txt, bw_data)\n",
    "print(output)"
   ]
  },
  {
   "cell_type": "code",
   "execution_count": null,
   "id": "1ae84603-df03-4229-988f-56b98c9b868c",
   "metadata": {},
   "outputs": [],
   "source": []
  },
  {
   "cell_type": "code",
   "execution_count": null,
   "id": "432bbc9d-4fb3-4ab8-878c-5e629655bdcf",
   "metadata": {},
   "outputs": [],
   "source": []
  }
 ],
 "metadata": {
  "kernelspec": {
   "display_name": "Python 3 (ipykernel)",
   "language": "python",
   "name": "python3"
  },
  "language_info": {
   "codemirror_mode": {
    "name": "ipython",
    "version": 3
   },
   "file_extension": ".py",
   "mimetype": "text/x-python",
   "name": "python",
   "nbconvert_exporter": "python",
   "pygments_lexer": "ipython3",
   "version": "3.9.13"
  }
 },
 "nbformat": 4,
 "nbformat_minor": 5
}
