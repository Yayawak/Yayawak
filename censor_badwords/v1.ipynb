{
 "cells": [
  {
   "cell_type": "code",
   "execution_count": 100,
   "id": "e5add5fc-3261-4b2c-8a65-649f716472ff",
   "metadata": {},
   "outputs": [],
   "source": [
    "msg = \"\"\"\n",
    "Oh, black Persian cat!\n",
    "Was not your life\n",
    "already cursed with offspring?\n",
    "We took you for rest to that old\n",
    "Yankee farm, — so lonely\n",
    "and with so many field mice\n",
    "in the long grass —\n",
    "and you return to us\n",
    "in this condition, Catalina!\n",
    "\"\"\""
   ]
  },
  {
   "cell_type": "code",
   "execution_count": 101,
   "id": "93e57352-a5c5-4274-80d1-06fb1a2912e9",
   "metadata": {},
   "outputs": [
    {
     "data": {
      "text/plain": [
       "'\\nOh, black Persian cat!\\nWas not your life\\nalready cursed with offspring?\\nWe took you for rest to that old\\nYankee farm, — so lonely\\nand with so many field mice\\nin the long grass —\\nand you return to us\\nin this condition, Catalina!\\n'"
      ]
     },
     "execution_count": 101,
     "metadata": {},
     "output_type": "execute_result"
    }
   ],
   "source": [
    "msg"
   ]
  },
  {
   "cell_type": "code",
   "execution_count": 102,
   "id": "e5cba33f-a8f6-471d-8838-7c9eee3ad217",
   "metadata": {},
   "outputs": [
    {
     "data": {
      "text/plain": [
       "'Oh, black Persian cat!\\nWas not your life\\nalready cursed with offspring?\\nWe took you for rest to that old\\nYankee farm, — so lonely\\nand with so many field mice\\nin the long grass —\\nand you return to us\\nin this condition, Catalina!\\n\\nCAT cat CCat CaT caT'"
      ]
     },
     "execution_count": 102,
     "metadata": {},
     "output_type": "execute_result"
    }
   ],
   "source": [
    "def get_msg():\n",
    "    path = \"msg.txt\"\n",
    "    txt = \"\"\n",
    "    with open(path, \"r\") as f:\n",
    "        txt = f.read()\n",
    "    return txt\n",
    "\n",
    "txt = get_msg()\n",
    "txt"
   ]
  },
  {
   "cell_type": "code",
   "execution_count": 103,
   "id": "f65a7a46-da7d-4479-83c4-f4ace4aeb538",
   "metadata": {},
   "outputs": [
    {
     "data": {
      "text/plain": [
       "[['cat', 'meow'], ['mice'], ['cheese']]"
      ]
     },
     "execution_count": 103,
     "metadata": {},
     "output_type": "execute_result"
    }
   ],
   "source": [
    "# def read_badwords():\n",
    "def get_badword_and_alternatives():\n",
    "    file_name = \"badwords.txt\"\n",
    "    \n",
    "    bw_with_alters = []\n",
    "    with open(file_name, \"r\") as f:\n",
    "        lines = f.readlines()\n",
    "    for i in range(len(lines)):\n",
    "        cleaned_line = lines[i].strip().split(\" \")\n",
    "        bw_with_alters.append(cleaned_line)\n",
    "        \n",
    "    return bw_with_alters\n",
    "\n",
    "bw_data = get_badword_and_alternatives()\n",
    "bw_data"
   ]
  },
  {
   "cell_type": "code",
   "execution_count": 104,
   "id": "a08a7bc9-8792-4bae-8b76-bebb1219c3dd",
   "metadata": {},
   "outputs": [
    {
     "data": {
      "text/plain": [
       "'Oh, black Persian cat!\\nWas not your life\\nalready cursed with offspring?\\nWe took you for rest to that old\\nYankee farm, — so lonely\\nand with so many field mice\\nin the long grass —\\nand you return to us\\nin this condition, Catalina!\\n\\nCAT cat CCat CaT caT'"
      ]
     },
     "execution_count": 104,
     "metadata": {},
     "output_type": "execute_result"
    }
   ],
   "source": [
    "txt"
   ]
  },
  {
   "cell_type": "code",
   "execution_count": 105,
   "id": "2e201f0e-a338-4c44-805f-d41f16497396",
   "metadata": {},
   "outputs": [
    {
     "data": {
      "text/plain": [
       "[['cat', 'meow'], ['mice'], ['cheese']]"
      ]
     },
     "execution_count": 105,
     "metadata": {},
     "output_type": "execute_result"
    }
   ],
   "source": [
    "bw_data"
   ]
  },
  {
   "cell_type": "code",
   "execution_count": 106,
   "id": "7aa3d7a5-748e-40d1-b6af-c69558387200",
   "metadata": {},
   "outputs": [
    {
     "name": "stdout",
     "output_type": "stream",
     "text": [
      "Oh, black Persian cat!\n",
      "Was not your life\n",
      "already cursed with offspring?\n",
      "We took you for rest to that old\n",
      "Yankee farm, — so lonely\n",
      "and with so many field mice\n",
      "in the long grass —\n",
      "and you return to us\n",
      "in this condition, Catalina!\n",
      "\n",
      "CAT cat CCat CaT caT\n"
     ]
    }
   ],
   "source": [
    "print(txt)"
   ]
  },
  {
   "cell_type": "code",
   "execution_count": 121,
   "id": "69927018-0fa8-47bd-86ef-57c889c0b557",
   "metadata": {},
   "outputs": [
    {
     "name": "stdout",
     "output_type": "stream",
     "text": [
      "Oh, black Persian meow!\n",
      "Was not your life\n",
      "already cursed with offspring?\n",
      "We took you for rest to that old\n",
      "Yankee farm, — so lonely\n",
      "and with so many field m**e\n",
      "in the long grass —\n",
      "and you return to us\n",
      "in this condition, Catalina!\n",
      "\n",
      "CAT meow CCat CaT caT\n"
     ]
    }
   ],
   "source": [
    "import re\n",
    "\n",
    "def replace_word(txt, bw_data):\n",
    "    for i in range(len(bw_data)):\n",
    "        l = len(bw_data[i])\n",
    "        badword = bw_data[i][0]\n",
    "        all_insensitive_cases = re.findall(f'(?i){badword}',\n",
    "                                           txt)\n",
    "        \n",
    "        for ins_case in all_insensitive_cases:\n",
    "\n",
    "            if l == 2:\n",
    "                alternator = bw_data[i][1]\n",
    "                # print(f\"{badword}, {alternator}\")\n",
    "\n",
    "                txt = txt.replace(badword, alternator)\n",
    "                # txt = re.sub(r\"\\bin\\b\", )\n",
    "\n",
    "            if l == 1:\n",
    "                first_letter = badword[0]\n",
    "                last_letter = badword[-1]\n",
    "                bw_len = len(badword)\n",
    "                number_of_asterisk = bw_len - 2\n",
    "                mid_word = \"*\" * number_of_asterisk\n",
    "                censored_word = first_letter + mid_word + last_letter\n",
    "                # print(censored_word)\n",
    "                txt = txt.replace(badword, censored_word)\n",
    "\n",
    "    # print(txt)\n",
    "    return txt\n",
    "\n",
    "output = replace_word(txt, bw_data)\n",
    "print(output)"
   ]
  },
  {
   "cell_type": "code",
   "execution_count": 122,
   "id": "bf7a8f70-1d8d-4597-ae56-d65473937933",
   "metadata": {},
   "outputs": [
    {
     "data": {
      "text/plain": [
       "[['cat', 'meow'], ['mice'], ['cheese']]"
      ]
     },
     "execution_count": 122,
     "metadata": {},
     "output_type": "execute_result"
    }
   ],
   "source": [
    "bw_data"
   ]
  },
  {
   "cell_type": "code",
   "execution_count": 128,
   "id": "195f2e1f-c020-4c12-b4e2-383ff377f042",
   "metadata": {},
   "outputs": [
    {
     "name": "stdout",
     "output_type": "stream",
     "text": [
      "['cat', 'Cat', 'CAT', 'cat', 'Cat', 'CaT', 'caT']\n",
      "['mice']\n",
      "[]\n"
     ]
    }
   ],
   "source": [
    "def add_bw_data(bw_data):\n",
    "    # print(len(bw_data))\n",
    "    for bw_dt in bw_data:\n",
    "        bw = bw_dt[0]\n",
    "        all_insensitive_cases = re.findall(f'(?i){bw}', txt)\n",
    "        print(all_insensitive_cases)\n",
    "        \n",
    "add_bw_data(bw_data)"
   ]
  },
  {
   "cell_type": "code",
   "execution_count": 130,
   "id": "4a5f2e13-2f54-47e0-892f-204c51083c2e",
   "metadata": {},
   "outputs": [
    {
     "name": "stdout",
     "output_type": "stream",
     "text": [
      "[]\n"
     ]
    }
   ],
   "source": [
    "bw = \"king\"\n",
    "all_insensitive_cases = re.findall(f'(?i){bw}', txt)\n",
    "print(all_insensitive_cases)"
   ]
  },
  {
   "cell_type": "code",
   "execution_count": 133,
   "id": "27e55c60-e6c6-4240-b639-d0f0d34a34cb",
   "metadata": {},
   "outputs": [
    {
     "name": "stdout",
     "output_type": "stream",
     "text": [
      "Oh, black Persian meow!\n",
      "Was not your life\n",
      "already cursed with offspring?\n",
      "We took you for rest to that old\n",
      "Yankee farm, — so lonely\n",
      "and with so many field m**e\n",
      "in the long grass —\n",
      "and you return to us\n",
      "in this condition, Catalina!\n",
      "\n",
      "meow meow CCat meow meow\n"
     ]
    }
   ],
   "source": [
    "# ##########################\n",
    "import re\n",
    "\n",
    "def replace_word(txt, bw_data):\n",
    "    for i in range(len(bw_data)):\n",
    "        l = len(bw_data[i])\n",
    "        badword = bw_data[i][0]\n",
    "        all_insensitive_cases = re.findall(f'(?i){badword}',\n",
    "                                           txt)\n",
    "        \n",
    "        for ins_case in all_insensitive_cases:\n",
    "\n",
    "            if l == 2:\n",
    "                alternator = bw_data[i][1]\n",
    "                # print(f\"{badword}, {alternator}\")\n",
    "\n",
    "                # txt = txt.replace(ins_case, alternator)\n",
    "                txt = re.sub(fr\"\\b{ins_case}\\b\", alternator, txt)\n",
    "\n",
    "            if l == 1:\n",
    "                first_letter = ins_case[0]\n",
    "                last_letter = ins_case[-1]\n",
    "                bw_len = len(ins_case)\n",
    "                number_of_asterisk = bw_len - 2\n",
    "                mid_word = \"*\" * number_of_asterisk\n",
    "                censored_word = first_letter + mid_word + last_letter\n",
    "                # print(censored_word)\n",
    "                txt = txt.replace(ins_case, censored_word)\n",
    "\n",
    "    # print(txt)\n",
    "    return txt\n",
    "\n",
    "output = replace_word(txt, bw_data)\n",
    "print(output)"
   ]
  },
  {
   "cell_type": "code",
   "execution_count": 113,
   "id": "1d4afa44-a966-4b92-9704-29089c4a62bc",
   "metadata": {},
   "outputs": [
    {
     "data": {
      "text/plain": [
       "'**'"
      ]
     },
     "execution_count": 113,
     "metadata": {},
     "output_type": "execute_result"
    }
   ],
   "source": [
    "\"*\" * 2"
   ]
  },
  {
   "cell_type": "code",
   "execution_count": 115,
   "id": "f6b8bbe4-7b93-49c6-8afc-17a2f993b249",
   "metadata": {},
   "outputs": [
    {
     "data": {
      "text/plain": [
       "'office administration  delhi'"
      ]
     },
     "execution_count": 115,
     "metadata": {},
     "output_type": "execute_result"
    }
   ],
   "source": [
    "re.sub(r'\\bin\\b', '', 'office administration in delhi')\n",
    "# 'office administration  delhi'"
   ]
  },
  {
   "cell_type": "markdown",
   "id": "5725385c-bf17-410e-8a76-f5c7d995723b",
   "metadata": {},
   "source": [
    "# case insensitivity\n",
    "\n",
    "cat\n",
    "Cat\n",
    "cAt\n",
    "CAT\n",
    "caT\n"
   ]
  },
  {
   "cell_type": "code",
   "execution_count": 110,
   "id": "16af53ea-528b-4eaa-8f7c-32e85d6110c0",
   "metadata": {},
   "outputs": [],
   "source": [
    "from itertools import permutations"
   ]
  },
  {
   "cell_type": "code",
   "execution_count": 111,
   "id": "e309de63-44df-4005-a504-fc71df9f0e2b",
   "metadata": {},
   "outputs": [
    {
     "name": "stdout",
     "output_type": "stream",
     "text": [
      "('c', 'a', 't')\n",
      "('c', 't', 'a')\n",
      "('a', 'c', 't')\n",
      "('a', 't', 'c')\n",
      "('t', 'c', 'a')\n",
      "('t', 'a', 'c')\n"
     ]
    }
   ],
   "source": [
    "# word = \"cat\"\n",
    "for perm in permutations(word):\n",
    "    print(perm)\n",
    "    "
   ]
  },
  {
   "cell_type": "code",
   "execution_count": 112,
   "id": "a252b200-d292-465a-a46d-2b8f1b676eb0",
   "metadata": {},
   "outputs": [],
   "source": [
    "import re"
   ]
  },
  {
   "cell_type": "code",
   "execution_count": 91,
   "id": "b430d777-d199-4d5a-bf4f-70f13ec95d5c",
   "metadata": {},
   "outputs": [
    {
     "data": {
      "text/plain": [
       "<re.Match object; span=(0, 4), match='TeSt'>"
      ]
     },
     "execution_count": 91,
     "metadata": {},
     "output_type": "execute_result"
    }
   ],
   "source": [
    "re.search('test', 'TeSt', re.IGNORECASE)"
   ]
  },
  {
   "cell_type": "code",
   "execution_count": 92,
   "id": "b253c79e-6f9c-4ba8-9e5b-f5d5c7cb496a",
   "metadata": {},
   "outputs": [
    {
     "data": {
      "text/plain": [
       "<re.Match object; span=(0, 4), match='TeSt'>"
      ]
     },
     "execution_count": 92,
     "metadata": {},
     "output_type": "execute_result"
    }
   ],
   "source": [
    "re.match('test', 'TeSt', re.IGNORECASE)"
   ]
  },
  {
   "cell_type": "code",
   "execution_count": 96,
   "id": "48c9f088-01a3-44e3-a887-dbf1befd0f2a",
   "metadata": {},
   "outputs": [
    {
     "data": {
      "text/plain": [
       "['cat', 'Cat', 'cAt', 'CAT', 'caT']"
      ]
     },
     "execution_count": 96,
     "metadata": {},
     "output_type": "execute_result"
    }
   ],
   "source": [
    "cccat = \" cat Cat cAt CAT caT tot hahaha kick\"\n",
    "re.findall('(?i)cat', cccat)"
   ]
  },
  {
   "cell_type": "code",
   "execution_count": null,
   "id": "3f42da4b-c0a3-4cbf-b605-4b9f6d1fe6b8",
   "metadata": {},
   "outputs": [],
   "source": []
  }
 ],
 "metadata": {
  "kernelspec": {
   "display_name": "Python 3 (ipykernel)",
   "language": "python",
   "name": "python3"
  },
  "language_info": {
   "codemirror_mode": {
    "name": "ipython",
    "version": 3
   },
   "file_extension": ".py",
   "mimetype": "text/x-python",
   "name": "python",
   "nbconvert_exporter": "python",
   "pygments_lexer": "ipython3",
   "version": "3.9.13"
  }
 },
 "nbformat": 4,
 "nbformat_minor": 5
}
