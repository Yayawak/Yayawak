{
 "cells": [
  {
   "cell_type": "code",
   "execution_count": 2,
   "id": "e5add5fc-3261-4b2c-8a65-649f716472ff",
   "metadata": {},
   "outputs": [],
   "source": [
    "msg = \"\"\"\n",
    "Oh, black Persian cat!\n",
    "Was not your life\n",
    "already cursed with offspring?\n",
    "We took you for rest to that old\n",
    "Yankee farm, — so lonely\n",
    "and with so many field mice\n",
    "in the long grass —\n",
    "and you return to us\n",
    "in this condition, Catalina!\n",
    "\"\"\""
   ]
  },
  {
   "cell_type": "code",
   "execution_count": 13,
   "id": "93e57352-a5c5-4274-80d1-06fb1a2912e9",
   "metadata": {},
   "outputs": [
    {
     "data": {
      "text/plain": [
       "'\\nOh, black Persian cat!\\nWas not your life\\nalready cursed with offspring?\\nWe took you for rest to that old\\nYankee farm, — so lonely\\nand with so many field mice\\nin the long grass —\\nand you return to us\\nin this condition, Catalina!\\n'"
      ]
     },
     "execution_count": 13,
     "metadata": {},
     "output_type": "execute_result"
    }
   ],
   "source": [
    "msg"
   ]
  },
  {
   "cell_type": "code",
   "execution_count": 1,
   "id": "e5cba33f-a8f6-471d-8838-7c9eee3ad217",
   "metadata": {},
   "outputs": [
    {
     "data": {
      "text/plain": [
       "['Oh,',\n",
       " 'black',\n",
       " 'Persian',\n",
       " 'cat!\\nWas',\n",
       " 'not',\n",
       " 'your',\n",
       " 'life\\nalready',\n",
       " 'cursed',\n",
       " 'with',\n",
       " 'offspring?\\nWe',\n",
       " 'took',\n",
       " 'you',\n",
       " 'for',\n",
       " 'rest',\n",
       " 'to',\n",
       " 'that',\n",
       " 'old\\nYankee',\n",
       " 'farm,',\n",
       " '—',\n",
       " 'so',\n",
       " 'lonely\\nand',\n",
       " 'with',\n",
       " 'so',\n",
       " 'many',\n",
       " 'field',\n",
       " 'mice\\nin',\n",
       " 'the',\n",
       " 'long',\n",
       " 'grass',\n",
       " '—\\nand',\n",
       " 'you',\n",
       " 'return',\n",
       " 'to',\n",
       " 'us\\nin',\n",
       " 'this',\n",
       " 'condition,',\n",
       " 'Catalina!\\n\\nCAT',\n",
       " 'cat',\n",
       " 'CCat',\n",
       " 'CaT',\n",
       " 'caT']"
      ]
     },
     "execution_count": 1,
     "metadata": {},
     "output_type": "execute_result"
    }
   ],
   "source": [
    "def get_msg():\n",
    "    path = \"msg.txt\"\n",
    "    txt = \"\"\n",
    "    with open(path, \"r\") as f:\n",
    "        txt = f.read()\n",
    "    return txt.split(\" \")\n",
    "\n",
    "txt = get_msg()\n",
    "txt"
   ]
  },
  {
   "cell_type": "code",
   "execution_count": 2,
   "id": "f65a7a46-da7d-4479-83c4-f4ace4aeb538",
   "metadata": {},
   "outputs": [
    {
     "data": {
      "text/plain": [
       "[['cat', 'meow'], ['mice'], ['cheese']]"
      ]
     },
     "execution_count": 2,
     "metadata": {},
     "output_type": "execute_result"
    }
   ],
   "source": [
    "# def read_badwords():\n",
    "def get_badword_and_alternatives():\n",
    "    file_name = \"badwords.txt\"\n",
    "    \n",
    "    bw_with_alters = []\n",
    "    with open(file_name, \"r\") as f:\n",
    "        lines = f.readlines()\n",
    "    for i in range(len(lines)):\n",
    "        cleaned_line = lines[i].strip().split(\" \")\n",
    "        bw_with_alters.append(cleaned_line)\n",
    "        \n",
    "    return bw_with_alters\n",
    "\n",
    "bw_data = get_badword_and_alternatives()\n",
    "bw_data"
   ]
  },
  {
   "cell_type": "code",
   "execution_count": 50,
   "id": "a08a7bc9-8792-4bae-8b76-bebb1219c3dd",
   "metadata": {},
   "outputs": [
    {
     "name": "stdout",
     "output_type": "stream",
     "text": [
      "['Oh,', 'black', 'Persian', 'cat!\\nWas', 'not', 'your', 'life\\nalready', 'cursed', 'with', 'offspring?\\nWe', 'took', 'you', 'for', 'rest', 'to', 'that', 'old\\nYankee', 'farm,', '—', 'so', 'lonely\\nand', 'with', 'so', 'many', 'field', 'mice\\nin', 'the', 'long', 'grass', '—\\nand', 'you', 'return', 'to', 'us\\nin', 'this', 'condition,', 'Catalina!\\n\\nCAT', 'meow', 'CCat', 'meow', 'meow']\n"
     ]
    }
   ],
   "source": [
    "print(txt)"
   ]
  },
  {
   "cell_type": "code",
   "execution_count": 51,
   "id": "671baabb-d546-484a-b5b6-de282317fde7",
   "metadata": {},
   "outputs": [
    {
     "data": {
      "text/plain": [
       "['Oh,',\n",
       " 'black',\n",
       " 'Persian',\n",
       " 'cat!\\nWas',\n",
       " 'not',\n",
       " 'your',\n",
       " 'life\\nalready',\n",
       " 'cursed',\n",
       " 'with',\n",
       " 'offspring?\\nWe',\n",
       " 'took',\n",
       " 'you',\n",
       " 'for',\n",
       " 'rest',\n",
       " 'to',\n",
       " 'that',\n",
       " 'old\\nYankee',\n",
       " 'farm,',\n",
       " '—',\n",
       " 'so',\n",
       " 'lonely\\nand',\n",
       " 'with',\n",
       " 'so',\n",
       " 'many',\n",
       " 'field',\n",
       " 'mice\\nin',\n",
       " 'the',\n",
       " 'long',\n",
       " 'grass',\n",
       " '—\\nand',\n",
       " 'you',\n",
       " 'return',\n",
       " 'to',\n",
       " 'us\\nin',\n",
       " 'this',\n",
       " 'condition,',\n",
       " 'Catalina!\\n\\nCAT',\n",
       " 'meow',\n",
       " 'CCat',\n",
       " 'meow',\n",
       " 'meow']"
      ]
     },
     "execution_count": 51,
     "metadata": {},
     "output_type": "execute_result"
    }
   ],
   "source": [
    "txt"
   ]
  },
  {
   "cell_type": "code",
   "execution_count": 52,
   "id": "2e201f0e-a338-4c44-805f-d41f16497396",
   "metadata": {},
   "outputs": [
    {
     "data": {
      "text/plain": [
       "[['cat', 'meow'], ['mice'], ['cheese']]"
      ]
     },
     "execution_count": 52,
     "metadata": {},
     "output_type": "execute_result"
    }
   ],
   "source": [
    "bw_data"
   ]
  },
  {
   "cell_type": "code",
   "execution_count": null,
   "id": "7aa3d7a5-748e-40d1-b6af-c69558387200",
   "metadata": {},
   "outputs": [],
   "source": []
  },
  {
   "cell_type": "code",
   "execution_count": 40,
   "id": "69927018-0fa8-47bd-86ef-57c889c0b557",
   "metadata": {},
   "outputs": [
    {
     "ename": "IndentationError",
     "evalue": "expected an indented block (1267175055.py, line 22)",
     "output_type": "error",
     "traceback": [
      "\u001b[0;36m  File \u001b[0;32m\"/var/folders/tq/1dn18qvs46z75s3216p47sbm0000gn/T/ipykernel_2916/1267175055.py\"\u001b[0;36m, line \u001b[0;32m22\u001b[0m\n\u001b[0;31m    if l == 1:\u001b[0m\n\u001b[0m    ^\u001b[0m\n\u001b[0;31mIndentationError\u001b[0m\u001b[0;31m:\u001b[0m expected an indented block\n"
     ]
    }
   ],
   "source": [
    "import re\n",
    "\n",
    "def replace_word(txt, bw_data):\n",
    "    for i in range(len(bw_data)):\n",
    "        l = len(bw_data[i])\n",
    "        badword = bw_data[i][0]\n",
    "        all_insensitive_cases = re.findall(f'(?i){badword}',\n",
    "                                           txt)\n",
    "        \n",
    "        for ins_case in all_insensitive_cases:\n",
    "\n",
    "            if l == 2:\n",
    "                alternator = bw_data[i][1]\n",
    "                # print(f\"{badword}, {alternator}\")\n",
    "\n",
    "                # txt = txt.replace(badword, alternator)\n",
    "                for word in txt:\n",
    "                    if word == ins_case:\n",
    "                        \n",
    "                    \n",
    "\n",
    "            if l == 1:\n",
    "                first_letter = badword[0]\n",
    "                last_letter = badword[-1]\n",
    "                bw_len = len(badword)\n",
    "                number_of_asterisk = bw_len - 2\n",
    "                mid_word = \"*\" * number_of_asterisk\n",
    "                censored_word = first_letter + mid_word + last_letter\n",
    "                # print(censored_word)\n",
    "                txt = txt.replace(badword, censored_word)\n",
    "\n",
    "    # print(txt)\n",
    "    return txt\n",
    "\n",
    "output = replace_word(txt, bw_data)\n",
    "print(output)"
   ]
  },
  {
   "cell_type": "code",
   "execution_count": 42,
   "id": "d092e3ed-3254-4ccf-814a-07be22e8be5c",
   "metadata": {},
   "outputs": [
    {
     "data": {
      "text/plain": [
       "'*aLieN!'"
      ]
     },
     "execution_count": 42,
     "metadata": {},
     "output_type": "execute_result"
    }
   ],
   "source": [
    "# w = \"* alien !\"\n",
    "w = \"*aLieN!\"\n",
    "pat = \"alien\"\n",
    "re.sub(rf\"\\b{pat}\\b\", \"\", w)\n",
    "# re.sub(f\"\\balien\\b\", \"\", w)"
   ]
  },
  {
   "cell_type": "code",
   "execution_count": 43,
   "id": "da3aee4c-10cd-43b1-b085-4cfff974b613",
   "metadata": {},
   "outputs": [
    {
     "data": {
      "text/plain": [
       "'aLieN'"
      ]
     },
     "execution_count": 43,
     "metadata": {},
     "output_type": "execute_result"
    }
   ],
   "source": [
    "re.sub(r'\\W+', \"\", w)"
   ]
  },
  {
   "cell_type": "code",
   "execution_count": 44,
   "id": "d7c43194-5e7d-4353-be3e-25ee1c115245",
   "metadata": {},
   "outputs": [
    {
     "data": {
      "text/plain": [
       "'alien'"
      ]
     },
     "execution_count": 44,
     "metadata": {},
     "output_type": "execute_result"
    }
   ],
   "source": [
    "re.sub(r'\\W+', \"\", w).lower()"
   ]
  },
  {
   "cell_type": "code",
   "execution_count": 49,
   "id": "d91fe871-d6a2-4e23-817e-ef38f40ce0b4",
   "metadata": {},
   "outputs": [
    {
     "name": "stdout",
     "output_type": "stream",
     "text": [
      "Left : oh \t Right : cat\n",
      "Left : oh \t Right : mice\n",
      "Left : oh \t Right : cheese\n",
      "Left : black \t Right : cat\n",
      "Left : black \t Right : mice\n",
      "Left : black \t Right : cheese\n",
      "Left : persian \t Right : cat\n",
      "Left : persian \t Right : mice\n",
      "Left : persian \t Right : cheese\n",
      "Left : catwas \t Right : cat\n",
      "Left : catwas \t Right : mice\n",
      "Left : catwas \t Right : cheese\n",
      "Left : not \t Right : cat\n",
      "Left : not \t Right : mice\n",
      "Left : not \t Right : cheese\n",
      "Left : your \t Right : cat\n",
      "Left : your \t Right : mice\n",
      "Left : your \t Right : cheese\n",
      "Left : lifealready \t Right : cat\n",
      "Left : lifealready \t Right : mice\n",
      "Left : lifealready \t Right : cheese\n",
      "Left : cursed \t Right : cat\n",
      "Left : cursed \t Right : mice\n",
      "Left : cursed \t Right : cheese\n",
      "Left : with \t Right : cat\n",
      "Left : with \t Right : mice\n",
      "Left : with \t Right : cheese\n",
      "Left : offspringwe \t Right : cat\n",
      "Left : offspringwe \t Right : mice\n",
      "Left : offspringwe \t Right : cheese\n",
      "Left : took \t Right : cat\n",
      "Left : took \t Right : mice\n",
      "Left : took \t Right : cheese\n",
      "Left : you \t Right : cat\n",
      "Left : you \t Right : mice\n",
      "Left : you \t Right : cheese\n",
      "Left : for \t Right : cat\n",
      "Left : for \t Right : mice\n",
      "Left : for \t Right : cheese\n",
      "Left : rest \t Right : cat\n",
      "Left : rest \t Right : mice\n",
      "Left : rest \t Right : cheese\n",
      "Left : to \t Right : cat\n",
      "Left : to \t Right : mice\n",
      "Left : to \t Right : cheese\n",
      "Left : that \t Right : cat\n",
      "Left : that \t Right : mice\n",
      "Left : that \t Right : cheese\n",
      "Left : oldyankee \t Right : cat\n",
      "Left : oldyankee \t Right : mice\n",
      "Left : oldyankee \t Right : cheese\n",
      "Left : farm \t Right : cat\n",
      "Left : farm \t Right : mice\n",
      "Left : farm \t Right : cheese\n",
      "Left :  \t Right : cat\n",
      "Left :  \t Right : mice\n",
      "Left :  \t Right : cheese\n",
      "Left : so \t Right : cat\n",
      "Left : so \t Right : mice\n",
      "Left : so \t Right : cheese\n",
      "Left : lonelyand \t Right : cat\n",
      "Left : lonelyand \t Right : mice\n",
      "Left : lonelyand \t Right : cheese\n",
      "Left : with \t Right : cat\n",
      "Left : with \t Right : mice\n",
      "Left : with \t Right : cheese\n",
      "Left : so \t Right : cat\n",
      "Left : so \t Right : mice\n",
      "Left : so \t Right : cheese\n",
      "Left : many \t Right : cat\n",
      "Left : many \t Right : mice\n",
      "Left : many \t Right : cheese\n",
      "Left : field \t Right : cat\n",
      "Left : field \t Right : mice\n",
      "Left : field \t Right : cheese\n",
      "Left : micein \t Right : cat\n",
      "Left : micein \t Right : mice\n",
      "Left : micein \t Right : cheese\n",
      "Left : the \t Right : cat\n",
      "Left : the \t Right : mice\n",
      "Left : the \t Right : cheese\n",
      "Left : long \t Right : cat\n",
      "Left : long \t Right : mice\n",
      "Left : long \t Right : cheese\n",
      "Left : grass \t Right : cat\n",
      "Left : grass \t Right : mice\n",
      "Left : grass \t Right : cheese\n",
      "Left : and \t Right : cat\n",
      "Left : and \t Right : mice\n",
      "Left : and \t Right : cheese\n",
      "Left : you \t Right : cat\n",
      "Left : you \t Right : mice\n",
      "Left : you \t Right : cheese\n",
      "Left : return \t Right : cat\n",
      "Left : return \t Right : mice\n",
      "Left : return \t Right : cheese\n",
      "Left : to \t Right : cat\n",
      "Left : to \t Right : mice\n",
      "Left : to \t Right : cheese\n",
      "Left : usin \t Right : cat\n",
      "Left : usin \t Right : mice\n",
      "Left : usin \t Right : cheese\n",
      "Left : this \t Right : cat\n",
      "Left : this \t Right : mice\n",
      "Left : this \t Right : cheese\n",
      "Left : condition \t Right : cat\n",
      "Left : condition \t Right : mice\n",
      "Left : condition \t Right : cheese\n",
      "Left : catalinacat \t Right : cat\n",
      "Left : catalinacat \t Right : mice\n",
      "Left : catalinacat \t Right : cheese\n",
      "Left : meow \t Right : cat\n",
      "Left : meow \t Right : mice\n",
      "Left : meow \t Right : cheese\n",
      "Left : ccat \t Right : cat\n",
      "Left : ccat \t Right : mice\n",
      "Left : ccat \t Right : cheese\n",
      "Left : meow \t Right : cat\n",
      "Left : meow \t Right : mice\n",
      "Left : meow \t Right : cheese\n",
      "Left : meow \t Right : cat\n",
      "Left : meow \t Right : mice\n",
      "Left : meow \t Right : cheese\n",
      "Oh, black Persian cat!\n",
      "Was not your life\n",
      "already cursed with offspring?\n",
      "We took you for rest to that old\n",
      "Yankee farm, — so lonely\n",
      "and with so many field mice\n",
      "in the long grass —\n",
      "and you return to us\n",
      "in this condition, Catalina!\n",
      "\n",
      "CAT meow CCat meow meow "
     ]
    }
   ],
   "source": [
    "import re\n",
    "\n",
    "def replace_word(txt, bw_data):\n",
    "    for i, word in enumerate(txt):\n",
    "        for bw_dt in bw_data:\n",
    "            l = len(bw_dt)\n",
    "            bw = bw_dt[0]\n",
    "            \n",
    "            # print(word.lower().strip())\n",
    "            # if word.lower() == bw.lower():\n",
    "            # print(bw.lower())\n",
    "            \n",
    "            left = re.sub(r'\\W+', \"\", word).lower()\n",
    "            right = bw.lower()\n",
    "            print(f\"Left : {left} \\t Right : {right}\")\n",
    "            if left == right:\n",
    "                print(f\"l = {l}\")\n",
    "                if l == 2:\n",
    "                    # print(\"here\")\n",
    "                    alternator = bw_dt[1]\n",
    "                    print(alternator)\n",
    "                    txt[i] = alternator\n",
    "                if l == 1:\n",
    "                    first_letter = word[0]\n",
    "                    last_letter = word[-1]\n",
    "                    bw_len = len(word)\n",
    "                    number_of_asterisk = bw_len - 2\n",
    "                    mid_word = \"*\" * number_of_asterisk\n",
    "                    censored_word = first_letter + mid_word + last_letter\n",
    "                    txt[i] = censored_word\n",
    "            else:\n",
    "                ...\n",
    "                # print(\"here\")\n",
    "                \n",
    "    return txt\n",
    "\n",
    "output = replace_word(txt, bw_data)\n",
    "# print(output)\n",
    "\n",
    "for st in output:\n",
    "    print(st, end=' ')"
   ]
  },
  {
   "cell_type": "code",
   "execution_count": 17,
   "id": "755d33af-f553-4deb-b261-8ab6e8ffb9a0",
   "metadata": {},
   "outputs": [
    {
     "data": {
      "text/plain": [
       "[['cat', 'meow'], ['mice'], ['cheese']]"
      ]
     },
     "execution_count": 17,
     "metadata": {},
     "output_type": "execute_result"
    }
   ],
   "source": [
    "bw_data"
   ]
  },
  {
   "cell_type": "code",
   "execution_count": 99,
   "id": "27e55c60-e6c6-4240-b639-d0f0d34a34cb",
   "metadata": {},
   "outputs": [
    {
     "name": "stdout",
     "output_type": "stream",
     "text": [
      "Oh, black Persian meow!\n",
      "Was not your life\n",
      "already cursed with offspring?\n",
      "We took you for rest to that old\n",
      "Yankee farm, — so lonely\n",
      "and with so many field m**e\n",
      "in the long grass —\n",
      "and you return to us\n",
      "in this condition, meowalina!\n"
     ]
    }
   ],
   "source": [
    "import re\n",
    "\n",
    "def replace_word(txt, bw_data):\n",
    "    for i in range(len(bw_data)):\n",
    "        l = len(bw_data[i])\n",
    "        badword = bw_data[i][0]\n",
    "        all_insensitive_cases = re.findall(f'(?i){badword}',\n",
    "                                           txt)\n",
    "        \n",
    "        for ins_case in all_insensitive_cases:\n",
    "\n",
    "            if l == 2:\n",
    "                alternator = bw_data[i][1]\n",
    "                # print(f\"{badword}, {alternator}\")\n",
    "\n",
    "                txt = txt.replace(ins_case, alternator)\n",
    "\n",
    "            if l == 1:\n",
    "                first_letter = ins_case[0]\n",
    "                last_letter = ins_case[-1]\n",
    "                bw_len = len(ins_case)\n",
    "                number_of_asterisk = bw_len - 2\n",
    "                mid_word = \"*\" * number_of_asterisk\n",
    "                censored_word = first_letter + mid_word + last_letter\n",
    "                # print(censored_word)\n",
    "                txt = txt.replace(ins_case, censored_word)\n",
    "\n",
    "    # print(txt)\n",
    "    return txt\n",
    "\n",
    "output = replace_word(txt, bw_data)\n",
    "print(output)"
   ]
  },
  {
   "cell_type": "code",
   "execution_count": 66,
   "id": "1d4afa44-a966-4b92-9704-29089c4a62bc",
   "metadata": {},
   "outputs": [
    {
     "data": {
      "text/plain": [
       "'**'"
      ]
     },
     "execution_count": 66,
     "metadata": {},
     "output_type": "execute_result"
    }
   ],
   "source": [
    "\"*\" * 2"
   ]
  },
  {
   "cell_type": "markdown",
   "id": "5725385c-bf17-410e-8a76-f5c7d995723b",
   "metadata": {},
   "source": [
    "# case insensitivity\n",
    "\n",
    "cat\n",
    "Cat\n",
    "cAt\n",
    "CAT\n",
    "caT\n"
   ]
  },
  {
   "cell_type": "code",
   "execution_count": 88,
   "id": "16af53ea-528b-4eaa-8f7c-32e85d6110c0",
   "metadata": {},
   "outputs": [],
   "source": [
    "from itertools import permutations"
   ]
  },
  {
   "cell_type": "code",
   "execution_count": 89,
   "id": "e309de63-44df-4005-a504-fc71df9f0e2b",
   "metadata": {},
   "outputs": [
    {
     "name": "stdout",
     "output_type": "stream",
     "text": [
      "('c', 'a', 't')\n",
      "('c', 't', 'a')\n",
      "('a', 'c', 't')\n",
      "('a', 't', 'c')\n",
      "('t', 'c', 'a')\n",
      "('t', 'a', 'c')\n"
     ]
    }
   ],
   "source": [
    "# word = \"cat\"\n",
    "for perm in permutations(word):\n",
    "    print(perm)\n",
    "    "
   ]
  },
  {
   "cell_type": "code",
   "execution_count": 90,
   "id": "a252b200-d292-465a-a46d-2b8f1b676eb0",
   "metadata": {},
   "outputs": [],
   "source": [
    "import re"
   ]
  },
  {
   "cell_type": "code",
   "execution_count": 91,
   "id": "b430d777-d199-4d5a-bf4f-70f13ec95d5c",
   "metadata": {},
   "outputs": [
    {
     "data": {
      "text/plain": [
       "<re.Match object; span=(0, 4), match='TeSt'>"
      ]
     },
     "execution_count": 91,
     "metadata": {},
     "output_type": "execute_result"
    }
   ],
   "source": [
    "re.search('test', 'TeSt', re.IGNORECASE)"
   ]
  },
  {
   "cell_type": "code",
   "execution_count": 92,
   "id": "b253c79e-6f9c-4ba8-9e5b-f5d5c7cb496a",
   "metadata": {},
   "outputs": [
    {
     "data": {
      "text/plain": [
       "<re.Match object; span=(0, 4), match='TeSt'>"
      ]
     },
     "execution_count": 92,
     "metadata": {},
     "output_type": "execute_result"
    }
   ],
   "source": [
    "re.match('test', 'TeSt', re.IGNORECASE)"
   ]
  },
  {
   "cell_type": "code",
   "execution_count": 96,
   "id": "48c9f088-01a3-44e3-a887-dbf1befd0f2a",
   "metadata": {},
   "outputs": [
    {
     "data": {
      "text/plain": [
       "['cat', 'Cat', 'cAt', 'CAT', 'caT']"
      ]
     },
     "execution_count": 96,
     "metadata": {},
     "output_type": "execute_result"
    }
   ],
   "source": [
    "cccat = \" cat Cat cAt CAT caT tot hahaha kick\"\n",
    "re.findall('(?i)cat', cccat)"
   ]
  },
  {
   "cell_type": "code",
   "execution_count": null,
   "id": "3f42da4b-c0a3-4cbf-b605-4b9f6d1fe6b8",
   "metadata": {},
   "outputs": [],
   "source": []
  }
 ],
 "metadata": {
  "kernelspec": {
   "display_name": "Python 3 (ipykernel)",
   "language": "python",
   "name": "python3"
  },
  "language_info": {
   "codemirror_mode": {
    "name": "ipython",
    "version": 3
   },
   "file_extension": ".py",
   "mimetype": "text/x-python",
   "name": "python",
   "nbconvert_exporter": "python",
   "pygments_lexer": "ipython3",
   "version": "3.9.13"
  }
 },
 "nbformat": 4,
 "nbformat_minor": 5
}
