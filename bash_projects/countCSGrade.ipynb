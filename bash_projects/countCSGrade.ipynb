{
 "cells": [
  {
   "cell_type": "code",
   "execution_count": 2,
   "id": "0230feb1-83e1-496d-a827-8fce6770fd8e",
   "metadata": {},
   "outputs": [],
   "source": [
    "import tabulate"
   ]
  },
  {
   "cell_type": "code",
   "execution_count": 4,
   "id": "1ff539d5-ce15-402d-a73d-6e1c01022639",
   "metadata": {},
   "outputs": [],
   "source": [
    "path = \"/Users/rio/Downloads/byID.pdf\"\n",
    "# table = tabulate."
   ]
  },
  {
   "cell_type": "code",
   "execution_count": 5,
   "id": "7a62bb0c-14c6-4bc6-82a9-360f1a5c3752",
   "metadata": {},
   "outputs": [
    {
     "name": "stdout",
     "output_type": "stream",
     "text": [
      "Collecting pytesseract\n",
      "  Downloading pytesseract-0.3.10-py3-none-any.whl (14 kB)\n",
      "Collecting packaging>=21.3\n",
      "  Using cached packaging-21.3-py3-none-any.whl (40 kB)\n",
      "Requirement already satisfied: Pillow>=8.0.0 in /Library/Frameworks/Python.framework/Versions/3.10/lib/python3.10/site-packages (from pytesseract) (9.2.0)\n",
      "Requirement already satisfied: pyparsing!=3.0.5,>=2.0.2 in /Library/Frameworks/Python.framework/Versions/3.10/lib/python3.10/site-packages (from packaging>=21.3->pytesseract) (3.0.9)\n",
      "Installing collected packages: packaging, pytesseract\n",
      "Successfully installed packaging-21.3 pytesseract-0.3.10\n"
     ]
    }
   ],
   "source": [
    "!pip install pytesseract"
   ]
  },
  {
   "cell_type": "code",
   "execution_count": 20,
   "id": "620d0d4c-86dd-464e-b0ef-c3051506f77b",
   "metadata": {},
   "outputs": [
    {
     "name": "stdout",
     "output_type": "stream",
     "text": [
      "<_io.TextIOWrapper name='/Users/rio/Desktop/cs.txt' mode='r' encoding='UTF-8'>\n"
     ]
    }
   ],
   "source": [
    "path_cs = \"/Users/rio/Desktop/cs.txt\"\n",
    "with open(path_cs, mode='r') as f:\n",
    "    # f.write()\n",
    "    # f.readline()\n",
    "    lines = f.readlines()\n",
    "print(f)\n",
    "f.close()"
   ]
  },
  {
   "cell_type": "code",
   "execution_count": 21,
   "id": "42126a25-91a1-4b35-8c55-2510933c4a86",
   "metadata": {},
   "outputs": [
    {
     "data": {
      "text/plain": [
       "['71%\\n', '71%\\n', '51%\\n', '62%\\n', '89%\\n']"
      ]
     },
     "execution_count": 21,
     "metadata": {},
     "output_type": "execute_result"
    }
   ],
   "source": [
    "lines[:5]"
   ]
  },
  {
   "cell_type": "code",
   "execution_count": 22,
   "id": "bb4aac88-bfc5-47b8-8ded-355568b09967",
   "metadata": {},
   "outputs": [],
   "source": [
    "import pandas as pd\n",
    "# lines\n",
    "# pd.rea"
   ]
  },
  {
   "cell_type": "code",
   "execution_count": 25,
   "id": "473156df-2380-48cb-afeb-1ceadd2e19ec",
   "metadata": {},
   "outputs": [],
   "source": [
    "cs = []\n",
    "for line in lines:\n",
    "    # print(line)\n",
    "    l = line.replace(\"\\n\", \"\")\n",
    "    l = l.replace(\"%\", \"\")\n",
    "    l = int(l)\n",
    "    # print(l)\n",
    "    cs += [l]\n",
    "    \n",
    "    \n",
    "    # print(line)\n",
    "    # l = line"
   ]
  },
  {
   "cell_type": "code",
   "execution_count": 31,
   "id": "c7117731-4f36-49f3-948b-f0215f6f6a72",
   "metadata": {},
   "outputs": [
    {
     "data": {
      "text/plain": [
       "61.450980392156865"
      ]
     },
     "execution_count": 31,
     "metadata": {},
     "output_type": "execute_result"
    }
   ],
   "source": [
    "mean = sum(cs) / len(cs)\n",
    "mean"
   ]
  },
  {
   "cell_type": "code",
   "execution_count": 32,
   "id": "ab85b1e5-ff5c-4615-b024-1b3a0e779412",
   "metadata": {},
   "outputs": [],
   "source": [
    "# dev = \n",
    "import numpy as np\n"
   ]
  },
  {
   "cell_type": "code",
   "execution_count": 33,
   "id": "86b05eaf-6753-4d98-8cd1-0808254aabdd",
   "metadata": {},
   "outputs": [
    {
     "data": {
      "text/plain": [
       "array([71, 71, 51, 62, 89, 29, 60, 31, 74, 60, 65, 69, 51, 55, 63, 85, 60,\n",
       "       85, 82, 71, 75, 28, 35, 78, 51, 65, 85, 71, 34, 40, 68, 58, 28, 86,\n",
       "       63, 38, 85, 65, 88, 60, 34, 57, 94, 65, 86, 57, 66, 66, 83, 42, 89,\n",
       "       48, 94, 80, 80, 72,  5, 94, 91, 66, 75, 72, 65, 68, 43, 14, 74, 94,\n",
       "       75, 74, 66, 57, 52, 82, 55, 75, 75, 82, 52, 34, 49, 40, 62, 57, 34,\n",
       "       45, 62, 62, 77, 46, 32, 38, 77, 69, 34, 69, 57, 46, 82, 45, 89, 75,\n",
       "       78, 51, 65, 63, 80, 71, 75, 49, 77, 28, 75, 51, 38, 78, 83, 34, 60,\n",
       "       40, 78, 29, 37, 77, 40, 51, 77, 26, 55, 58, 49, 71, 60, 83, 75, 45,\n",
       "       45, 86, 69, 51, 69, 52, 60, 66, 51, 57, 80, 58, 58, 42, 26, 97, 43])"
      ]
     },
     "execution_count": 33,
     "metadata": {},
     "output_type": "execute_result"
    }
   ],
   "source": [
    "cs_arr = np.array(cs)\n",
    "cs_arr"
   ]
  },
  {
   "cell_type": "code",
   "execution_count": 63,
   "id": "9ba30a7d-23c6-400c-b5c5-d9539a0bcb85",
   "metadata": {},
   "outputs": [],
   "source": [
    "dev_dev = ( ( cs_arr - mean )**2 )"
   ]
  },
  {
   "cell_type": "code",
   "execution_count": 70,
   "id": "98c87626-0e3f-4fb5-aa88-e85497d3f1f5",
   "metadata": {},
   "outputs": [
    {
     "data": {
      "text/plain": [
       "153"
      ]
     },
     "execution_count": 70,
     "metadata": {},
     "output_type": "execute_result"
    }
   ],
   "source": [
    "N = cs_arr.size\n",
    "N\n",
    "# sorted(cs_arr)"
   ]
  },
  {
   "cell_type": "code",
   "execution_count": 111,
   "id": "79ab8bd2-59f3-4cf6-943b-6b025d1a69b6",
   "metadata": {},
   "outputs": [],
   "source": [
    "# sorted(cs_arr)"
   ]
  },
  {
   "cell_type": "code",
   "execution_count": 131,
   "id": "c721a58a-e450-4549-9b8a-567f4154993d",
   "metadata": {},
   "outputs": [],
   "source": [
    "def percentile(arr, p): \n",
    "    # idx = round(p/100) * arr.size\n",
    "    idx = round((arr.size+1) / (p))\n",
    "    print(f\"Index {idx}\")\n",
    "    perc = arr[idx]\n",
    "    return perc"
   ]
  },
  {
   "cell_type": "code",
   "execution_count": 137,
   "id": "f22531a5-5ff3-4cab-8522-d59a4d8e61e5",
   "metadata": {},
   "outputs": [],
   "source": [
    "cs_arr_sorted = sorted(cs_arr)"
   ]
  },
  {
   "cell_type": "code",
   "execution_count": 138,
   "id": "a6bc8866-5b4e-4c84-9892-294f1f8e8f7f",
   "metadata": {},
   "outputs": [
    {
     "data": {
      "text/plain": [
       "153"
      ]
     },
     "execution_count": 138,
     "metadata": {},
     "output_type": "execute_result"
    }
   ],
   "source": [
    "cs_arr.size"
   ]
  },
  {
   "cell_type": "code",
   "execution_count": 133,
   "id": "fd224d03-1153-4084-a41e-f6fad3ecac1b",
   "metadata": {},
   "outputs": [
    {
     "name": "stdout",
     "output_type": "stream",
     "text": [
      "Index 3\n"
     ]
    },
    {
     "data": {
      "text/plain": [
       "62"
      ]
     },
     "execution_count": 133,
     "metadata": {},
     "output_type": "execute_result"
    }
   ],
   "source": [
    "percentile(cs, 50)"
   ]
  },
  {
   "cell_type": "code",
   "execution_count": 136,
   "id": "7a0f79da-1f28-4ddd-aa5e-fb1969dcf561",
   "metadata": {},
   "outputs": [
    {
     "name": "stdout",
     "output_type": "stream",
     "text": [
      "Index 3\n"
     ]
    },
    {
     "data": {
      "text/plain": [
       "62"
      ]
     },
     "execution_count": 136,
     "metadata": {},
     "output_type": "execute_result"
    }
   ],
   "source": [
    "percentile(cs_arr, 50)"
   ]
  },
  {
   "cell_type": "code",
   "execution_count": 135,
   "id": "e62bccc1-16b3-4a74-a06f-db2dcdc566c5",
   "metadata": {},
   "outputs": [
    {
     "name": "stdout",
     "output_type": "stream",
     "text": [
      "Index 2\n"
     ]
    },
    {
     "data": {
      "text/plain": [
       "51"
      ]
     },
     "execution_count": 135,
     "metadata": {},
     "output_type": "execute_result"
    }
   ],
   "source": [
    "percentile(cs_arr, 75)"
   ]
  },
  {
   "cell_type": "code",
   "execution_count": 90,
   "id": "38bdef2d-f399-4d3c-b6a4-7e7b24604e27",
   "metadata": {},
   "outputs": [
    {
     "data": {
      "text/plain": [
       "38.5"
      ]
     },
     "execution_count": 90,
     "metadata": {},
     "output_type": "execute_result"
    }
   ],
   "source": [
    "q1_idx = (cs_arr.size + 1) / 4\n",
    "q1_idx"
   ]
  },
  {
   "cell_type": "code",
   "execution_count": 75,
   "id": "3ef94c6c-7524-4d02-ba70-25798aaf9285",
   "metadata": {},
   "outputs": [
    {
     "data": {
      "text/plain": [
       "1"
      ]
     },
     "execution_count": 75,
     "metadata": {},
     "output_type": "execute_result"
    }
   ],
   "source": [
    "round(1.1)"
   ]
  },
  {
   "cell_type": "code",
   "execution_count": 44,
   "id": "71d00af5-3677-4b7a-bb39-1315a921dde6",
   "metadata": {},
   "outputs": [
    {
     "data": {
      "text/plain": [
       "347.7639369473279"
      ]
     },
     "execution_count": 44,
     "metadata": {},
     "output_type": "execute_result"
    }
   ],
   "source": [
    "var = dev_dev.sum() / cs_arr.size\n",
    "var"
   ]
  },
  {
   "cell_type": "code",
   "execution_count": 49,
   "id": "b388b7e7-ced6-4cbe-85ac-bc494f56f6d3",
   "metadata": {},
   "outputs": [
    {
     "data": {
      "text/plain": [
       "18.64842987887527"
      ]
     },
     "execution_count": 49,
     "metadata": {},
     "output_type": "execute_result"
    }
   ],
   "source": [
    "cs_std = var ** (1/2)\n",
    "cs_std"
   ]
  },
  {
   "cell_type": "code",
   "execution_count": 51,
   "id": "e94488d3-5c47-4e3c-88b0-000249cd5329",
   "metadata": {},
   "outputs": [
    {
     "data": {
      "text/plain": [
       "61.450980392156865"
      ]
     },
     "execution_count": 51,
     "metadata": {},
     "output_type": "execute_result"
    }
   ],
   "source": [
    "mean"
   ]
  },
  {
   "cell_type": "code",
   "execution_count": 52,
   "id": "d7d4414f-dd42-457e-b25e-bc621b53a695",
   "metadata": {},
   "outputs": [
    {
     "data": {
      "text/plain": [
       "(80.09941027103213, 42.802550513281595)"
      ]
     },
     "execution_count": 52,
     "metadata": {},
     "output_type": "execute_result"
    }
   ],
   "source": [
    "mean + cs_std, mean - cs_std"
   ]
  },
  {
   "cell_type": "code",
   "execution_count": 56,
   "id": "2783f92a-263e-446c-b67c-85745cc8e928",
   "metadata": {},
   "outputs": [
    {
     "data": {
      "text/plain": [
       "<AxesSubplot:ylabel='Density'>"
      ]
     },
     "execution_count": 56,
     "metadata": {},
     "output_type": "execute_result"
    },
    {
     "data": {
      "image/png": "[encoded data removed]",
      "text/plain": [
       "<Figure size 432x288 with 1 Axes>"
      ]
     },
     "metadata": {
      "needs_background": "light"
     },
     "output_type": "display_data"
    }
   ],
   "source": [
    "import seaborn as sns\n",
    "\n",
    "sns.kdeplot(cs_arr)"
   ]
  },
  {
   "cell_type": "code",
   "execution_count": 62,
   "id": "47cd080f-d31f-4021-9bbb-e6b23e48a35c",
   "metadata": {},
   "outputs": [],
   "source": [
    "import matplotlib.pyplot as plt"
   ]
  },
  {
   "cell_type": "code",
   "execution_count": null,
   "id": "577af673-a82c-4bc6-9359-0ce45953f8ab",
   "metadata": {},
   "outputs": [],
   "source": []
  },
  {
   "cell_type": "code",
   "execution_count": null,
   "id": "56b765ac-befc-474d-aad3-8d4d449ef424",
   "metadata": {},
   "outputs": [],
   "source": []
  }
 ],
 "metadata": {
  "kernelspec": {
   "display_name": "Python 3 (ipykernel)",
   "language": "python",
   "name": "python3"
  },
  "language_info": {
   "codemirror_mode": {
    "name": "ipython",
    "version": 3
   },
   "file_extension": ".py",
   "mimetype": "text/x-python",
   "name": "python",
   "nbconvert_exporter": "python",
   "pygments_lexer": "ipython3",
   "version": "3.9.12"
  }
 },
 "nbformat": 4,
 "nbformat_minor": 5
}
