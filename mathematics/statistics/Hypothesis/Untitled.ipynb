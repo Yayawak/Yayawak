{
 "cells": [
  {
   "cell_type": "markdown",
   "id": "e9955298-0fe2-4f5f-9c26-4153ac04edf7",
   "metadata": {},
   "source": [
    "# Hypothesis \n",
    "Assumption idea that is prepared to be tested to be True or False ?"
   ]
  },
  {
   "cell_type": "markdown",
   "id": "8b2329f4-a985-40cd-b594-65806309cc8e",
   "metadata": {},
   "source": [
    "# Hypothesis or not ?\n",
    "## Yes : Provable\n",
    "1. The first method yields better products than second.\n",
    "2. Clients like new product \n",
    "3. A-problem is a crucial cause that decrease profit.\n",
    "\n",
    "## No : Unprovable\n",
    "4. What type of product client want ?\n",
    "5. How much next month sales at ?\n",
    "    ##### ข้อนี้ตอบได้โดย prediction hot hypothesis testing\n",
    "6. Next month sale will increase."
   ]
  },
  {
   "cell_type": "code",
   "execution_count": 1,
   "id": "efa2df65-ecf9-4369-bf3f-fe3e8350638d",
   "metadata": {},
   "outputs": [
    {
     "data": {
      "text/html": [
       "0.0434782608695652"
      ],
      "text/latex": [
       "0.0434782608695652"
      ],
      "text/markdown": [
       "0.0434782608695652"
      ],
      "text/plain": [
       "[1] 0.04347826"
      ]
     },
     "metadata": {},
     "output_type": "display_data"
    }
   ],
   "source": [
    "1/23"
   ]
  },
  {
   "cell_type": "code",
   "execution_count": null,
   "id": "bbc67fef-859a-42cd-a21e-393a80e012b5",
   "metadata": {},
   "outputs": [],
   "source": []
  }
 ],
 "metadata": {
  "kernelspec": {
   "display_name": "R",
   "language": "R",
   "name": "ir"
  },
  "language_info": {
   "codemirror_mode": "r",
   "file_extension": ".r",
   "mimetype": "text/x-r-source",
   "name": "R",
   "pygments_lexer": "r",
   "version": "4.2.1"
  }
 },
 "nbformat": 4,
 "nbformat_minor": 5
}
