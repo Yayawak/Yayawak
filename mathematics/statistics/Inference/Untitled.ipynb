{
 "cells": [
  {
   "cell_type": "markdown",
   "id": "8a35a600-a03d-4901-b546-e1bed72b7fcd",
   "metadata": {},
   "source": [
    "# What's Inference\n",
    "\n",
    "steps in reasoning, moving from premises (หลักฐาน) to logical consequences\n",
    "\n",
    "# What's Reason\n",
    "how we form inferences about the world\n",
    "ร้อยเรียงการอนุมานจนเป็นข้อสรุปที่เรียกว่าการให้เหตุผล"
   ]
  },
  {
   "cell_type": "markdown",
   "id": "018c9ded-cac9-4918-8384-022843023e26",
   "metadata": {},
   "source": [
    "# Inference\n",
    "1. Inductive Inference : Aristotle\n",
    "2. Deductive Inference : Sherlock Homes\n",
    "3. Statistic Inference (ของจริงไม่ค่อยใช้)\n",
    "\n",
    "| Step | Induction | Deduction |\n",
    "---| ---| ---\n",
    "1 | Observation | Theory \n",
    "2 | Pattern | Hypothesis \n",
    "3 | Hypothesis | Observation \n",
    "4 | Theory | Confirmation\n",
    "Ex | Sherlock Homes |Aristotle  \n",
    "\n",
    "ลองใช้ Induction\n",
    "- พี่คนด้านหน้าเป็นผู้ชาย\n",
    "- ใส่กางเกงขาสั้นสีดำ\n",
    "- ใส่เสือยืดสบายๆ สีครีมเทา\n",
    "- เขียนกระดาษแทนที่จะใช้ไอแพดตามสมัยนิยม\n",
    "- พกปากกาสีดำ\n",
    "- กินชาเขี่ยวในห้องสมุด\n",
    "- มีกระติกน้ำ และวางไว้บนโต๊ะเลย\n",
    "- นั่งหลังงุ้มๆ อ่านอะไรซักอย่างในไอแพด\n",
    "- ใส่นาฬิกาสีดำ digital รุ่นธรรมดา\n",
    "- มัดจุด\n",
    "- ใส่หูฟังไร้สายสีดำ \n",
    "- มีเครื่องคิดเลขคณิตศาสตร์\n",
    "- ใช้กระเป๋าผ้าสะพายไหล่\n",
    "- ใส่รองเท้าแตะ\n",
    "- มีสมุดสองเล่ม และกำลังอ่านทั้งสองเล่มไปพร้อมๆกัน\n",
    "- ชอบเอามือจับคางเล่นเวลากำลังคิดอะไรบางอย่าง\n",
    "- แมสสีขาว 95\n",
    "\n",
    "Induct ดูว่าพี่เขาเรียนอะไร ชอบอะไร ชอบทำงานที่ไหน ชอบใคร เรียนอะไร ใส่ใจกับการเรียนไหม ทำงานพิเศษรึเปล่า นิสัยขี้เล่นไหม ชอบเพศอะไร\n"
   ]
  },
  {
   "cell_type": "markdown",
   "id": "7d44de22-7a67-4873-adb4-2293cf50f94e",
   "metadata": {},
   "source": [
    "# In Stat we use **Deduction** (Hypothesis Testing)\n",
    "\n",
    "\n",
    "# Data mining มีความคาบเกี่ยวกับ Stat แต่เน้นเรื่องการสร้าง Model การหา Pattern จากข้อมูลขนาดใหญ่ เช่น Consumer behavior"
   ]
  },
  {
   "cell_type": "markdown",
   "id": "64feed01-dac4-4e06-89b0-ebd7274b71d5",
   "metadata": {},
   "source": [
    "# Abductive Reasoning"
   ]
  },
  {
   "cell_type": "code",
   "execution_count": null,
   "id": "ff1401fc-914e-449d-9187-7e3e55c8976a",
   "metadata": {},
   "outputs": [],
   "source": []
  }
 ],
 "metadata": {
  "kernelspec": {
   "display_name": "R",
   "language": "R",
   "name": "ir"
  },
  "language_info": {
   "codemirror_mode": "r",
   "file_extension": ".r",
   "mimetype": "text/x-r-source",
   "name": "R",
   "pygments_lexer": "r",
   "version": "4.2.1"
  }
 },
 "nbformat": 4,
 "nbformat_minor": 5
}
