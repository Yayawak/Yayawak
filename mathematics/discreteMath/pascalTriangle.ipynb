{
 "cells": [
  {
   "cell_type": "code",
   "execution_count": 2,
   "id": "f86eaec7-26ee-4fa7-b50b-889a6866b1e0",
   "metadata": {},
   "outputs": [],
   "source": [
    "import math"
   ]
  },
  {
   "cell_type": "markdown",
   "id": "716083f7-6c85-4451-9f03-a829be9f9b51",
   "metadata": {
    "tags": []
   },
   "source": [
    "# Pascal's Triangle\n",
    "# $$\n",
    "nCr \\: = \\: \\frac{n!}{(n-r)!r!}\n",
    "$$"
   ]
  },
  {
   "cell_type": "code",
   "execution_count": 3,
   "id": "a85c37b6-14d9-41df-b172-ea7f945843e2",
   "metadata": {},
   "outputs": [
    {
     "name": "stdout",
     "output_type": "stream",
     "text": [
      "         1 \n",
      "        1 1 \n",
      "       1 2 1 \n",
      "      1 3 3 1 \n",
      "     1 4 6 4 1 \n",
      "    1 5 10 10 5 1 \n",
      "   1 6 15 20 15 6 1 \n",
      "  1 7 21 35 35 21 7 1 \n",
      " 1 8 28 56 70 56 28 8 1 \n"
     ]
    }
   ],
   "source": [
    "fac = math.factorial\n",
    "def drawPascalTriangle(n):\n",
    "    for i in range(n):\n",
    "        for j in range(n-i):\n",
    "            print(end=\" \")\n",
    "            ...\n",
    "            \n",
    "        for j in range(i+1):\n",
    "            print(fac(i) // (fac(j) * fac(i-j)), end=\" \")\n",
    "        print()\n",
    "drawPascalTriangle(9)\n",
    "\n",
    "    "
   ]
  },
  {
   "cell_type": "code",
   "execution_count": null,
   "id": "e7ba9fbb-a6dc-4d73-a700-1b61a52128a1",
   "metadata": {},
   "outputs": [],
   "source": []
  }
 ],
 "metadata": {
  "kernelspec": {
   "display_name": "Python 3 (ipykernel)",
   "language": "python",
   "name": "python3"
  },
  "language_info": {
   "codemirror_mode": {
    "name": "ipython",
    "version": 3
   },
   "file_extension": ".py",
   "mimetype": "text/x-python",
   "name": "python",
   "nbconvert_exporter": "python",
   "pygments_lexer": "ipython3",
   "version": "3.9.12"
  }
 },
 "nbformat": 4,
 "nbformat_minor": 5
}
