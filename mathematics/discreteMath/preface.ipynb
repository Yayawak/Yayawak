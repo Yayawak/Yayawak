{
 "cells": [
  {
   "cell_type": "markdown",
   "id": "e193a998-f0e5-4a6f-8960-7c027ff28e51",
   "metadata": {},
   "source": [
    "# Discrete Mathematics\n",
    "### Use only ...\n",
    "1. Arithmetic\n",
    "2. Algebra\n"
   ]
  },
  {
   "cell_type": "markdown",
   "id": "a2d7db53-06b1-4ed5-ba3b-59e8ca2376f5",
   "metadata": {},
   "source": [
    "# Enrichment Material\n",
    "ในเนื้อหาตอนหลังๆจะพูดถึงเรื่องที่น่าสนใจในทางคณิตศาสตร์เช่น\n",
    "\n",
    "1. Hamming code\n",
    "2. Counting *onto* function\n",
    "3. Edge-vertex inequility for planar graph\n",
    "4. Hall's matching theorem\n",
    "5. Decision algorithm for the propositional calculus\n",
    "6. Turing machines\n",
    "7. Viterbi's decoding algorithm\n",
    "8. Hofstadter's MIU-language\n",
    "9. lattice-path counting\n",
    "10. Kleen's theorem for regular languages"
   ]
  },
  {
   "cell_type": "code",
   "execution_count": null,
   "id": "dcad41a8-2088-4ab8-b4f8-3f9e9084615c",
   "metadata": {},
   "outputs": [],
   "source": []
  }
 ],
 "metadata": {
  "kernelspec": {
   "display_name": "Python 3 (ipykernel)",
   "language": "python",
   "name": "python3"
  },
  "language_info": {
   "codemirror_mode": {
    "name": "ipython",
    "version": 3
   },
   "file_extension": ".py",
   "mimetype": "text/x-python",
   "name": "python",
   "nbconvert_exporter": "python",
   "pygments_lexer": "ipython3",
   "version": "3.9.12"
  }
 },
 "nbformat": 4,
 "nbformat_minor": 5
}
