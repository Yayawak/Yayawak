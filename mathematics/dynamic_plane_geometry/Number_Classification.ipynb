{
 "cells": [
  {
   "cell_type": "markdown",
   "id": "e0446db0-8715-476b-baa5-11d560ede5b5",
   "metadata": {},
   "source": [
    "#  $$ \n",
    "\\mathbb{N} \\\\\n",
    "\\mathbb{J} \\\\\n",
    "\\frac{a}{b} \\\\\n",
    "\\mathbb{Q} \\: = \\: \\bigl\\{ \\frac{a}{b} | a \\in \\mathbb{J}\n",
    "    , \\; b \\in \\mathbb{J}, \\; b \\neq 0\n",
    "    \\bigr\\}\n",
    "    \\\\\n",
    "    \\text{Rational numbers}\n",
    "$$"
   ]
  },
  {
   "cell_type": "markdown",
   "id": "8e03ff1a-8423-4615-b00d-b19a2fecddc5",
   "metadata": {},
   "source": [
    "# $$\n",
    "% \\mathbb{I}\n",
    "\\mathrm{I}  = \n",
    "    \\bigl\\{ \n",
    "        x + yi \\: | \\:\n",
    "        x \\in \\mathbb{R},\n",
    "        y \\in \\mathbb{R}, \\\\\n",
    "        y \\neq 0, \\\\\n",
    "        i = \\sqrt{-1}\n",
    "    \\bigr\\}\n",
    "$$"
   ]
  },
  {
   "cell_type": "code",
   "execution_count": 2,
   "id": "4d42dba4-6efe-4da5-8e28-3f2a4ae57793",
   "metadata": {},
   "outputs": [],
   "source": [
    "import networkx as nx\n",
    "import pandas as pd\n",
    "import numpy as np\n",
    "import matplotlib.pyplot as plt"
   ]
  },
  {
   "cell_type": "code",
   "execution_count": 4,
   "id": "661df252-ae57-49cd-a5ae-09763eef53be",
   "metadata": {},
   "outputs": [],
   "source": [
    "G = nx.Graph()"
   ]
  },
  {
   "cell_type": "code",
   "execution_count": 7,
   "id": "c29eb08f-011d-4c61-84b5-74ee3572f4fb",
   "metadata": {},
   "outputs": [],
   "source": [
    "G.add_node(1)"
   ]
  },
  {
   "cell_type": "code",
   "execution_count": 9,
   "id": "615a02c4-ceac-41eb-9ccf-47b998aa1e01",
   "metadata": {},
   "outputs": [],
   "source": [
    "G.add_nodes_from([2,3])"
   ]
  },
  {
   "cell_type": "code",
   "execution_count": 10,
   "id": "52bc397f-b579-43e6-a78b-dc6b92307d8d",
   "metadata": {},
   "outputs": [],
   "source": [
    "G.add_nodes_from([\n",
    "    (4, {\"color\":\"red\"}),\n",
    "    (5, {\"color\":\"green\"}),\n",
    "])"
   ]
  },
  {
   "cell_type": "code",
   "execution_count": 18,
   "id": "e9cd200f-e65f-4e97-b637-e94ea45d2346",
   "metadata": {},
   "outputs": [
    {
     "data": {
      "image/png": "[encoded data removed]",
      "text/plain": [
       "<Figure size 432x288 with 1 Axes>"
      ]
     },
     "metadata": {},
     "output_type": "display_data"
    }
   ],
   "source": [
    "G.add_edge(1,2)\n",
    "nx.draw_circular(G)"
   ]
  },
  {
   "cell_type": "code",
   "execution_count": 19,
   "id": "6bff6d2e-3320-4d1c-9957-59a7afb8805c",
   "metadata": {},
   "outputs": [],
   "source": [
    "G.clear()"
   ]
  },
  {
   "cell_type": "code",
   "execution_count": 47,
   "id": "5af059df-fe47-437f-aa42-d23281be936b",
   "metadata": {},
   "outputs": [
    {
     "data": {
      "image/png": "[encoded data removed]",
      "text/plain": [
       "<Figure size 432x288 with 1 Axes>"
      ]
     },
     "metadata": {},
     "output_type": "display_data"
    }
   ],
   "source": [
    "G = nx.DiGraph()\n",
    "G.add_nodes_from([\n",
    "    (1, {\"type\": \"Complex numbers\"}),\n",
    "    (2, {\"type\": \"Imaginary numbers\"}),\n",
    "    (3, {\"type\": \"Real numbers\"}),\n",
    "    (4, {\"type\": \"Rational numbers\"}),\n",
    "    (5, {\"type\": \"Irrational numbers\"}),\n",
    "    (6, {\"type\": \"Integers\"}),\n",
    "    (7, {\"type\": \"Nonintegers\"}),\n",
    "    (8, {\"type\": \"Natural numbers\"}),\n",
    "    (9, {\"type\": \"Zero\"}),\n",
    "    (10, {\"type\": \"Negative of Natural numbers\"}),\n",
    "])\n",
    "G.add_edges_from([\n",
    "    (1,2),(1,3),\n",
    "    (3,4),(3,5),\n",
    "    (4,6),(4,7),\n",
    "    (6,8),(6,9),(6,10)\n",
    "])\n",
    "# nx.draw(G)\n",
    "# nx.draw_kamada_kawai(G)\n",
    "nx.draw_networkx(G, with_labels=True)\n",
    "# nx.draw_spring(G)"
   ]
  },
  {
   "cell_type": "code",
   "execution_count": 2,
   "id": "ea33245e-21ac-4e63-95a1-69edca4a8e5c",
   "metadata": {},
   "outputs": [
    {
     "name": "stdout",
     "output_type": "stream",
     "text": [
      "[[ 5  2]\n",
      " [16  9]]\n"
     ]
    }
   ],
   "source": [
    "import numpy as np\n",
    "A = np.array([\n",
    "    [1,2,0],\n",
    "    [2,1,4]\n",
    "])\n",
    "B = np.array([\n",
    "    [1,0],\n",
    "    [2,1],\n",
    "    [3,2]\n",
    "])\n",
    "\n",
    "print(A.dot(B))"
   ]
  },
  {
   "cell_type": "code",
   "execution_count": null,
   "id": "7b46b3c3-d5b2-4c32-8c79-e45dbbeb7498",
   "metadata": {},
   "outputs": [],
   "source": []
  }
 ],
 "metadata": {
  "kernelspec": {
   "display_name": "Python 3 (ipykernel)",
   "language": "python",
   "name": "python3"
  },
  "language_info": {
   "codemirror_mode": {
    "name": "ipython",
    "version": 3
   },
   "file_extension": ".py",
   "mimetype": "text/x-python",
   "name": "python",
   "nbconvert_exporter": "python",
   "pygments_lexer": "ipython3",
   "version": "3.9.12"
  }
 },
 "nbformat": 4,
 "nbformat_minor": 5
}
