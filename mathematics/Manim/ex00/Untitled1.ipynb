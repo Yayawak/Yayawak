{
 "cells": [
  {
   "cell_type": "code",
   "execution_count": 1,
   "id": "55782a13-5cfd-4cc8-8d5d-9657186b971f",
   "metadata": {},
   "outputs": [],
   "source": [
    "import cv2"
   ]
  },
  {
   "cell_type": "code",
   "execution_count": 2,
   "id": "70489858-9be8-4f59-b2d3-16de4dcae574",
   "metadata": {},
   "outputs": [
    {
     "name": "stdout",
     "output_type": "stream",
     "text": [
      "ManimGL \u001b[32mv1.6.1\u001b[0m\n",
      "\u001b[2;36m[23:16:32]\u001b[0m\u001b[2;36m \u001b[0m\u001b[34mINFO    \u001b[0m Using the default configuration file, which    \u001b]8;id=908096;file:///Users/rio/manim/manimlib/config.py\u001b\\\u001b[2mconfig.py\u001b[0m\u001b]8;;\u001b\\\u001b[2m:\u001b[0m\u001b]8;id=661516;file:///Users/rio/manim/manimlib/config.py#324\u001b\\\u001b[2m324\u001b[0m\u001b]8;;\u001b\\\n",
      "\u001b[2;36m           \u001b[0m         you can modify in                              \u001b[2m             \u001b[0m\n",
      "\u001b[2;36m           \u001b[0m         `\u001b[35m/Users/rio/manim/manimlib/\u001b[0m\u001b[95mdefault_config.yml\u001b[0m` \u001b[2m             \u001b[0m\n",
      "\u001b[2;36m          \u001b[0m\u001b[2;36m \u001b[0m\u001b[34mINFO    \u001b[0m If you want to create a local configuration    \u001b]8;id=501141;file:///Users/rio/manim/manimlib/config.py\u001b\\\u001b[2mconfig.py\u001b[0m\u001b]8;;\u001b\\\u001b[2m:\u001b[0m\u001b]8;id=818226;file:///Users/rio/manim/manimlib/config.py#325\u001b\\\u001b[2m325\u001b[0m\u001b]8;;\u001b\\\n",
      "\u001b[2;36m           \u001b[0m         file, you can create a file named              \u001b[2m             \u001b[0m\n",
      "\u001b[2;36m           \u001b[0m         `custom_config.yml`, or run `manimgl --config` \u001b[2m             \u001b[0m\n",
      "Traceback (most recent call last):\n",
      "  File \"/Users/rio/opt/anaconda3/bin/manimgl\", line 8, in <module>\n",
      "    sys.exit(main())\n",
      "  File \"/Users/rio/manim/manimlib/__main__.py\", line 21, in main\n",
      "    config = manimlib.config.get_configuration(args)\n",
      "  File \"/Users/rio/manim/manimlib/config.py\", line 367, in get_configuration\n",
      "    module = get_module(args.file)\n",
      "  File \"/Users/rio/manim/manimlib/config.py\", line 192, in get_module\n",
      "    module = importlib.util.module_from_spec(spec)\n",
      "  File \"<frozen importlib._bootstrap>\", line 562, in module_from_spec\n",
      "AttributeError: 'NoneType' object has no attribute 'loader'\n"
     ]
    }
   ],
   "source": [
    "# !manimgl SquareToCircle -o\n",
    "from manimlib import *\n",
    "\n",
    "class SquareToCircle(Scene):\n",
    "    def construct(self):\n",
    "        circle = Circle()\n",
    "        circle.set_fill(BLUE, opacity=0.5)\n",
    "        circle.set_stroke(BLUE_E, width=4)\n",
    "\n",
    "        self.add(circle)"
   ]
  },
  {
   "cell_type": "code",
   "execution_count": null,
   "id": "b944eee4-546b-43ac-9eab-64d9ec746b4c",
   "metadata": {},
   "outputs": [],
   "source": []
  }
 ],
 "metadata": {
  "kernelspec": {
   "display_name": "Python 3 (ipykernel)",
   "language": "python",
   "name": "python3"
  },
  "language_info": {
   "codemirror_mode": {
    "name": "ipython",
    "version": 3
   },
   "file_extension": ".py",
   "mimetype": "text/x-python",
   "name": "python",
   "nbconvert_exporter": "python",
   "pygments_lexer": "ipython3",
   "version": "3.9.13"
  }
 },
 "nbformat": 4,
 "nbformat_minor": 5
}
