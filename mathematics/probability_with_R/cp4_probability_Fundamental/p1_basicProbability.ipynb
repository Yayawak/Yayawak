{
 "cells": [
  {
   "cell_type": "markdown",
   "id": "6ddf665a-826b-48f0-9638-b95daefeccfc",
   "metadata": {},
   "source": [
    "# $$ \\text{Probability Introduction} $$\n",
    "\n",
    "# $$\n",
    "\\mathbb{S} \\: : \\text{All possible outcomes of an experiment} \\\\\n",
    "\\mathbb{E} \\: : \\text{subset of } \\mathbb{S} \\\\\n",
    "x \\in S\n",
    "$$"
   ]
  },
  {
   "cell_type": "markdown",
   "id": "c81d5bdd-c6f2-49d2-b150-bfb970bffe0f",
   "metadata": {},
   "source": [
    "# Ex 4.9 : Response time \n",
    "From thie instant the last character of an inquiry is typed on an interactive terminal until the las character of the reponse has been received and displayed on the computer\n",
    "\n",
    "- Experiment : Type an inquery at an interacive terminal\n",
    "- Sample space \n",
    "$\n",
    "S = \\mathbb{R}^{+} = \\{t \\in \\mathbb{R} \\: | \\: t \\gt 0\\} \\quad \\text{response time in milliseconds}\n",
    "$\n",
    "\n",
    "- Event : \n",
    "$\n",
    "E = \\{t \\in \\mathbb{R} \\: | \\: 0 \\lt t \\leq 1\\}\n",
    "$"
   ]
  },
  {
   "cell_type": "code",
   "execution_count": null,
   "id": "3bbf878c-9db4-4427-94a0-6bfd4d220e18",
   "metadata": {},
   "outputs": [],
   "source": []
  },
  {
   "cell_type": "code",
   "execution_count": null,
   "id": "590eb410-cf64-4a59-ae21-611694586f92",
   "metadata": {},
   "outputs": [],
   "source": []
  },
  {
   "cell_type": "markdown",
   "id": "12a336db-fd51-4923-8f25-1c02324945d3",
   "metadata": {},
   "source": [
    "# Ex 4.14 : java, c++ | compilable, un-compilable\n",
    "  | | Java | C++ |\n",
    " --- | --- | --- \n",
    " number of programs | 80 | 120 \n",
    " compilable percentage | 80% | 60 % "
   ]
  },
  {
   "cell_type": "code",
   "execution_count": 15,
   "id": "431fae14-e5d4-486c-88f3-9f88aa11ce40",
   "metadata": {},
   "outputs": [
    {
     "data": {
      "text/html": [
       "136"
      ],
      "text/latex": [
       "136"
      ],
      "text/markdown": [
       "136"
      ],
      "text/plain": [
       "[1] 136"
      ]
     },
     "metadata": {},
     "output_type": "display_data"
    }
   ],
   "source": [
    "120*.6 + 80*.8"
   ]
  },
  {
   "cell_type": "code",
   "execution_count": 17,
   "id": "dd768d3b-11d6-45cd-a4fa-4dccb1bb9d38",
   "metadata": {},
   "outputs": [
    {
     "data": {
      "text/html": [
       "0.68"
      ],
      "text/latex": [
       "0.68"
      ],
      "text/markdown": [
       "0.68"
      ],
      "text/plain": [
       "[1] 0.68"
      ]
     },
     "metadata": {},
     "output_type": "display_data"
    }
   ],
   "source": [
    "136/200"
   ]
  },
  {
   "cell_type": "markdown",
   "id": "d9a5ce25-6ff4-40cb-8966-95a8f0bb44a5",
   "metadata": {},
   "source": [
    "#\n",
    "$$\n",
    "A = \\text{compilable} \\\\\n",
    "B = \\text{from java} \\\\\n",
    "P(A|B) = \\frac{P(B|A)P(A)}{P(B)} \\\\\n",
    "P(B|A) = P(java | compilable) = \\frac{P(compilable|java)P(java)}{P(compilable)}\n",
    "    = \\frac{0.8 x 0.5}{0.68}\n",
    "$$"
   ]
  },
  {
   "cell_type": "code",
   "execution_count": 31,
   "id": "c9570221-9384-4fea-a53d-6770da68de8d",
   "metadata": {},
   "outputs": [
    {
     "data": {
      "text/html": [
       "0.588235294117647"
      ],
      "text/latex": [
       "0.588235294117647"
      ],
      "text/markdown": [
       "0.588235294117647"
      ],
      "text/plain": [
       "[1] 0.5882353"
      ]
     },
     "metadata": {},
     "output_type": "display_data"
    }
   ],
   "source": [
    "# probability of randomly chosing \n",
    "# java program with already knows that it was compilable\n",
    "(0.8 * 0.5)/0.68"
   ]
  },
  {
   "cell_type": "markdown",
   "id": "31f71edb-efe2-4c55-993f-a44e5a3f8418",
   "metadata": {},
   "source": [
    "#\n",
    "$$\n",
    "C = \\text{from C++} \\\\\n",
    "P(C|A) = \\frac{P(A|C)P(C)}{P(A)} \\\\\n",
    "= \\frac{0.60 x 0.5}{0.68}\n",
    "$$"
   ]
  },
  {
   "cell_type": "code",
   "execution_count": 32,
   "id": "f079f050-ba55-4595-9ccb-52ef866e841d",
   "metadata": {},
   "outputs": [
    {
     "data": {
      "text/html": [
       "0.441176470588235"
      ],
      "text/latex": [
       "0.441176470588235"
      ],
      "text/markdown": [
       "0.441176470588235"
      ],
      "text/plain": [
       "[1] 0.4411765"
      ]
     },
     "metadata": {},
     "output_type": "display_data"
    }
   ],
   "source": [
    "(.6*.5)/.68"
   ]
  },
  {
   "cell_type": "markdown",
   "id": "d89ddce7-f597-48d5-83e0-7baef51a6ef2",
   "metadata": {},
   "source": [
    "### Interest in **Probability that a program selected at random from thee week's supply is written in C++ and compiles on the first run.**\n",
    "\n"
   ]
  },
  {
   "cell_type": "code",
   "execution_count": 19,
   "id": "3150a997-69a2-4a5c-9267-7ca36c5c69b7",
   "metadata": {},
   "outputs": [
    {
     "data": {
      "text/html": [
       "81.6"
      ],
      "text/latex": [
       "81.6"
      ],
      "text/markdown": [
       "81.6"
      ],
      "text/plain": [
       "[1] 81.6"
      ]
     },
     "metadata": {},
     "output_type": "display_data"
    }
   ],
   "source": [
    ".68 * 120"
   ]
  },
  {
   "cell_type": "code",
   "execution_count": 23,
   "id": "a514d390-afd1-47f1-801b-a8fe55b3f4ba",
   "metadata": {},
   "outputs": [
    {
     "data": {
      "text/html": [
       "38.4"
      ],
      "text/latex": [
       "38.4"
      ],
      "text/markdown": [
       "38.4"
      ],
      "text/plain": [
       "[1] 38.4"
      ]
     },
     "metadata": {},
     "output_type": "display_data"
    }
   ],
   "source": [
    "(1-.68) * 120"
   ]
  },
  {
   "cell_type": "code",
   "execution_count": 24,
   "id": "9bd63941-ebe2-4817-9d88-70d93af31f39",
   "metadata": {},
   "outputs": [
    {
     "data": {
      "text/html": [
       "120"
      ],
      "text/latex": [
       "120"
      ],
      "text/markdown": [
       "120"
      ],
      "text/plain": [
       "[1] 120"
      ]
     },
     "metadata": {},
     "output_type": "display_data"
    }
   ],
   "source": [
    "81.6+38.4"
   ]
  },
  {
   "cell_type": "code",
   "execution_count": 28,
   "id": "5bbc5f52-565d-44a9-9755-f55f3be9e78a",
   "metadata": {},
   "outputs": [
    {
     "name": "stdout",
     "output_type": "stream",
     "text": [
      "[1] 54.4\n",
      "[1] 25.6\n"
     ]
    }
   ],
   "source": [
    "print(.68*80)\n",
    "print(80-54.4)"
   ]
  },
  {
   "cell_type": "code",
   "execution_count": 29,
   "id": "1701cd97-71a4-4b4c-a35b-5e4c4f40f675",
   "metadata": {},
   "outputs": [
    {
     "data": {
      "text/html": [
       "136"
      ],
      "text/latex": [
       "136"
      ],
      "text/markdown": [
       "136"
      ],
      "text/plain": [
       "[1] 136"
      ]
     },
     "metadata": {},
     "output_type": "display_data"
    }
   ],
   "source": [
    "81.6 + 54.4"
   ]
  },
  {
   "cell_type": "markdown",
   "id": "a410e1a8-fd3f-4db5-b38f-ca2d167b13e9",
   "metadata": {},
   "source": [
    "||Compiles on the First Run | Does Not Compile on First Run | |\n",
    "| --- | ---| ---|---\n",
    "C++ | 81.6 | 38.4 | 120\n",
    "Java | 54.4 | 25.6 | 80\n",
    "|| 136 | 64 |  200"
   ]
  },
  {
   "cell_type": "markdown",
   "id": "58080086-1a29-49c7-919e-bdc34542c579",
   "metadata": {},
   "source": [
    "### \n",
    "$$\n",
    "P(E) = \\frac{81.6}{200} = 40.8\\%\n",
    "$$"
   ]
  },
  {
   "cell_type": "code",
   "execution_count": 33,
   "id": "5cfdcbd1-78d6-45da-b3be-abfaf4394e48",
   "metadata": {},
   "outputs": [
    {
     "data": {
      "text/html": [
       "0.408"
      ],
      "text/latex": [
       "0.408"
      ],
      "text/markdown": [
       "0.408"
      ],
      "text/plain": [
       "[1] 0.408"
      ]
     },
     "metadata": {},
     "output_type": "display_data"
    }
   ],
   "source": [
    "81.6/200"
   ]
  },
  {
   "cell_type": "markdown",
   "id": "48705d15-a187-4993-8a88-f06ff1aa31cd",
   "metadata": {},
   "source": [
    "# Permutations And Combinations"
   ]
  },
  {
   "cell_type": "code",
   "execution_count": 34,
   "id": "3fa31945-5408-4747-91fd-6453dad25d6c",
   "metadata": {},
   "outputs": [
    {
     "data": {
      "text/html": [
       "0.887573964497041"
      ],
      "text/latex": [
       "0.887573964497041"
      ],
      "text/markdown": [
       "0.887573964497041"
      ],
      "text/plain": [
       "[1] 0.887574"
      ]
     },
     "metadata": {},
     "output_type": "display_data"
    }
   ],
   "source": [
    "prod(26:24)/26^3"
   ]
  },
  {
   "cell_type": "code",
   "execution_count": 36,
   "id": "d68e0fda-bb14-4a6a-a799-0cb47cde33b2",
   "metadata": {},
   "outputs": [
    {
     "data": {
      "text/html": [
       "6"
      ],
      "text/latex": [
       "6"
      ],
      "text/markdown": [
       "6"
      ],
      "text/plain": [
       "[1] 6"
      ]
     },
     "metadata": {},
     "output_type": "display_data"
    }
   ],
   "source": [
    "P = function(n,k) {\n",
    "    prod(n:(n-(k-1)))\n",
    "}\n",
    "P(3,2)"
   ]
  },
  {
   "cell_type": "code",
   "execution_count": 37,
   "id": "7bfc4669-171b-43f5-835b-cf1b7addbc7b",
   "metadata": {},
   "outputs": [
    {
     "data": {
      "text/html": [
       "12"
      ],
      "text/latex": [
       "12"
      ],
      "text/markdown": [
       "12"
      ],
      "text/plain": [
       "[1] 12"
      ]
     },
     "metadata": {},
     "output_type": "display_data"
    }
   ],
   "source": [
    "P(4,2)"
   ]
  },
  {
   "cell_type": "code",
   "execution_count": 38,
   "id": "345d0bca-493c-4478-b596-f02a42548bfc",
   "metadata": {},
   "outputs": [
    {
     "data": {
      "text/html": [
       "24"
      ],
      "text/latex": [
       "24"
      ],
      "text/markdown": [
       "24"
      ],
      "text/plain": [
       "[1] 24"
      ]
     },
     "metadata": {},
     "output_type": "display_data"
    }
   ],
   "source": [
    "P(4,3)"
   ]
  },
  {
   "cell_type": "code",
   "execution_count": 41,
   "id": "07dd667c-73eb-40ae-833e-b23a6bc99ac1",
   "metadata": {},
   "outputs": [
    {
     "data": {
      "text/html": [
       "24"
      ],
      "text/latex": [
       "24"
      ],
      "text/markdown": [
       "24"
      ],
      "text/plain": [
       "[1] 24"
      ]
     },
     "metadata": {},
     "output_type": "display_data"
    }
   ],
   "source": [
    "prod(4:2)"
   ]
  },
  {
   "cell_type": "code",
   "execution_count": 42,
   "id": "6921fe1b-f800-4944-a9c4-8b887e8310ca",
   "metadata": {},
   "outputs": [
    {
     "data": {
      "text/html": [
       "<style>\n",
       ".list-inline {list-style: none; margin:0; padding: 0}\n",
       ".list-inline>li {display: inline-block}\n",
       ".list-inline>li:not(:last-child)::after {content: \"\\00b7\"; padding: 0 .5ex}\n",
       "</style>\n",
       "<ol class=list-inline><li>4</li><li>3</li><li>2</li></ol>\n"
      ],
      "text/latex": [
       "\\begin{enumerate*}\n",
       "\\item 4\n",
       "\\item 3\n",
       "\\item 2\n",
       "\\end{enumerate*}\n"
      ],
      "text/markdown": [
       "1. 4\n",
       "2. 3\n",
       "3. 2\n",
       "\n",
       "\n"
      ],
      "text/plain": [
       "[1] 4 3 2"
      ]
     },
     "metadata": {},
     "output_type": "display_data"
    }
   ],
   "source": [
    "4:2"
   ]
  },
  {
   "cell_type": "code",
   "execution_count": 3,
   "id": "bcd70323-ee60-4b34-b44c-03d8f9f5f88a",
   "metadata": {},
   "outputs": [
    {
     "data": {
      "text/html": [
       "12"
      ],
      "text/latex": [
       "12"
      ],
      "text/markdown": [
       "12"
      ],
      "text/plain": [
       "[1] 12"
      ]
     },
     "metadata": {},
     "output_type": "display_data"
    }
   ],
   "source": [
    "prod(4:3)"
   ]
  },
  {
   "cell_type": "code",
   "execution_count": 5,
   "id": "8f316c84-da1f-41b7-88fd-d2c2f23f4bbd",
   "metadata": {},
   "outputs": [
    {
     "data": {
      "text/html": [
       "3"
      ],
      "text/latex": [
       "3"
      ],
      "text/markdown": [
       "3"
      ],
      "text/plain": [
       "[1] 3"
      ]
     },
     "metadata": {},
     "output_type": "display_data"
    }
   ],
   "source": [
    "choose(3,2)"
   ]
  },
  {
   "cell_type": "code",
   "execution_count": 6,
   "id": "f84c8cd3-d740-4e59-bfdd-e02142cfff1f",
   "metadata": {},
   "outputs": [
    {
     "data": {
      "text/html": [
       "3"
      ],
      "text/latex": [
       "3"
      ],
      "text/markdown": [
       "3"
      ],
      "text/plain": [
       "[1] 3"
      ]
     },
     "metadata": {},
     "output_type": "display_data"
    }
   ],
   "source": [
    "prod(3:2)/factorial(2)"
   ]
  },
  {
   "cell_type": "code",
   "execution_count": 12,
   "id": "278820ee-9208-4dbe-bd77-8ae99e044100",
   "metadata": {},
   "outputs": [
    {
     "data": {
      "text/html": [
       "26123889412400"
      ],
      "text/latex": [
       "26123889412400"
      ],
      "text/markdown": [
       "26123889412400"
      ],
      "text/plain": [
       "[1] 2.612389e+13"
      ]
     },
     "metadata": {},
     "output_type": "display_data"
    }
   ],
   "source": [
    "choose(75,12)"
   ]
  },
  {
   "cell_type": "markdown",
   "id": "99880fae-6d57-48b1-8a60-119abe8c8e96",
   "metadata": {},
   "source": [
    "# $$ R $$    "
   ]
  },
  {
   "cell_type": "code",
   "execution_count": 13,
   "id": "2cc2d06f-947d-424a-9ad7-0671d3aadbbd",
   "metadata": {},
   "outputs": [
    {
     "data": {
      "text/html": [
       "1050421051106700"
      ],
      "text/latex": [
       "1050421051106700"
      ],
      "text/markdown": [
       "1050421051106700"
      ],
      "text/plain": [
       "[1] 1.050421e+15"
      ]
     },
     "metadata": {},
     "output_type": "display_data"
    }
   ],
   "source": [
    "# Sample space\n",
    "choose(100,12)"
   ]
  },
  {
   "cell_type": "code",
   "execution_count": 14,
   "id": "a4eb4da8-e5b2-4ad6-82cb-6cf92f6aee82",
   "metadata": {},
   "outputs": [
    {
     "data": {
      "text/html": [
       "0.024869921813616"
      ],
      "text/latex": [
       "0.024869921813616"
      ],
      "text/markdown": [
       "0.024869921813616"
      ],
      "text/plain": [
       "[1] 0.02486992"
      ]
     },
     "metadata": {},
     "output_type": "display_data"
    }
   ],
   "source": [
    "choose(75,12)/choose(100,12)"
   ]
  },
  {
   "cell_type": "markdown",
   "id": "8b588995-97eb-4a7c-a334-91af658d8229",
   "metadata": {},
   "source": [
    "# Birthday paradox\n",
    "# $$\n",
    "E = \\text{At least tow students have the same birthday} \\\\\n",
    "\\bar{E} = \\text{All the students have different birthday} \\\\\n",
    "\\bar{E} = 365 P 2\n",
    "$$"
   ]
  },
  {
   "cell_type": "code",
   "execution_count": 1,
   "id": "79866760-969b-4a43-84c1-c8b0cf9768a9",
   "metadata": {},
   "outputs": [
    {
     "data": {
      "text/html": [
       "362"
      ],
      "text/latex": [
       "362"
      ],
      "text/markdown": [
       "362"
      ],
      "text/plain": [
       "[1] 362"
      ]
     },
     "metadata": {},
     "output_type": "display_data"
    }
   ],
   "source": [
    "k = 2\n",
    "# prod(365:365-(k-1))\n",
    "prod(365:365-k-1)"
   ]
  },
  {
   "cell_type": "code",
   "execution_count": 2,
   "id": "4629d6d1-b766-473f-a396-f20e707cae35",
   "metadata": {},
   "outputs": [
    {
     "data": {
      "text/html": [
       "126736"
      ],
      "text/latex": [
       "126736"
      ],
      "text/markdown": [
       "126736"
      ],
      "text/plain": [
       "[1] 126736"
      ]
     },
     "metadata": {},
     "output_type": "display_data"
    }
   ],
   "source": [
    "ns = 356^k\n",
    "ns"
   ]
  },
  {
   "cell_type": "markdown",
   "id": "30b743fa-d26c-4cb3-a07b-840f03560fe5",
   "metadata": {},
   "source": [
    "# $$ n(S) = 365^k \\\\\n",
    "P(\\text{all different birthdays}) = \\frac{365P_k}{365^k} \\\\\n",
    "P(\\text{at least 2 birthdays are the same}) = 1 - \\frac{365P_k}{365^k} \n",
    "$$"
   ]
  },
  {
   "cell_type": "code",
   "execution_count": 2,
   "id": "9f391dc9-e081-4ac7-8920-1dd75e11fe66",
   "metadata": {},
   "outputs": [
    {
     "data": {
      "text/html": [
       "364"
      ],
      "text/latex": [
       "364"
      ],
      "text/markdown": [
       "364"
      ],
      "text/plain": [
       "[1] 364"
      ]
     },
     "metadata": {},
     "output_type": "display_data"
    }
   ],
   "source": [
    "365:365-(2-1)"
   ]
  },
  {
   "cell_type": "code",
   "execution_count": 15,
   "id": "9be7b1a6-b773-44ba-ab96-d1394fa43734",
   "metadata": {},
   "outputs": [
    {
     "data": {
      "text/html": [
       "364"
      ],
      "text/latex": [
       "364"
      ],
      "text/markdown": [
       "364"
      ],
      "text/plain": [
       "[1] 364"
      ]
     },
     "metadata": {},
     "output_type": "display_data"
    }
   ],
   "source": [
    "365:365-2+1"
   ]
  },
  {
   "cell_type": "code",
   "execution_count": 8,
   "id": "3d8375dc-18c1-48db-84de-89685a860a9a",
   "metadata": {},
   "outputs": [
    {
     "data": {
      "text/html": [
       "<style>\n",
       ".list-inline {list-style: none; margin:0; padding: 0}\n",
       ".list-inline>li {display: inline-block}\n",
       ".list-inline>li:not(:last-child)::after {content: \"\\00b7\"; padding: 0 .5ex}\n",
       "</style>\n",
       "<ol class=list-inline><li>1</li><li>2</li><li>3</li><li>4</li><li>5</li><li>6</li><li>7</li><li>8</li><li>9</li><li>10</li></ol>\n"
      ],
      "text/latex": [
       "\\begin{enumerate*}\n",
       "\\item 1\n",
       "\\item 2\n",
       "\\item 3\n",
       "\\item 4\n",
       "\\item 5\n",
       "\\item 6\n",
       "\\item 7\n",
       "\\item 8\n",
       "\\item 9\n",
       "\\item 10\n",
       "\\end{enumerate*}\n"
      ],
      "text/markdown": [
       "1. 1\n",
       "2. 2\n",
       "3. 3\n",
       "4. 4\n",
       "5. 5\n",
       "6. 6\n",
       "7. 7\n",
       "8. 8\n",
       "9. 9\n",
       "10. 10\n",
       "\n",
       "\n"
      ],
      "text/plain": [
       " [1]  1  2  3  4  5  6  7  8  9 10"
      ]
     },
     "metadata": {},
     "output_type": "display_data"
    }
   ],
   "source": [
    "1:10"
   ]
  },
  {
   "cell_type": "code",
   "execution_count": 9,
   "id": "f53506e1-e5cb-4edc-b4f8-8a779bcded5b",
   "metadata": {},
   "outputs": [
    {
     "data": {
      "text/html": [
       "<style>\n",
       ".list-inline {list-style: none; margin:0; padding: 0}\n",
       ".list-inline>li {display: inline-block}\n",
       ".list-inline>li:not(:last-child)::after {content: \"\\00b7\"; padding: 0 .5ex}\n",
       "</style>\n",
       "<ol class=list-inline><li>10</li><li>9</li><li>8</li><li>7</li><li>6</li><li>5</li><li>4</li><li>3</li><li>2</li><li>1</li></ol>\n"
      ],
      "text/latex": [
       "\\begin{enumerate*}\n",
       "\\item 10\n",
       "\\item 9\n",
       "\\item 8\n",
       "\\item 7\n",
       "\\item 6\n",
       "\\item 5\n",
       "\\item 4\n",
       "\\item 3\n",
       "\\item 2\n",
       "\\item 1\n",
       "\\end{enumerate*}\n"
      ],
      "text/markdown": [
       "1. 10\n",
       "2. 9\n",
       "3. 8\n",
       "4. 7\n",
       "5. 6\n",
       "6. 5\n",
       "7. 4\n",
       "8. 3\n",
       "9. 2\n",
       "10. 1\n",
       "\n",
       "\n"
      ],
      "text/plain": [
       " [1] 10  9  8  7  6  5  4  3  2  1"
      ]
     },
     "metadata": {},
     "output_type": "display_data"
    }
   ],
   "source": [
    "10:1"
   ]
  },
  {
   "cell_type": "code",
   "execution_count": 7,
   "id": "5ed4ef06-9041-456f-95ed-e512ee89bda8",
   "metadata": {},
   "outputs": [
    {
     "data": {
      "text/html": [
       "364"
      ],
      "text/latex": [
       "364"
      ],
      "text/markdown": [
       "364"
      ],
      "text/plain": [
       "[1] 364"
      ]
     },
     "metadata": {},
     "output_type": "display_data"
    }
   ],
   "source": [
    "k = 2\n",
    "prod(365:365-(k-1))"
   ]
  },
  {
   "cell_type": "code",
   "execution_count": 9,
   "id": "ea1eaf9d-9493-4ec6-99b7-52a99b63bcd0",
   "metadata": {},
   "outputs": [
    {
     "data": {
      "text/html": [
       "0.00273221992869206"
      ],
      "text/latex": [
       "0.00273221992869206"
      ],
      "text/markdown": [
       "0.00273221992869206"
      ],
      "text/plain": [
       "[1] 0.00273222"
      ]
     },
     "metadata": {},
     "output_type": "display_data"
    }
   ],
   "source": [
    "prod(365:365-(k-1)) / 365^k"
   ]
  },
  {
   "cell_type": "code",
   "execution_count": 1,
   "id": "06bb49f1-c489-47b2-acf6-472a79d4df59",
   "metadata": {},
   "outputs": [
    {
     "data": {
      "text/html": [
       "0.00273972602739725"
      ],
      "text/latex": [
       "0.00273972602739725"
      ],
      "text/markdown": [
       "0.00273972602739725"
      ],
      "text/plain": [
       "[1] 0.002739726"
      ]
     },
     "metadata": {},
     "output_type": "display_data"
    }
   ],
   "source": [
    "p_birthday_same = function(k) {\n",
    "    p_not_e = prod(365:(365-(k-1)))/365^k\n",
    "    p_e = 1 - p_not_e\n",
    "    p_e\n",
    "}\n",
    "p_birthday_same(2)"
   ]
  },
  {
   "cell_type": "code",
   "execution_count": 24,
   "id": "089fdb21-824e-477a-985a-d2593d3abf76",
   "metadata": {},
   "outputs": [
    {
     "data": {
      "text/html": [
       "41.143838358058"
      ],
      "text/latex": [
       "41.143838358058"
      ],
      "text/markdown": [
       "41.143838358058"
      ],
      "text/plain": [
       "[1] 41.14384"
      ]
     },
     "metadata": {},
     "output_type": "display_data"
    }
   ],
   "source": [
    "p_birthday_same(20) * 100"
   ]
  },
  {
   "cell_type": "code",
   "execution_count": 21,
   "id": "559258a2-88b9-42ee-99d8-a2b846f8fa83",
   "metadata": {},
   "outputs": [
    {
     "data": {
      "text/html": [
       "0.116948177711078"
      ],
      "text/latex": [
       "0.116948177711078"
      ],
      "text/markdown": [
       "0.116948177711078"
      ],
      "text/plain": [
       "[1] 0.1169482"
      ]
     },
     "metadata": {},
     "output_type": "display_data"
    }
   ],
   "source": [
    "p_birthday_same(10)"
   ]
  },
  {
   "cell_type": "code",
   "execution_count": 6,
   "id": "de6cdea9-b89b-4834-b1e1-27ef8bb015e3",
   "metadata": {},
   "outputs": [
    {
     "name": "stdout",
     "output_type": "stream",
     "text": [
      "[1] \"2   0.273972602739725\"\n",
      "[1] \"10   11.6948177711078\"\n",
      "[1] \"20   41.143838358058\"\n",
      "[1] \"30   70.6316242719269\"\n",
      "[1] \"40   89.1231809817949\"\n",
      "[1] \"50   97.0373579577988\"\n",
      "[1] \"80   99.9914331949313\"\n"
     ]
    }
   ],
   "source": [
    "# for (i in 2:10) {\n",
    "for (i in c(2,10,20,30,40,50, 80)) {\n",
    "    print(paste(i, \" \", p_birthday_same(i) * 100))\n",
    "    # print(i)\n",
    "}"
   ]
  },
  {
   "cell_type": "code",
   "execution_count": 4,
   "id": "df26d10f-6494-46e7-a6fc-8106dfc9a087",
   "metadata": {},
   "outputs": [
    {
     "data": {
      "text/html": [
       "0.999999692751072"
      ],
      "text/latex": [
       "0.999999692751072"
      ],
      "text/markdown": [
       "0.999999692751072"
      ],
      "text/plain": [
       "[1] 0.9999997"
      ]
     },
     "metadata": {},
     "output_type": "display_data"
    }
   ],
   "source": [
    "p_birthday_same(100)"
   ]
  },
  {
   "cell_type": "code",
   "execution_count": 48,
   "id": "7b6142a3-f962-4522-b6ee-2b65d59f6f91",
   "metadata": {},
   "outputs": [],
   "source": [
    "diffbirthday <- 1\n",
    "for (k in 2:50) {\n",
    "    diffbirthday[k] <- prod(365: (365-(k-1))) / 365^k\n",
    "}\n",
    "samebirthday <- 1 - diffbirthday"
   ]
  },
  {
   "cell_type": "code",
   "execution_count": 49,
   "id": "72d571ad-8a94-4da4-92a1-22e67ddbb5d4",
   "metadata": {},
   "outputs": [
    {
     "data": {
      "text/html": [
       "<style>\n",
       ".list-inline {list-style: none; margin:0; padding: 0}\n",
       ".list-inline>li {display: inline-block}\n",
       ".list-inline>li:not(:last-child)::after {content: \"\\00b7\"; padding: 0 .5ex}\n",
       "</style>\n",
       "<ol class=list-inline><li>1</li><li>0.997260273972603</li><li>0.991795834115219</li><li>0.98364408753345</li><li>0.972864426300206</li><li>0.959537516350888</li><li>0.943764296904025</li><li>0.925664707648331</li><li>0.905376166110833</li><li>0.883051822288922</li><li>0.858858621678267</li><li>0.832975211161936</li><li>0.80558972476757</li><li>0.776897487995027</li><li>0.747098680236314</li><li>0.71639599474715</li><li>0.684992334703439</li><li>0.653088582128211</li><li>0.620881473968463</li><li>0.58856161641942</li><li>0.556311664834794</li><li>0.52430469233745</li><li>0.492702765676015</li><li>0.461655742085471</li><li>0.431300296030536</li><li>0.401759179864061</li><li>0.373140717736758</li><li>0.345538527657601</li><li>0.319031462522223</li><li>0.293683757280731</li><li>0.269545366271356</li><li>0.246652472149679</li><li>0.225028145824228</li><li>0.204683135379846</li><li>0.185616761125285</li><li>0.16781789362012</li><li>0.151265991783615</li><li>0.135932178917879</li><li>0.121780335633278</li><li>0.108768190182051</li><li>0.0968483885182646</li><li>0.0859695284381308</li><li>0.0760771443438801</li><li>0.0671146314485737</li><li>0.0590241005342251</li><li>0.0517471566327453</li><li>0.0452255971667007</li><li>0.0394020271205776</li><li>0.0342203906773235</li><li>0.0296264204220116</li></ol>\n"
      ],
      "text/latex": [
       "\\begin{enumerate*}\n",
       "\\item 1\n",
       "\\item 0.997260273972603\n",
       "\\item 0.991795834115219\n",
       "\\item 0.98364408753345\n",
       "\\item 0.972864426300206\n",
       "\\item 0.959537516350888\n",
       "\\item 0.943764296904025\n",
       "\\item 0.925664707648331\n",
       "\\item 0.905376166110833\n",
       "\\item 0.883051822288922\n",
       "\\item 0.858858621678267\n",
       "\\item 0.832975211161936\n",
       "\\item 0.80558972476757\n",
       "\\item 0.776897487995027\n",
       "\\item 0.747098680236314\n",
       "\\item 0.71639599474715\n",
       "\\item 0.684992334703439\n",
       "\\item 0.653088582128211\n",
       "\\item 0.620881473968463\n",
       "\\item 0.58856161641942\n",
       "\\item 0.556311664834794\n",
       "\\item 0.52430469233745\n",
       "\\item 0.492702765676015\n",
       "\\item 0.461655742085471\n",
       "\\item 0.431300296030536\n",
       "\\item 0.401759179864061\n",
       "\\item 0.373140717736758\n",
       "\\item 0.345538527657601\n",
       "\\item 0.319031462522223\n",
       "\\item 0.293683757280731\n",
       "\\item 0.269545366271356\n",
       "\\item 0.246652472149679\n",
       "\\item 0.225028145824228\n",
       "\\item 0.204683135379846\n",
       "\\item 0.185616761125285\n",
       "\\item 0.16781789362012\n",
       "\\item 0.151265991783615\n",
       "\\item 0.135932178917879\n",
       "\\item 0.121780335633278\n",
       "\\item 0.108768190182051\n",
       "\\item 0.0968483885182646\n",
       "\\item 0.0859695284381308\n",
       "\\item 0.0760771443438801\n",
       "\\item 0.0671146314485737\n",
       "\\item 0.0590241005342251\n",
       "\\item 0.0517471566327453\n",
       "\\item 0.0452255971667007\n",
       "\\item 0.0394020271205776\n",
       "\\item 0.0342203906773235\n",
       "\\item 0.0296264204220116\n",
       "\\end{enumerate*}\n"
      ],
      "text/markdown": [
       "1. 1\n",
       "2. 0.997260273972603\n",
       "3. 0.991795834115219\n",
       "4. 0.98364408753345\n",
       "5. 0.972864426300206\n",
       "6. 0.959537516350888\n",
       "7. 0.943764296904025\n",
       "8. 0.925664707648331\n",
       "9. 0.905376166110833\n",
       "10. 0.883051822288922\n",
       "11. 0.858858621678267\n",
       "12. 0.832975211161936\n",
       "13. 0.80558972476757\n",
       "14. 0.776897487995027\n",
       "15. 0.747098680236314\n",
       "16. 0.71639599474715\n",
       "17. 0.684992334703439\n",
       "18. 0.653088582128211\n",
       "19. 0.620881473968463\n",
       "20. 0.58856161641942\n",
       "21. 0.556311664834794\n",
       "22. 0.52430469233745\n",
       "23. 0.492702765676015\n",
       "24. 0.461655742085471\n",
       "25. 0.431300296030536\n",
       "26. 0.401759179864061\n",
       "27. 0.373140717736758\n",
       "28. 0.345538527657601\n",
       "29. 0.319031462522223\n",
       "30. 0.293683757280731\n",
       "31. 0.269545366271356\n",
       "32. 0.246652472149679\n",
       "33. 0.225028145824228\n",
       "34. 0.204683135379846\n",
       "35. 0.185616761125285\n",
       "36. 0.16781789362012\n",
       "37. 0.151265991783615\n",
       "38. 0.135932178917879\n",
       "39. 0.121780335633278\n",
       "40. 0.108768190182051\n",
       "41. 0.0968483885182646\n",
       "42. 0.0859695284381308\n",
       "43. 0.0760771443438801\n",
       "44. 0.0671146314485737\n",
       "45. 0.0590241005342251\n",
       "46. 0.0517471566327453\n",
       "47. 0.0452255971667007\n",
       "48. 0.0394020271205776\n",
       "49. 0.0342203906773235\n",
       "50. 0.0296264204220116\n",
       "\n",
       "\n"
      ],
      "text/plain": [
       " [1] 1.00000000 0.99726027 0.99179583 0.98364409 0.97286443 0.95953752\n",
       " [7] 0.94376430 0.92566471 0.90537617 0.88305182 0.85885862 0.83297521\n",
       "[13] 0.80558972 0.77689749 0.74709868 0.71639599 0.68499233 0.65308858\n",
       "[19] 0.62088147 0.58856162 0.55631166 0.52430469 0.49270277 0.46165574\n",
       "[25] 0.43130030 0.40175918 0.37314072 0.34553853 0.31903146 0.29368376\n",
       "[31] 0.26954537 0.24665247 0.22502815 0.20468314 0.18561676 0.16781789\n",
       "[37] 0.15126599 0.13593218 0.12178034 0.10876819 0.09684839 0.08596953\n",
       "[43] 0.07607714 0.06711463 0.05902410 0.05174716 0.04522560 0.03940203\n",
       "[49] 0.03422039 0.02962642"
      ]
     },
     "metadata": {},
     "output_type": "display_data"
    }
   ],
   "source": [
    "diffbirthday"
   ]
  },
  {
   "cell_type": "code",
   "execution_count": 50,
   "id": "e3b7f72b-085a-4a3f-a89f-a23de161056c",
   "metadata": {},
   "outputs": [
    {
     "data": {
      "text/html": [
       "<style>\n",
       ".list-inline {list-style: none; margin:0; padding: 0}\n",
       ".list-inline>li {display: inline-block}\n",
       ".list-inline>li:not(:last-child)::after {content: \"\\00b7\"; padding: 0 .5ex}\n",
       "</style>\n",
       "<ol class=list-inline><li>0</li><li>0.00273972602739725</li><li>0.00820416588478134</li><li>0.0163559124665503</li><li>0.0271355736997936</li><li>0.0404624836491115</li><li>0.0562357030959754</li><li>0.074335292351669</li><li>0.0946238338891667</li><li>0.116948177711078</li><li>0.141141378321733</li><li>0.167024788838064</li><li>0.19441027523243</li><li>0.223102512004973</li><li>0.252901319763686</li><li>0.28360400525285</li><li>0.315007665296561</li><li>0.346911417871789</li><li>0.379118526031537</li><li>0.41143838358058</li><li>0.443688335165206</li><li>0.47569530766255</li><li>0.507297234323985</li><li>0.538344257914529</li><li>0.568699703969464</li><li>0.598240820135939</li><li>0.626859282263242</li><li>0.654461472342399</li><li>0.680968537477777</li><li>0.706316242719269</li><li>0.730454633728644</li><li>0.753347527850321</li><li>0.774971854175772</li><li>0.795316864620154</li><li>0.814383238874715</li><li>0.83218210637988</li><li>0.848734008216385</li><li>0.864067821082121</li><li>0.878219664366722</li><li>0.891231809817949</li><li>0.903151611481735</li><li>0.914030471561869</li><li>0.92392285565612</li><li>0.932885368551426</li><li>0.940975899465775</li><li>0.948252843367255</li><li>0.954774402833299</li><li>0.960597972879422</li><li>0.965779609322676</li><li>0.970373579577988</li></ol>\n"
      ],
      "text/latex": [
       "\\begin{enumerate*}\n",
       "\\item 0\n",
       "\\item 0.00273972602739725\n",
       "\\item 0.00820416588478134\n",
       "\\item 0.0163559124665503\n",
       "\\item 0.0271355736997936\n",
       "\\item 0.0404624836491115\n",
       "\\item 0.0562357030959754\n",
       "\\item 0.074335292351669\n",
       "\\item 0.0946238338891667\n",
       "\\item 0.116948177711078\n",
       "\\item 0.141141378321733\n",
       "\\item 0.167024788838064\n",
       "\\item 0.19441027523243\n",
       "\\item 0.223102512004973\n",
       "\\item 0.252901319763686\n",
       "\\item 0.28360400525285\n",
       "\\item 0.315007665296561\n",
       "\\item 0.346911417871789\n",
       "\\item 0.379118526031537\n",
       "\\item 0.41143838358058\n",
       "\\item 0.443688335165206\n",
       "\\item 0.47569530766255\n",
       "\\item 0.507297234323985\n",
       "\\item 0.538344257914529\n",
       "\\item 0.568699703969464\n",
       "\\item 0.598240820135939\n",
       "\\item 0.626859282263242\n",
       "\\item 0.654461472342399\n",
       "\\item 0.680968537477777\n",
       "\\item 0.706316242719269\n",
       "\\item 0.730454633728644\n",
       "\\item 0.753347527850321\n",
       "\\item 0.774971854175772\n",
       "\\item 0.795316864620154\n",
       "\\item 0.814383238874715\n",
       "\\item 0.83218210637988\n",
       "\\item 0.848734008216385\n",
       "\\item 0.864067821082121\n",
       "\\item 0.878219664366722\n",
       "\\item 0.891231809817949\n",
       "\\item 0.903151611481735\n",
       "\\item 0.914030471561869\n",
       "\\item 0.92392285565612\n",
       "\\item 0.932885368551426\n",
       "\\item 0.940975899465775\n",
       "\\item 0.948252843367255\n",
       "\\item 0.954774402833299\n",
       "\\item 0.960597972879422\n",
       "\\item 0.965779609322676\n",
       "\\item 0.970373579577988\n",
       "\\end{enumerate*}\n"
      ],
      "text/markdown": [
       "1. 0\n",
       "2. 0.00273972602739725\n",
       "3. 0.00820416588478134\n",
       "4. 0.0163559124665503\n",
       "5. 0.0271355736997936\n",
       "6. 0.0404624836491115\n",
       "7. 0.0562357030959754\n",
       "8. 0.074335292351669\n",
       "9. 0.0946238338891667\n",
       "10. 0.116948177711078\n",
       "11. 0.141141378321733\n",
       "12. 0.167024788838064\n",
       "13. 0.19441027523243\n",
       "14. 0.223102512004973\n",
       "15. 0.252901319763686\n",
       "16. 0.28360400525285\n",
       "17. 0.315007665296561\n",
       "18. 0.346911417871789\n",
       "19. 0.379118526031537\n",
       "20. 0.41143838358058\n",
       "21. 0.443688335165206\n",
       "22. 0.47569530766255\n",
       "23. 0.507297234323985\n",
       "24. 0.538344257914529\n",
       "25. 0.568699703969464\n",
       "26. 0.598240820135939\n",
       "27. 0.626859282263242\n",
       "28. 0.654461472342399\n",
       "29. 0.680968537477777\n",
       "30. 0.706316242719269\n",
       "31. 0.730454633728644\n",
       "32. 0.753347527850321\n",
       "33. 0.774971854175772\n",
       "34. 0.795316864620154\n",
       "35. 0.814383238874715\n",
       "36. 0.83218210637988\n",
       "37. 0.848734008216385\n",
       "38. 0.864067821082121\n",
       "39. 0.878219664366722\n",
       "40. 0.891231809817949\n",
       "41. 0.903151611481735\n",
       "42. 0.914030471561869\n",
       "43. 0.92392285565612\n",
       "44. 0.932885368551426\n",
       "45. 0.940975899465775\n",
       "46. 0.948252843367255\n",
       "47. 0.954774402833299\n",
       "48. 0.960597972879422\n",
       "49. 0.965779609322676\n",
       "50. 0.970373579577988\n",
       "\n",
       "\n"
      ],
      "text/plain": [
       " [1] 0.000000000 0.002739726 0.008204166 0.016355912 0.027135574 0.040462484\n",
       " [7] 0.056235703 0.074335292 0.094623834 0.116948178 0.141141378 0.167024789\n",
       "[13] 0.194410275 0.223102512 0.252901320 0.283604005 0.315007665 0.346911418\n",
       "[19] 0.379118526 0.411438384 0.443688335 0.475695308 0.507297234 0.538344258\n",
       "[25] 0.568699704 0.598240820 0.626859282 0.654461472 0.680968537 0.706316243\n",
       "[31] 0.730454634 0.753347528 0.774971854 0.795316865 0.814383239 0.832182106\n",
       "[37] 0.848734008 0.864067821 0.878219664 0.891231810 0.903151611 0.914030472\n",
       "[43] 0.923922856 0.932885369 0.940975899 0.948252843 0.954774403 0.960597973\n",
       "[49] 0.965779609 0.970373580"
      ]
     },
     "metadata": {},
     "output_type": "display_data"
    }
   ],
   "source": [
    "samebirthday"
   ]
  },
  {
   "cell_type": "code",
   "execution_count": 51,
   "id": "aee1ada9-7ced-4210-a76e-992344968c1e",
   "metadata": {},
   "outputs": [
    {
     "data": {
      "text/html": [
       "<style>\n",
       ".list-inline {list-style: none; margin:0; padding: 0}\n",
       ".list-inline>li {display: inline-block}\n",
       ".list-inline>li:not(:last-child)::after {content: \"\\00b7\"; padding: 0 .5ex}\n",
       "</style>\n",
       "<ol class=list-inline><li>1</li><li>2</li><li>3</li><li>4</li><li>5</li><li>6</li><li>7</li><li>8</li><li>9</li><li>10</li><li>11</li><li>12</li><li>13</li><li>14</li><li>15</li><li>16</li><li>17</li><li>18</li><li>19</li><li>20</li><li>21</li><li>22</li><li>23</li><li>24</li><li>25</li><li>26</li><li>27</li><li>28</li><li>29</li><li>30</li><li>31</li><li>32</li><li>33</li><li>34</li><li>35</li><li>36</li><li>37</li><li>38</li><li>39</li><li>40</li><li>41</li><li>42</li><li>43</li><li>44</li><li>45</li><li>46</li><li>47</li><li>48</li><li>49</li><li>50</li></ol>\n"
      ],
      "text/latex": [
       "\\begin{enumerate*}\n",
       "\\item 1\n",
       "\\item 2\n",
       "\\item 3\n",
       "\\item 4\n",
       "\\item 5\n",
       "\\item 6\n",
       "\\item 7\n",
       "\\item 8\n",
       "\\item 9\n",
       "\\item 10\n",
       "\\item 11\n",
       "\\item 12\n",
       "\\item 13\n",
       "\\item 14\n",
       "\\item 15\n",
       "\\item 16\n",
       "\\item 17\n",
       "\\item 18\n",
       "\\item 19\n",
       "\\item 20\n",
       "\\item 21\n",
       "\\item 22\n",
       "\\item 23\n",
       "\\item 24\n",
       "\\item 25\n",
       "\\item 26\n",
       "\\item 27\n",
       "\\item 28\n",
       "\\item 29\n",
       "\\item 30\n",
       "\\item 31\n",
       "\\item 32\n",
       "\\item 33\n",
       "\\item 34\n",
       "\\item 35\n",
       "\\item 36\n",
       "\\item 37\n",
       "\\item 38\n",
       "\\item 39\n",
       "\\item 40\n",
       "\\item 41\n",
       "\\item 42\n",
       "\\item 43\n",
       "\\item 44\n",
       "\\item 45\n",
       "\\item 46\n",
       "\\item 47\n",
       "\\item 48\n",
       "\\item 49\n",
       "\\item 50\n",
       "\\end{enumerate*}\n"
      ],
      "text/markdown": [
       "1. 1\n",
       "2. 2\n",
       "3. 3\n",
       "4. 4\n",
       "5. 5\n",
       "6. 6\n",
       "7. 7\n",
       "8. 8\n",
       "9. 9\n",
       "10. 10\n",
       "11. 11\n",
       "12. 12\n",
       "13. 13\n",
       "14. 14\n",
       "15. 15\n",
       "16. 16\n",
       "17. 17\n",
       "18. 18\n",
       "19. 19\n",
       "20. 20\n",
       "21. 21\n",
       "22. 22\n",
       "23. 23\n",
       "24. 24\n",
       "25. 25\n",
       "26. 26\n",
       "27. 27\n",
       "28. 28\n",
       "29. 29\n",
       "30. 30\n",
       "31. 31\n",
       "32. 32\n",
       "33. 33\n",
       "34. 34\n",
       "35. 35\n",
       "36. 36\n",
       "37. 37\n",
       "38. 38\n",
       "39. 39\n",
       "40. 40\n",
       "41. 41\n",
       "42. 42\n",
       "43. 43\n",
       "44. 44\n",
       "45. 45\n",
       "46. 46\n",
       "47. 47\n",
       "48. 48\n",
       "49. 49\n",
       "50. 50\n",
       "\n",
       "\n"
      ],
      "text/plain": [
       " [1]  1  2  3  4  5  6  7  8  9 10 11 12 13 14 15 16 17 18 19 20 21 22 23 24 25\n",
       "[26] 26 27 28 29 30 31 32 33 34 35 36 37 38 39 40 41 42 43 44 45 46 47 48 49 50"
      ]
     },
     "metadata": {},
     "output_type": "display_data"
    }
   ],
   "source": [
    "k <- seq(1,50,1)\n",
    "k"
   ]
  },
  {
   "cell_type": "code",
   "execution_count": 53,
   "id": "8340e46c-9675-4103-af06-7887d35378ae",
   "metadata": {},
   "outputs": [
    {
     "data": {
      "image/png": "[encoded data removed]",
      "text/plain": [
       "Plot with title “Birthday Paradox”"
      ]
     },
     "metadata": {
      "image/png": {
       "height": 420,
       "width": 420
      }
     },
     "output_type": "display_data"
    }
   ],
   "source": [
    "plot(k, samebirthday, main=\"Birthday Paradox\",\n",
    "     xlab=\"Number in People\",\n",
    "     ylab=\"Probability of at least 2 with same birthday\",\n",
    "     text(23, .5, \"Number=23, Probability > 0.5\")\n",
    "    )"
   ]
  },
  {
   "cell_type": "code",
   "execution_count": null,
   "id": "c4969926-ae02-4ee4-876b-dfa6e23c756e",
   "metadata": {},
   "outputs": [],
   "source": []
  },
  {
   "cell_type": "code",
   "execution_count": null,
   "id": "dcb7b02a-4a41-4197-b39f-bc32599ea572",
   "metadata": {},
   "outputs": [],
   "source": []
  }
 ],
 "metadata": {
  "kernelspec": {
   "display_name": "R",
   "language": "R",
   "name": "ir"
  },
  "language_info": {
   "codemirror_mode": "r",
   "file_extension": ".r",
   "mimetype": "text/x-r-source",
   "name": "R",
   "pygments_lexer": "r",
   "version": "4.2.1"
  }
 },
 "nbformat": 4,
 "nbformat_minor": 5
}
