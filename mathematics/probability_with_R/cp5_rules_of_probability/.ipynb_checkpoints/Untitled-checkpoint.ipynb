{
 "cells": [
  {
   "cell_type": "code",
   "execution_count": 1,
   "id": "f6055ca2-c0d3-4516-a56e-e18dfe54c11c",
   "metadata": {},
   "outputs": [
    {
     "data": {
      "text/html": [
       "0.307692307692308"
      ],
      "text/latex": [
       "0.307692307692308"
      ],
      "text/markdown": [
       "0.307692307692308"
      ],
      "text/plain": [
       "[1] 0.3076923"
      ]
     },
     "metadata": {},
     "output_type": "display_data"
    }
   ],
   "source": [
    "# Space or Ace , 13 + 4 - 1\n",
    "16/52"
   ]
  },
  {
   "cell_type": "code",
   "execution_count": 2,
   "id": "71fe64dd-613c-4f79-a957-190ff53acb87",
   "metadata": {},
   "outputs": [
    {
     "data": {
      "text/html": [
       "0.0192307692307692"
      ],
      "text/latex": [
       "0.0192307692307692"
      ],
      "text/markdown": [
       "0.0192307692307692"
      ],
      "text/plain": [
       "[1] 0.01923077"
      ]
     },
     "metadata": {},
     "output_type": "display_data"
    }
   ],
   "source": [
    "# Space and Ace\n",
    "1/52"
   ]
  },
  {
   "cell_type": "markdown",
   "id": "511621d2-5c79-42c7-abcf-8c3d1297eebd",
   "metadata": {},
   "source": [
    "# Properties of probability\n",
    "\n",
    "<h3 style=\"color:red\">Property 1</h1>\n",
    "$$ P(\\bar{E}) = 1 - P(E) $$\n",
    "\n",
    "<h3 style=\"color:red\">Property 2</h1>\n",
    "$$ P(\\emptyset) = 0 $$\n",
    "\n",
    "<h3 style=\"color:red\">Property 3</h1>\n",
    "$$ E_1 \\subset E_2 \\\\\n",
    "P(E_1) \\le P(E_2) \\\\\n",
    "E_2 = E_1 \\cup (E_2 \\cap \\bar{E_1})\n",
    "$$\n",
    "\n",
    "<h3 style=\"color:red\">Property 4</h1>\n",
    "$$\n",
    "0 \\leq P(E) \\leq 1\n",
    "$$\n",
    "\n",
    "<h3 style=\"color:red\">Property 5</h1>\n",
    "$$\n",
    "P(E_1 \\cup E_2) = P(E_1) + P(E_2) - P(E_1 \\cap E_2)\n",
    "$$"
   ]
  },
  {
   "cell_type": "markdown",
   "id": "119dd670-c19a-4b01-ab59-e3fd6b42521d",
   "metadata": {},
   "source": [
    "# Exercise 5.1"
   ]
  },
  {
   "cell_type": "code",
   "execution_count": 5,
   "id": "ea6d4cfc-d0dc-4877-989e-3d429e8be1c3",
   "metadata": {},
   "outputs": [],
   "source": [
    "# .5, .3, .2 = no extra features, had one optional feature, had two feauture.\n",
    "# A-quesion : p(at least one optional feature) = p(e)\n",
    "# p(1 feat or 2 feat) = .3 + .2 - 0 = .5 = 50%\n",
    "\n"
   ]
  },
  {
   "cell_type": "code",
   "execution_count": 7,
   "id": "7df56d22-7eff-4325-8392-292815062832",
   "metadata": {},
   "outputs": [],
   "source": [
    "# B-question :\n",
    "# p(does not request more than one optional feature)\n",
    "# p(0 feat or 1 feat) = .5 + .3 + 0 = .8 = 80%"
   ]
  },
  {
   "cell_type": "code",
   "execution_count": 12,
   "id": "720bf2d0-3795-4f0e-93a5-871a221e9320",
   "metadata": {},
   "outputs": [
    {
     "data": {
      "text/html": [
       "0.807692307692308"
      ],
      "text/latex": [
       "0.807692307692308"
      ],
      "text/markdown": [
       "0.807692307692308"
      ],
      "text/plain": [
       "[1] 0.8076923"
      ]
     },
     "metadata": {},
     "output_type": "display_data"
    }
   ],
   "source": [
    "# Password question : 5 chars : fist must be letter\n",
    "# A : begin with consonant (26-5=21)\n",
    "p_e_1 = 21*(36^4)/(26*36^4)\n",
    "p_e_1"
   ]
  },
  {
   "cell_type": "code",
   "execution_count": 14,
   "id": "ebb027dc-c99a-4267-8815-602e16205915",
   "metadata": {},
   "outputs": [
    {
     "data": {
      "text/html": [
       "0.138888888888889"
      ],
      "text/latex": [
       "0.138888888888889"
      ],
      "text/markdown": [
       "0.138888888888889"
      ],
      "text/plain": [
       "[1] 0.1388889"
      ]
     },
     "metadata": {},
     "output_type": "display_data"
    }
   ],
   "source": [
    "# B : end with even number\n",
    "p_e_2 = (26*(36^3)*5)/(26*36^4)\n",
    "p_e_2"
   ]
  },
  {
   "cell_type": "code",
   "execution_count": 16,
   "id": "75ea77d0-3b18-4192-998b-f2d22d69ef9e",
   "metadata": {},
   "outputs": [
    {
     "data": {
      "text/html": [
       "0.112179487179487"
      ],
      "text/latex": [
       "0.112179487179487"
      ],
      "text/markdown": [
       "0.112179487179487"
      ],
      "text/plain": [
       "[1] 0.1121795"
      ]
     },
     "metadata": {},
     "output_type": "display_data"
    }
   ],
   "source": [
    "p_e_mutaul = 21*(36^3)*5 / (26*36^4)\n",
    "p_e_mutaul"
   ]
  },
  {
   "cell_type": "code",
   "execution_count": 17,
   "id": "850e8eee-6af5-4fe1-9423-3edf636ca343",
   "metadata": {},
   "outputs": [
    {
     "data": {
      "text/html": [
       "0.834401709401709"
      ],
      "text/latex": [
       "0.834401709401709"
      ],
      "text/markdown": [
       "0.834401709401709"
      ],
      "text/plain": [
       "[1] 0.8344017"
      ]
     },
     "metadata": {},
     "output_type": "display_data"
    }
   ],
   "source": [
    "p_union = p_e_1 + p_e_2 - p_e_mutaul\n",
    "p_union"
   ]
  },
  {
   "cell_type": "code",
   "execution_count": null,
   "id": "78d06a38-13ac-4fac-98a6-ed6c5be0573c",
   "metadata": {},
   "outputs": [],
   "source": []
  }
 ],
 "metadata": {
  "kernelspec": {
   "display_name": "R",
   "language": "R",
   "name": "ir"
  },
  "language_info": {
   "codemirror_mode": "r",
   "file_extension": ".r",
   "mimetype": "text/x-r-source",
   "name": "R",
   "pygments_lexer": "r",
   "version": "4.2.1"
  }
 },
 "nbformat": 4,
 "nbformat_minor": 5
}
