{
 "cells": [
  {
   "cell_type": "markdown",
   "id": "55bed212-bb53-4e92-8965-dd25a0d3d77b",
   "metadata": {},
   "source": [
    "# $$\n",
    "\\begin{equation}\n",
    "\\begin{split}\n",
    "A \\cap B & = B \\cap A \\\\\n",
    "P(A \\cap B) & = P(B \\cap A) \\\\\n",
    "P(B)P(A|B) & = P(A)P(B|A) \\\\\n",
    "& = \\tiny{\\text{สังเกตุว่า LHS จะเป็นก้อนเดียวกันที่มีความหมายมาก่อนอยู่แล้ว}}\n",
    "\\\\\n",
    "P(A|B) &= \\frac{P(A)P(B|A)}{P(B)}\n",
    "% P(A|B) &= \\frac{\\textcolor{red}{P(A)P(B|A)}{P(B)}}\n",
    "\\end{split}\n",
    "\\end{equation}\n",
    "$$\n",
    "\n",
    "### กฏข้อนี้เป็นของ Thomas Bayes เขาสร้างขึ้นเพราะรู้ว่า <h3 style=\"color:orange\">ทั้งเหตุการณ์ A กับ B เกิดขึ้นมาก่อนแล้วทั้งคู่</h3> เขาเพียงแค่ทำนายย้อนไปถึงอดีต ไม่ได้ทำนายอนาคตถึงสิ่งที่ยังไม่เกิดขึ้นแบบ Posterior Probability"
   ]
  },
  {
   "cell_type": "markdown",
   "id": "b1fa3290-b2d6-46e2-96d2-af113d7b1da7",
   "metadata": {},
   "source": [
    "||Compiles on the First Run | Does Not Compile on First Run | |\n",
    "| --- | ---| ---|---\n",
    "C++ | 72 | 48 | 120\n",
    "Java | 64 | 16 | 80\n",
    "|| 136 | 64 |  200"
   ]
  },
  {
   "cell_type": "markdown",
   "id": "9e87b18b-2cfd-4ea5-8cc5-f7671eb6fc70",
   "metadata": {},
   "source": [
    "##  $$\n",
    "\\begin{equation}\n",
    "\\newcommand{cpp}{C_{++}}\n",
    "\\begin{split}\n",
    "P(\\cpp | E) & = \\frac{ P(C_{++})P(E | C_{++}) }{ P(E)} \\\\\n",
    "    & = \\frac{ P(C_{++})P(E | C_{++}) }{\n",
    "        P(\\cpp)P(E|\\cpp) + P(J)P(E|J)\n",
    "    }\n",
    "\\end{split}\n",
    "\\end{equation}\n",
    "$$"
   ]
  },
  {
   "cell_type": "code",
   "execution_count": 10,
   "id": "410be76b-0333-4fc9-9080-eff1f4eedb15",
   "metadata": {},
   "outputs": [
    {
     "data": {
      "text/html": [
       "0.68"
      ],
      "text/latex": [
       "0.68"
      ],
      "text/markdown": [
       "0.68"
      ],
      "text/plain": [
       "[1] 0.68"
      ]
     },
     "metadata": {},
     "output_type": "display_data"
    }
   ],
   "source": [
    "p_e = 120/200 * 72/120 + 80/200 * 64/80\n",
    "p_e"
   ]
  },
  {
   "cell_type": "code",
   "execution_count": 14,
   "id": "28caf2ba-27ee-4f76-b9a7-66918b6ecfbc",
   "metadata": {},
   "outputs": [
    {
     "data": {
      "text/html": [
       "0.529411764705882"
      ],
      "text/latex": [
       "0.529411764705882"
      ],
      "text/markdown": [
       "0.529411764705882"
      ],
      "text/plain": [
       "[1] 0.5294118"
      ]
     },
     "metadata": {},
     "output_type": "display_data"
    }
   ],
   "source": [
    "postcpp = (120/200) * (72/120) / p_e\n",
    "postcpp"
   ]
  },
  {
   "cell_type": "code",
   "execution_count": 15,
   "id": "46c9a94c-6971-4799-8244-9c68644aae9a",
   "metadata": {},
   "outputs": [
    {
     "data": {
      "text/html": [
       "0.529411764705882"
      ],
      "text/latex": [
       "0.529411764705882"
      ],
      "text/markdown": [
       "0.529411764705882"
      ],
      "text/plain": [
       "[1] 0.5294118"
      ]
     },
     "metadata": {},
     "output_type": "display_data"
    }
   ],
   "source": [
    "p_cpp_given_e = ((120/200)*(72/120)) / p_e\n",
    "p_cpp_given_e"
   ]
  },
  {
   "cell_type": "code",
   "execution_count": 16,
   "id": "3cb9dddf-942d-47c3-bdf8-f0fa9729a739",
   "metadata": {},
   "outputs": [
    {
     "data": {
      "text/html": [
       "0.470588235294118"
      ],
      "text/latex": [
       "0.470588235294118"
      ],
      "text/markdown": [
       "0.470588235294118"
      ],
      "text/plain": [
       "[1] 0.4705882"
      ]
     },
     "metadata": {},
     "output_type": "display_data"
    }
   ],
   "source": [
    "postjava = (80/200)*(64/80) / p_e\n",
    "postjava"
   ]
  },
  {
   "cell_type": "code",
   "execution_count": null,
   "id": "652749cd-1095-4a15-85c5-c45b8225f820",
   "metadata": {},
   "outputs": [],
   "source": []
  }
 ],
 "metadata": {
  "kernelspec": {
   "display_name": "R",
   "language": "R",
   "name": "ir"
  },
  "language_info": {
   "codemirror_mode": "r",
   "file_extension": ".r",
   "mimetype": "text/x-r-source",
   "name": "R",
   "pygments_lexer": "r",
   "version": "4.2.1"
  }
 },
 "nbformat": 4,
 "nbformat_minor": 5
}
