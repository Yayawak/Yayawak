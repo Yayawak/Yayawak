{
 "cells": [
  {
   "cell_type": "markdown",
   "id": "55bed212-bb53-4e92-8965-dd25a0d3d77b",
   "metadata": {},
   "source": [
    "# $$\n",
    "\\begin{equation}\n",
    "\\begin{split}\n",
    "A \\cap B & = B \\cap A \\\\\n",
    "P(A \\cap B) & = P(B \\cap A) \\\\\n",
    "P(B)P(A|B) & = P(A)P(B|A) \\\\\n",
    "& = \\tiny{\\text{สังเกตุว่า LHS จะเป็นก้อนเดียวกันที่มีความหมายมาก่อนอยู่แล้ว}}\n",
    "\\\\\n",
    "P(A|B) &= \\frac{P(A)P(B|A)}{P(B)}\n",
    "% P(A|B) &= \\frac{\\textcolor{red}{P(A)P(B|A)}{P(B)}}\n",
    "\\end{split}\n",
    "\\end{equation}\n",
    "$$\n",
    "\n",
    "### กฏข้อนี้เป็นของ Thomas Bayes เขาสร้างขึ้นเพราะรู้ว่า <h3 style=\"color:orange\">ทั้งเหตุการณ์ A กับ B เกิดขึ้นมาก่อนแล้วทั้งคู่</h3> เขาเพียงแค่ทำนายย้อนไปถึงอดีต ไม่ได้ทำนายอนาคตถึงสิ่งที่ยังไม่เกิดขึ้นแบบ Posterior Probability"
   ]
  },
  {
   "cell_type": "markdown",
   "id": "b1fa3290-b2d6-46e2-96d2-af113d7b1da7",
   "metadata": {},
   "source": [
    "## Ex 6.4\n",
    "||Compiles on the First Run | Does Not Compile on First Run | |\n",
    "| --- | ---| ---|---\n",
    "C++ | 72 | 48 | 120\n",
    "Java | 64 | 16 | 80\n",
    "|| 136 | 64 |  200"
   ]
  },
  {
   "cell_type": "markdown",
   "id": "9e87b18b-2cfd-4ea5-8cc5-f7671eb6fc70",
   "metadata": {},
   "source": [
    "##  $$\n",
    "\\begin{equation}\n",
    "\\newcommand{cpp}{C_{++}}\n",
    "\\begin{split}\n",
    "P(\\cpp | E) & = \\frac{ P(C_{++})P(E | C_{++}) }{ P(E)} \\\\\n",
    "    & = \\frac{ P(C_{++})P(E | C_{++}) }{\n",
    "        P(\\cpp)P(E|\\cpp) + P(J)P(E|J)\n",
    "    }\n",
    "\\end{split}\n",
    "\\end{equation}\n",
    "$$"
   ]
  },
  {
   "cell_type": "code",
   "execution_count": 10,
   "id": "410be76b-0333-4fc9-9080-eff1f4eedb15",
   "metadata": {},
   "outputs": [
    {
     "data": {
      "text/html": [
       "0.68"
      ],
      "text/latex": [
       "0.68"
      ],
      "text/markdown": [
       "0.68"
      ],
      "text/plain": [
       "[1] 0.68"
      ]
     },
     "metadata": {},
     "output_type": "display_data"
    }
   ],
   "source": [
    "p_e = 120/200 * 72/120 + 80/200 * 64/80\n",
    "p_e"
   ]
  },
  {
   "cell_type": "code",
   "execution_count": 14,
   "id": "28caf2ba-27ee-4f76-b9a7-66918b6ecfbc",
   "metadata": {},
   "outputs": [
    {
     "data": {
      "text/html": [
       "0.529411764705882"
      ],
      "text/latex": [
       "0.529411764705882"
      ],
      "text/markdown": [
       "0.529411764705882"
      ],
      "text/plain": [
       "[1] 0.5294118"
      ]
     },
     "metadata": {},
     "output_type": "display_data"
    }
   ],
   "source": [
    "postcpp = (120/200) * (72/120) / p_e\n",
    "postcpp"
   ]
  },
  {
   "cell_type": "code",
   "execution_count": 15,
   "id": "46c9a94c-6971-4799-8244-9c68644aae9a",
   "metadata": {},
   "outputs": [
    {
     "data": {
      "text/html": [
       "0.529411764705882"
      ],
      "text/latex": [
       "0.529411764705882"
      ],
      "text/markdown": [
       "0.529411764705882"
      ],
      "text/plain": [
       "[1] 0.5294118"
      ]
     },
     "metadata": {},
     "output_type": "display_data"
    }
   ],
   "source": [
    "p_cpp_given_e = ((120/200)*(72/120)) / p_e\n",
    "p_cpp_given_e"
   ]
  },
  {
   "cell_type": "code",
   "execution_count": 16,
   "id": "3cb9dddf-942d-47c3-bdf8-f0fa9729a739",
   "metadata": {},
   "outputs": [
    {
     "data": {
      "text/html": [
       "0.470588235294118"
      ],
      "text/latex": [
       "0.470588235294118"
      ],
      "text/markdown": [
       "0.470588235294118"
      ],
      "text/plain": [
       "[1] 0.4705882"
      ]
     },
     "metadata": {},
     "output_type": "display_data"
    }
   ],
   "source": [
    "postjava = (80/200)*(64/80) / p_e\n",
    "postjava"
   ]
  },
  {
   "cell_type": "markdown",
   "id": "c00418b8-ef10-475a-a3f7-47c4a343e753",
   "metadata": {},
   "source": [
    "### Prior and Posterior Probabilities"
   ]
  },
  {
   "cell_type": "markdown",
   "id": "31dddc18-1015-4d9f-ab60-e16972da929b",
   "metadata": {},
   "source": [
    "# Ex 7.2 Monty Hall : Reward behide the door"
   ]
  },
  {
   "cell_type": "markdown",
   "id": "ace35995-496d-4a09-840e-a0abb6acbddc",
   "metadata": {},
   "source": [
    "# Hardware Fault Diagnosis"
   ]
  },
  {
   "cell_type": "code",
   "execution_count": 18,
   "id": "29572bc6-2c1f-4105-a115-fa51a63f4e69",
   "metadata": {},
   "outputs": [],
   "source": [
    "# Printer failures : 3 problens : hardware, software, electrical connections\n"
   ]
  },
  {
   "cell_type": "markdown",
   "id": "b8af2a16-d79a-4b9e-ae94-2c2ad403e83e",
   "metadata": {},
   "source": [
    "|  | Hardware | Software | Electrical connections |\n",
    "---| --- |--- | ---\n",
    "P(problems concerning) | 0.1 | 0.6 | 0.3 \n",
    "P(fail from cause...) | 0.9 | 0.2 | 0.5\n",
    "\n",
    "## What is the most likely cause of the problem ?"
   ]
  },
  {
   "cell_type": "code",
   "execution_count": 20,
   "id": "5ef52f3d-aba1-4d5a-a6fb-420f668013bb",
   "metadata": {},
   "outputs": [
    {
     "data": {
      "text/html": [
       "0.36"
      ],
      "text/latex": [
       "0.36"
      ],
      "text/markdown": [
       "0.36"
      ],
      "text/plain": [
       "[1] 0.36"
      ]
     },
     "metadata": {},
     "output_type": "display_data"
    }
   ],
   "source": [
    "# Find P(H|F), P(S|F), P(E|F)\n",
    "# p_f = p_total_failure\n",
    "p_f = .1*.9 + .6*.2 + .3*.5\n",
    "p_f"
   ]
  },
  {
   "cell_type": "code",
   "execution_count": 23,
   "id": "6755c0dc-097d-4767-972d-ef5c7afc36a1",
   "metadata": {},
   "outputs": [
    {
     "data": {
      "text/html": [
       "0.25"
      ],
      "text/latex": [
       "0.25"
      ],
      "text/markdown": [
       "0.25"
      ],
      "text/plain": [
       "[1] 0.25"
      ]
     },
     "metadata": {},
     "output_type": "display_data"
    }
   ],
   "source": [
    "p_h_given_f = (.1*.9) / p_f\n",
    "p_h_given_f"
   ]
  },
  {
   "cell_type": "code",
   "execution_count": 24,
   "id": "ba7f7e6d-a92a-4cda-8127-2869eeaac8cb",
   "metadata": {},
   "outputs": [
    {
     "data": {
      "text/html": [
       "0.333333333333333"
      ],
      "text/latex": [
       "0.333333333333333"
      ],
      "text/markdown": [
       "0.333333333333333"
      ],
      "text/plain": [
       "[1] 0.3333333"
      ]
     },
     "metadata": {},
     "output_type": "display_data"
    }
   ],
   "source": [
    "p_s_given_f = (.6*.2) / p_f\n",
    "p_s_given_f"
   ]
  },
  {
   "cell_type": "code",
   "execution_count": 26,
   "id": "5a8493c0-737a-4b5f-aed1-653c4429c627",
   "metadata": {},
   "outputs": [
    {
     "data": {
      "text/html": [
       "0.416666666666667"
      ],
      "text/latex": [
       "0.416666666666667"
      ],
      "text/markdown": [
       "0.416666666666667"
      ],
      "text/plain": [
       "[1] 0.4166667"
      ]
     },
     "metadata": {},
     "output_type": "display_data"
    }
   ],
   "source": [
    "p_e_given_f = (.3*.5) / p_f\n",
    "p_e_given_f"
   ]
  },
  {
   "cell_type": "code",
   "execution_count": null,
   "id": "7f4db405-087c-430b-a4ef-6edbc75d39f1",
   "metadata": {},
   "outputs": [],
   "source": [
    "# P(Electronic | Failure) is the most problem (is largest problem)"
   ]
  },
  {
   "cell_type": "markdown",
   "id": "b1c79d11-ef77-484c-a59a-0f17f04b5313",
   "metadata": {},
   "source": [
    "# Machine Learning\n",
    "### Bayes' theorem is used for classification of items\n",
    "two classes y=1, y=2 into whech we can classify $f$ (item to predict)"
   ]
  },
  {
   "cell_type": "markdown",
   "id": "42cf0d28-df92-4333-ae89-5e339f67366a",
   "metadata": {},
   "source": [
    "# Exercises 7.1\n",
    "\n",
    "# 1. \n",
    "||Compiles on the First Run | Does Not Compile on First Run | |\n",
    "| --- | ---| ---|---\n",
    "C++ | 72 | 48 | 120\n",
    "Java | 64 | 16 | 80\n",
    "|| 136 | 64 |  200"
   ]
  },
  {
   "cell_type": "code",
   "execution_count": 27,
   "id": "0ed8f879-2896-4809-9b6a-2427033a95e1",
   "metadata": {},
   "outputs": [
    {
     "data": {
      "text/html": [
       "0.68"
      ],
      "text/latex": [
       "0.68"
      ],
      "text/markdown": [
       "0.68"
      ],
      "text/plain": [
       "[1] 0.68"
      ]
     },
     "metadata": {},
     "output_type": "display_data"
    }
   ],
   "source": [
    "# P(total) = P(E) = P(C++)P(E|C++) + P(J)P(E|J)\n",
    "p_total_e = 120/200 * 72/120 + 80/200 * 64/80\n",
    "p_total_e"
   ]
  },
  {
   "cell_type": "code",
   "execution_count": 28,
   "id": "0597d4da-d2ec-4934-ba0c-3f048a924216",
   "metadata": {},
   "outputs": [
    {
     "data": {
      "text/html": [
       "0.529411764705882"
      ],
      "text/latex": [
       "0.529411764705882"
      ],
      "text/markdown": [
       "0.529411764705882"
      ],
      "text/plain": [
       "[1] 0.5294118"
      ]
     },
     "metadata": {},
     "output_type": "display_data"
    }
   ],
   "source": [
    "# P(C++|E) = P(C++)P(E|C++) / P(E)\n",
    "p_post_cpp = ( 120/200 * 72/120 )/ p_total_e\n",
    "p_post_cpp"
   ]
  },
  {
   "cell_type": "code",
   "execution_count": 29,
   "id": "93d3ab92-6dd6-475a-a595-60dd0ac5e5d7",
   "metadata": {},
   "outputs": [
    {
     "data": {
      "text/html": [
       "0.470588235294118"
      ],
      "text/latex": [
       "0.470588235294118"
      ],
      "text/markdown": [
       "0.470588235294118"
      ],
      "text/plain": [
       "[1] 0.4705882"
      ]
     },
     "metadata": {},
     "output_type": "display_data"
    }
   ],
   "source": [
    "p_post_java = 1 - p_post_cpp\n",
    "p_post_java"
   ]
  },
  {
   "cell_type": "code",
   "execution_count": null,
   "id": "6761df93-e844-4e67-8d10-15831eaa7781",
   "metadata": {},
   "outputs": [],
   "source": []
  }
 ],
 "metadata": {
  "kernelspec": {
   "display_name": "R",
   "language": "R",
   "name": "ir"
  },
  "language_info": {
   "codemirror_mode": "r",
   "file_extension": ".r",
   "mimetype": "text/x-r-source",
   "name": "R",
   "pygments_lexer": "r",
   "version": "4.2.1"
  }
 },
 "nbformat": 4,
 "nbformat_minor": 5
}
