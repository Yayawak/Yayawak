{
 "cells": [
  {
   "cell_type": "code",
   "execution_count": 3,
   "id": "51818dfd-8f16-4524-bc2a-16b6c9a5483d",
   "metadata": {},
   "outputs": [
    {
     "data": {
      "text/html": [
       "7.33333333333333"
      ],
      "text/latex": [
       "7.33333333333333"
      ],
      "text/markdown": [
       "7.33333333333333"
      ],
      "text/plain": [
       "[1] 7.333333"
      ]
     },
     "metadata": {},
     "output_type": "display_data"
    }
   ],
   "source": [
    "5 + 7/3\n"
   ]
  },
  {
   "cell_type": "code",
   "execution_count": 4,
   "id": "b36995ba-cec3-4153-9953-992ec1ea2856",
   "metadata": {},
   "outputs": [],
   "source": [
    "x <- 15.5"
   ]
  },
  {
   "cell_type": "code",
   "execution_count": 5,
   "id": "50f64133-91c1-4c95-b442-b875722e53ef",
   "metadata": {},
   "outputs": [
    {
     "data": {
      "text/html": [
       "15.5"
      ],
      "text/latex": [
       "15.5"
      ],
      "text/markdown": [
       "15.5"
      ],
      "text/plain": [
       "[1] 15.5"
      ]
     },
     "metadata": {},
     "output_type": "display_data"
    }
   ],
   "source": [
    "x"
   ]
  },
  {
   "cell_type": "code",
   "execution_count": 6,
   "id": "e785cb4b-d1a4-497c-ace0-5a5042ae01cb",
   "metadata": {},
   "outputs": [
    {
     "data": {
      "text/html": [
       "240.25"
      ],
      "text/latex": [
       "240.25"
      ],
      "text/markdown": [
       "240.25"
      ],
      "text/plain": [
       "[1] 240.25"
      ]
     },
     "metadata": {},
     "output_type": "display_data"
    }
   ],
   "source": [
    "x**2"
   ]
  },
  {
   "cell_type": "code",
   "execution_count": 7,
   "id": "b88d7b47-1212-4609-a5bc-24e2dc5998a7",
   "metadata": {},
   "outputs": [
    {
     "data": {
      "text/html": [
       "<style>\n",
       ".list-inline {list-style: none; margin:0; padding: 0}\n",
       ".list-inline>li {display: inline-block}\n",
       ".list-inline>li:not(:last-child)::after {content: \"\\00b7\"; padding: 0 .5ex}\n",
       "</style>\n",
       "<ol class=list-inline><li>48</li><li>49</li><li>50</li><li>51</li><li>52</li><li>53</li><li>54</li><li>55</li><li>56</li></ol>\n"
      ],
      "text/latex": [
       "\\begin{enumerate*}\n",
       "\\item 48\n",
       "\\item 49\n",
       "\\item 50\n",
       "\\item 51\n",
       "\\item 52\n",
       "\\item 53\n",
       "\\item 54\n",
       "\\item 55\n",
       "\\item 56\n",
       "\\end{enumerate*}\n"
      ],
      "text/markdown": [
       "1. 48\n",
       "2. 49\n",
       "3. 50\n",
       "4. 51\n",
       "5. 52\n",
       "6. 53\n",
       "7. 54\n",
       "8. 55\n",
       "9. 56\n",
       "\n",
       "\n"
      ],
      "text/plain": [
       "[1] 48 49 50 51 52 53 54 55 56"
      ]
     },
     "metadata": {},
     "output_type": "display_data"
    }
   ],
   "source": [
    "x <- 48:56\n",
    "x"
   ]
  },
  {
   "cell_type": "code",
   "execution_count": 8,
   "id": "ad0dc0ad-1295-4884-ab27-0e36c27b31ce",
   "metadata": {},
   "outputs": [
    {
     "data": {
      "text/html": [
       "<style>\n",
       ".list-inline {list-style: none; margin:0; padding: 0}\n",
       ".list-inline>li {display: inline-block}\n",
       ".list-inline>li:not(:last-child)::after {content: \"\\00b7\"; padding: 0 .5ex}\n",
       "</style>\n",
       "<ol class=list-inline><li>24</li><li>24.5</li><li>25</li><li>25.5</li><li>26</li><li>26.5</li><li>27</li><li>27.5</li><li>28</li></ol>\n"
      ],
      "text/latex": [
       "\\begin{enumerate*}\n",
       "\\item 24\n",
       "\\item 24.5\n",
       "\\item 25\n",
       "\\item 25.5\n",
       "\\item 26\n",
       "\\item 26.5\n",
       "\\item 27\n",
       "\\item 27.5\n",
       "\\item 28\n",
       "\\end{enumerate*}\n"
      ],
      "text/markdown": [
       "1. 24\n",
       "2. 24.5\n",
       "3. 25\n",
       "4. 25.5\n",
       "5. 26\n",
       "6. 26.5\n",
       "7. 27\n",
       "8. 27.5\n",
       "9. 28\n",
       "\n",
       "\n"
      ],
      "text/plain": [
       "[1] 24.0 24.5 25.0 25.5 26.0 26.5 27.0 27.5 28.0"
      ]
     },
     "metadata": {},
     "output_type": "display_data"
    }
   ],
   "source": [
    "x/2"
   ]
  },
  {
   "cell_type": "code",
   "execution_count": 9,
   "id": "941d0c51-0dc1-41fc-9e6f-80b1fc0a53a7",
   "metadata": {},
   "outputs": [
    {
     "data": {
      "text/html": [
       "<style>\n",
       ".list-inline {list-style: none; margin:0; padding: 0}\n",
       ".list-inline>li {display: inline-block}\n",
       ".list-inline>li:not(:last-child)::after {content: \"\\00b7\"; padding: 0 .5ex}\n",
       "</style>\n",
       "<ol class=list-inline><li>52</li><li>53</li><li>54</li><li>55</li><li>56</li><li>57</li><li>58</li><li>59</li><li>60</li></ol>\n"
      ],
      "text/latex": [
       "\\begin{enumerate*}\n",
       "\\item 52\n",
       "\\item 53\n",
       "\\item 54\n",
       "\\item 55\n",
       "\\item 56\n",
       "\\item 57\n",
       "\\item 58\n",
       "\\item 59\n",
       "\\item 60\n",
       "\\end{enumerate*}\n"
      ],
      "text/markdown": [
       "1. 52\n",
       "2. 53\n",
       "3. 54\n",
       "4. 55\n",
       "5. 56\n",
       "6. 57\n",
       "7. 58\n",
       "8. 59\n",
       "9. 60\n",
       "\n",
       "\n"
      ],
      "text/plain": [
       "[1] 52 53 54 55 56 57 58 59 60"
      ]
     },
     "metadata": {},
     "output_type": "display_data"
    }
   ],
   "source": [
    "x + 4"
   ]
  },
  {
   "cell_type": "code",
   "execution_count": 12,
   "id": "ceff6acf-27b9-4243-8bda-cc0e28ef4e13",
   "metadata": {},
   "outputs": [
    {
     "data": {
      "text/html": [
       "<style>\n",
       ".list-inline {list-style: none; margin:0; padding: 0}\n",
       ".list-inline>li {display: inline-block}\n",
       ".list-inline>li:not(:last-child)::after {content: \"\\00b7\"; padding: 0 .5ex}\n",
       "</style>\n",
       "<ol class=list-inline><li>5.00702078263459e+80</li><li>6.60097246862195e+82</li><li>8.88178419700125e+84</li><li>1.21921130509465e+87</li><li>1.70676555274132e+89</li><li>2.43568481650227e+91</li><li>3.54211804501064e+93</li><li>5.24744532468752e+95</li><li>7.9164324866863e+97</li></ol>\n"
      ],
      "text/latex": [
       "\\begin{enumerate*}\n",
       "\\item 5.00702078263459e+80\n",
       "\\item 6.60097246862195e+82\n",
       "\\item 8.88178419700125e+84\n",
       "\\item 1.21921130509465e+87\n",
       "\\item 1.70676555274132e+89\n",
       "\\item 2.43568481650227e+91\n",
       "\\item 3.54211804501064e+93\n",
       "\\item 5.24744532468752e+95\n",
       "\\item 7.9164324866863e+97\n",
       "\\end{enumerate*}\n"
      ],
      "text/markdown": [
       "1. 5.00702078263459e+80\n",
       "2. 6.60097246862195e+82\n",
       "3. 8.88178419700125e+84\n",
       "4. 1.21921130509465e+87\n",
       "5. 1.70676555274132e+89\n",
       "6. 2.43568481650227e+91\n",
       "7. 3.54211804501064e+93\n",
       "8. 5.24744532468752e+95\n",
       "9. 7.9164324866863e+97\n",
       "\n",
       "\n"
      ],
      "text/plain": [
       "[1] 5.007021e+80 6.600972e+82 8.881784e+84 1.219211e+87 1.706766e+89\n",
       "[6] 2.435685e+91 3.542118e+93 5.247445e+95 7.916432e+97"
      ]
     },
     "metadata": {},
     "output_type": "display_data"
    }
   ],
   "source": [
    "x**x"
   ]
  },
  {
   "cell_type": "code",
   "execution_count": 13,
   "id": "35804bd5-0b46-4715-8278-004ca65d99f6",
   "metadata": {},
   "outputs": [
    {
     "data": {
      "text/html": [
       "<style>\n",
       ".list-inline {list-style: none; margin:0; padding: 0}\n",
       ".list-inline>li {display: inline-block}\n",
       ".list-inline>li:not(:last-child)::after {content: \"\\00b7\"; padding: 0 .5ex}\n",
       "</style>\n",
       "<ol class=list-inline><li>2304</li><li>2401</li><li>2500</li><li>2601</li><li>2704</li><li>2809</li><li>2916</li><li>3025</li><li>3136</li></ol>\n"
      ],
      "text/latex": [
       "\\begin{enumerate*}\n",
       "\\item 2304\n",
       "\\item 2401\n",
       "\\item 2500\n",
       "\\item 2601\n",
       "\\item 2704\n",
       "\\item 2809\n",
       "\\item 2916\n",
       "\\item 3025\n",
       "\\item 3136\n",
       "\\end{enumerate*}\n"
      ],
      "text/markdown": [
       "1. 2304\n",
       "2. 2401\n",
       "3. 2500\n",
       "4. 2601\n",
       "5. 2704\n",
       "6. 2809\n",
       "7. 2916\n",
       "8. 3025\n",
       "9. 3136\n",
       "\n",
       "\n"
      ],
      "text/plain": [
       "[1] 2304 2401 2500 2601 2704 2809 2916 3025 3136"
      ]
     },
     "metadata": {},
     "output_type": "display_data"
    }
   ],
   "source": [
    "x**2"
   ]
  },
  {
   "cell_type": "code",
   "execution_count": 20,
   "id": "35a54f7f-f17c-431d-b745-844847602aec",
   "metadata": {},
   "outputs": [
    {
     "name": "stderr",
     "output_type": "stream",
     "text": [
      "Warning message in 10:80:100:\n",
      "“numerical expression has 71 elements: only the first used”\n"
     ]
    },
    {
     "data": {
      "text/html": [
       "<style>\n",
       ".list-inline {list-style: none; margin:0; padding: 0}\n",
       ".list-inline>li {display: inline-block}\n",
       ".list-inline>li:not(:last-child)::after {content: \"\\00b7\"; padding: 0 .5ex}\n",
       "</style>\n",
       "<ol class=list-inline><li>10</li><li>11</li><li>12</li><li>13</li><li>14</li><li>15</li><li>16</li><li>17</li><li>18</li><li>19</li><li>20</li><li>21</li><li>22</li><li>23</li><li>24</li><li>25</li><li>26</li><li>27</li><li>28</li><li>29</li><li>30</li><li>31</li><li>32</li><li>33</li><li>34</li><li>35</li><li>36</li><li>37</li><li>38</li><li>39</li><li>40</li><li>41</li><li>42</li><li>43</li><li>44</li><li>45</li><li>46</li><li>47</li><li>48</li><li>49</li><li>50</li><li>51</li><li>52</li><li>53</li><li>54</li><li>55</li><li>56</li><li>57</li><li>58</li><li>59</li><li>60</li><li>61</li><li>62</li><li>63</li><li>64</li><li>65</li><li>66</li><li>67</li><li>68</li><li>69</li><li>70</li><li>71</li><li>72</li><li>73</li><li>74</li><li>75</li><li>76</li><li>77</li><li>78</li><li>79</li><li>80</li><li>81</li><li>82</li><li>83</li><li>84</li><li>85</li><li>86</li><li>87</li><li>88</li><li>89</li><li>90</li><li>91</li><li>92</li><li>93</li><li>94</li><li>95</li><li>96</li><li>97</li><li>98</li><li>99</li><li>100</li></ol>\n"
      ],
      "text/latex": [
       "\\begin{enumerate*}\n",
       "\\item 10\n",
       "\\item 11\n",
       "\\item 12\n",
       "\\item 13\n",
       "\\item 14\n",
       "\\item 15\n",
       "\\item 16\n",
       "\\item 17\n",
       "\\item 18\n",
       "\\item 19\n",
       "\\item 20\n",
       "\\item 21\n",
       "\\item 22\n",
       "\\item 23\n",
       "\\item 24\n",
       "\\item 25\n",
       "\\item 26\n",
       "\\item 27\n",
       "\\item 28\n",
       "\\item 29\n",
       "\\item 30\n",
       "\\item 31\n",
       "\\item 32\n",
       "\\item 33\n",
       "\\item 34\n",
       "\\item 35\n",
       "\\item 36\n",
       "\\item 37\n",
       "\\item 38\n",
       "\\item 39\n",
       "\\item 40\n",
       "\\item 41\n",
       "\\item 42\n",
       "\\item 43\n",
       "\\item 44\n",
       "\\item 45\n",
       "\\item 46\n",
       "\\item 47\n",
       "\\item 48\n",
       "\\item 49\n",
       "\\item 50\n",
       "\\item 51\n",
       "\\item 52\n",
       "\\item 53\n",
       "\\item 54\n",
       "\\item 55\n",
       "\\item 56\n",
       "\\item 57\n",
       "\\item 58\n",
       "\\item 59\n",
       "\\item 60\n",
       "\\item 61\n",
       "\\item 62\n",
       "\\item 63\n",
       "\\item 64\n",
       "\\item 65\n",
       "\\item 66\n",
       "\\item 67\n",
       "\\item 68\n",
       "\\item 69\n",
       "\\item 70\n",
       "\\item 71\n",
       "\\item 72\n",
       "\\item 73\n",
       "\\item 74\n",
       "\\item 75\n",
       "\\item 76\n",
       "\\item 77\n",
       "\\item 78\n",
       "\\item 79\n",
       "\\item 80\n",
       "\\item 81\n",
       "\\item 82\n",
       "\\item 83\n",
       "\\item 84\n",
       "\\item 85\n",
       "\\item 86\n",
       "\\item 87\n",
       "\\item 88\n",
       "\\item 89\n",
       "\\item 90\n",
       "\\item 91\n",
       "\\item 92\n",
       "\\item 93\n",
       "\\item 94\n",
       "\\item 95\n",
       "\\item 96\n",
       "\\item 97\n",
       "\\item 98\n",
       "\\item 99\n",
       "\\item 100\n",
       "\\end{enumerate*}\n"
      ],
      "text/markdown": [
       "1. 10\n",
       "2. 11\n",
       "3. 12\n",
       "4. 13\n",
       "5. 14\n",
       "6. 15\n",
       "7. 16\n",
       "8. 17\n",
       "9. 18\n",
       "10. 19\n",
       "11. 20\n",
       "12. 21\n",
       "13. 22\n",
       "14. 23\n",
       "15. 24\n",
       "16. 25\n",
       "17. 26\n",
       "18. 27\n",
       "19. 28\n",
       "20. 29\n",
       "21. 30\n",
       "22. 31\n",
       "23. 32\n",
       "24. 33\n",
       "25. 34\n",
       "26. 35\n",
       "27. 36\n",
       "28. 37\n",
       "29. 38\n",
       "30. 39\n",
       "31. 40\n",
       "32. 41\n",
       "33. 42\n",
       "34. 43\n",
       "35. 44\n",
       "36. 45\n",
       "37. 46\n",
       "38. 47\n",
       "39. 48\n",
       "40. 49\n",
       "41. 50\n",
       "42. 51\n",
       "43. 52\n",
       "44. 53\n",
       "45. 54\n",
       "46. 55\n",
       "47. 56\n",
       "48. 57\n",
       "49. 58\n",
       "50. 59\n",
       "51. 60\n",
       "52. 61\n",
       "53. 62\n",
       "54. 63\n",
       "55. 64\n",
       "56. 65\n",
       "57. 66\n",
       "58. 67\n",
       "59. 68\n",
       "60. 69\n",
       "61. 70\n",
       "62. 71\n",
       "63. 72\n",
       "64. 73\n",
       "65. 74\n",
       "66. 75\n",
       "67. 76\n",
       "68. 77\n",
       "69. 78\n",
       "70. 79\n",
       "71. 80\n",
       "72. 81\n",
       "73. 82\n",
       "74. 83\n",
       "75. 84\n",
       "76. 85\n",
       "77. 86\n",
       "78. 87\n",
       "79. 88\n",
       "80. 89\n",
       "81. 90\n",
       "82. 91\n",
       "83. 92\n",
       "84. 93\n",
       "85. 94\n",
       "86. 95\n",
       "87. 96\n",
       "88. 97\n",
       "89. 98\n",
       "90. 99\n",
       "91. 100\n",
       "\n",
       "\n"
      ],
      "text/plain": [
       " [1]  10  11  12  13  14  15  16  17  18  19  20  21  22  23  24  25  26  27  28\n",
       "[20]  29  30  31  32  33  34  35  36  37  38  39  40  41  42  43  44  45  46  47\n",
       "[39]  48  49  50  51  52  53  54  55  56  57  58  59  60  61  62  63  64  65  66\n",
       "[58]  67  68  69  70  71  72  73  74  75  76  77  78  79  80  81  82  83  84  85\n",
       "[77]  86  87  88  89  90  91  92  93  94  95  96  97  98  99 100"
      ]
     },
     "metadata": {},
     "output_type": "display_data"
    }
   ],
   "source": [
    "X <- 10:80:100\n",
    "X"
   ]
  },
  {
   "cell_type": "code",
   "execution_count": 22,
   "id": "7716a2fb-72a6-43cb-b7ed-322d40e4dd77",
   "metadata": {},
   "outputs": [],
   "source": [
    "# help()"
   ]
  },
  {
   "cell_type": "code",
   "execution_count": 24,
   "id": "c68cd97c-c6d9-48a6-bb74-e71d769c5581",
   "metadata": {},
   "outputs": [
    {
     "ename": "ERROR",
     "evalue": "Error in parse(text = x, srcfile = src): <text>:2:0: unexpected end of input\n1: ?\n   ^\n",
     "output_type": "error",
     "traceback": [
      "Error in parse(text = x, srcfile = src): <text>:2:0: unexpected end of input\n1: ?\n   ^\nTraceback:\n"
     ]
    }
   ],
   "source": [
    "?"
   ]
  },
  {
   "cell_type": "code",
   "execution_count": 29,
   "id": "d37fedd8-7c4a-46ef-b96a-c24586b248b1",
   "metadata": {},
   "outputs": [
    {
     "data": {
      "text/html": [
       "<h3>Demos</h3>\n",
       "<table class=\"dataframe\">\n",
       "<caption>A data.frame: 16 × 3</caption>\n",
       "<thead>\n",
       "\t<tr><th scope=col>Package</th><th scope=col>Item</th><th scope=col>Title</th></tr>\n",
       "\t<tr><th scope=col>&lt;chr&gt;</th><th scope=col>&lt;chr&gt;</th><th scope=col>&lt;chr&gt;</th></tr>\n",
       "</thead>\n",
       "<tbody>\n",
       "\t<tr><td><span style=white-space:pre-wrap>stats    </span></td><td><span style=white-space:pre-wrap>glm.vr        </span></td><td><span style=white-space:pre-wrap>Some glm() examples from V&amp;R with several predictors                                                                   </span></td></tr>\n",
       "\t<tr><td>stats    </td><td>lm.glm        </td><td>Some linear and generalized linear modelling examples from `An Introduction to Statistical Modelling' by Annette Dobson</td></tr>\n",
       "\t<tr><td>stats    </td><td>nlm           </td><td>Nonlinear least-squares using nlm()                                                                                    </td></tr>\n",
       "\t<tr><td>stats    </td><td>smooth        </td><td>`Visualize' steps in Tukey's smoothers                                                                                 </td></tr>\n",
       "\t<tr><td>graphics </td><td>Hershey       </td><td>Tables of the characters in the Hershey vector fonts                                                                   </td></tr>\n",
       "\t<tr><td>graphics </td><td>Japanese      </td><td>Tables of the Japanese characters in the Hershey vector fonts                                                          </td></tr>\n",
       "\t<tr><td>graphics </td><td>graphics      </td><td>A show of some of R's graphics capabilities                                                                            </td></tr>\n",
       "\t<tr><td>graphics </td><td>image         </td><td>The image-like graphics builtins of R                                                                                  </td></tr>\n",
       "\t<tr><td>graphics </td><td>persp         </td><td>Extended persp() examples                                                                                              </td></tr>\n",
       "\t<tr><td>graphics </td><td>plotmath      </td><td>Examples of the use of mathematics annotation                                                                          </td></tr>\n",
       "\t<tr><td>grDevices</td><td>colors        </td><td>A show of R's predefined colors()                                                                                      </td></tr>\n",
       "\t<tr><td>grDevices</td><td>hclColors     </td><td>Exploration of hcl() space                                                                                             </td></tr>\n",
       "\t<tr><td>base     </td><td>error.catching</td><td>More examples on catching and handling errors                                                                          </td></tr>\n",
       "\t<tr><td>base     </td><td>is.things     </td><td>Explore some properties of R objects and is.FOO() functions. Not for newbies!                                          </td></tr>\n",
       "\t<tr><td>base     </td><td>recursion     </td><td>Using recursion for adaptive integration                                                                               </td></tr>\n",
       "\t<tr><td>base     </td><td>scoping       </td><td>An illustration of lexical scoping.                                                                                    </td></tr>\n",
       "</tbody>\n",
       "</table>\n",
       "\n",
       "<p>Use ‘demo(package = .packages(all.available = TRUE))’\n",
       "to list the demos in all *available* packages.</p>"
      ],
      "text/plain": [
       "Demos in package ‘base’:\n",
       "\n",
       "error.catching          More examples on catching and handling errors\n",
       "is.things               Explore some properties of R objects and\n",
       "                        is.FOO() functions. Not for newbies!\n",
       "recursion               Using recursion for adaptive integration\n",
       "scoping                 An illustration of lexical scoping.\n",
       "Demos in package ‘grDevices’:\n",
       "\n",
       "colors                  A show of R's predefined colors()\n",
       "hclColors               Exploration of hcl() space\n",
       "Demos in package ‘graphics’:\n",
       "\n",
       "Hershey                 Tables of the characters in the Hershey vector\n",
       "                        fonts\n",
       "Japanese                Tables of the Japanese characters in the\n",
       "                        Hershey vector fonts\n",
       "graphics                A show of some of R's graphics capabilities\n",
       "image                   The image-like graphics builtins of R\n",
       "persp                   Extended persp() examples\n",
       "plotmath                Examples of the use of mathematics annotation\n",
       "Demos in package ‘stats’:\n",
       "\n",
       "glm.vr                  Some glm() examples from V&R with several\n",
       "                        predictors\n",
       "lm.glm                  Some linear and generalized linear modelling\n",
       "                        examples from `An Introduction to Statistical\n",
       "                        Modelling' by Annette Dobson\n",
       "nlm                     Nonlinear least-squares using nlm()\n",
       "smooth                  `Visualize' steps in Tukey's smoothers\n",
       "\n",
       "Use ‘demo(package = .packages(all.available = TRUE))’\n",
       "to list the demos in all *available* packages."
      ]
     },
     "metadata": {},
     "output_type": "display_data"
    }
   ],
   "source": [
    "demo()"
   ]
  },
  {
   "cell_type": "code",
   "execution_count": null,
   "id": "e9abdc01-4622-4b2b-9238-2ff1e8a4a04a",
   "metadata": {},
   "outputs": [],
   "source": []
  },
  {
   "cell_type": "code",
   "execution_count": null,
   "id": "688a1edf-8d28-43f8-bb96-20080a83faa5",
   "metadata": {},
   "outputs": [],
   "source": []
  },
  {
   "cell_type": "code",
   "execution_count": 27,
   "id": "eea6a175-3b2e-4011-af8e-977b48c96bdb",
   "metadata": {},
   "outputs": [
    {
     "data": {
      "text/html": [
       "No documentation for ‘read.Table’ in specified packages and libraries:\n",
       "you could try ‘??read.Table’"
      ],
      "text/latex": [
       "No documentation for ‘read.Table’ in specified packages and libraries:\n",
       "you could try ‘??read.Table’"
      ],
      "text/plain": [
       "No documentation for ‘read.Table’ in specified packages and libraries:\n",
       "you could try ‘??read.Table’"
      ]
     },
     "metadata": {},
     "output_type": "display_data"
    }
   ],
   "source": [
    "help(read.Table)"
   ]
  },
  {
   "cell_type": "code",
   "execution_count": null,
   "id": "c86545a8-5d76-406d-982a-93e9300df320",
   "metadata": {},
   "outputs": [],
   "source": []
  }
 ],
 "metadata": {
  "kernelspec": {
   "display_name": "R",
   "language": "R",
   "name": "ir"
  },
  "language_info": {
   "codemirror_mode": "r",
   "file_extension": ".r",
   "mimetype": "text/x-r-source",
   "name": "R",
   "pygments_lexer": "r",
   "version": "4.2.1"
  }
 },
 "nbformat": 4,
 "nbformat_minor": 5
}
