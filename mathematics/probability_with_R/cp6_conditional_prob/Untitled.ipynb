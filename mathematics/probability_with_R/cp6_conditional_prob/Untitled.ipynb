{
 "cells": [
  {
   "cell_type": "markdown",
   "id": "f770b3c9-0595-42fd-85eb-df387af63b52",
   "metadata": {},
   "source": [
    "# Conditional Probability\n",
    "- Student will not turn up to a lecture because of love-triangle, rain, ball was held the night before.\n",
    "\n",
    "# Ex 4.14 : java, c++ | compilable, un-compilable\n",
    "  | | Java | C++ |\n",
    " --- | --- | --- \n",
    " number of programs | 80 | 120 \n",
    " compilable percentage | 80% | 60 % \n",
    " \n",
    "# ...\n",
    "||Compiles on the First Run | Does Not Compile on First Run | |\n",
    "| --- | ---| ---|---\n",
    "C++ | 81.6 | 38.4 | 120\n",
    "Java | 54.4 | 25.6 | 80\n",
    "|| 136 | 64 |  200\n",
    "\n",
    "## $$\n",
    "E = \\text{Compilable on first running} \\\\\n",
    "P(E|C++) = \\frac{P(E \\cap C_{++})}{P(C_{++})} \\\\\n",
    "    =\\frac{\\frac{81.6}{200}}{\\frac{136}{200}}\n",
    "$$"
   ]
  },
  {
   "cell_type": "code",
   "execution_count": 8,
   "id": "58b36f89-4735-4228-92e6-46726845d1cf",
   "metadata": {},
   "outputs": [
    {
     "name": "stdout",
     "output_type": "stream",
     "text": [
      "[1] 0.6\n",
      "[1] 0.68\n",
      "[1] 0.8823529\n"
     ]
    }
   ],
   "source": [
    "a = 81.6/136\n",
    "b =136/200 \n",
    "print(a)\n",
    "print(b)\n",
    "print(a/b)"
   ]
  },
  {
   "cell_type": "code",
   "execution_count": 9,
   "id": "e9661119-479d-4fc7-a8e2-4fd696388862",
   "metadata": {},
   "outputs": [],
   "source": [
    "#P(E|J) = P(E intersect J) / P(J)"
   ]
  },
  {
   "cell_type": "markdown",
   "id": "4b146a64-8cc9-4019-a0e1-930edaee3182",
   "metadata": {},
   "source": [
    "### Four computer firms A,B,C,D $P_i$ = 0.35, 0.15, 0.3, 0.2 \n",
    "#### but now B withdraws the bid. Find each new prob without B \n",
    "- $P(A|\\bar{B})$ = ?"
   ]
  },
  {
   "cell_type": "code",
   "execution_count": 11,
   "id": "74d03e12-3e83-4fd9-a43e-ef7ddd50a5e2",
   "metadata": {},
   "outputs": [
    {
     "data": {
      "text/html": [
       "0.411764705882353"
      ],
      "text/latex": [
       "0.411764705882353"
      ],
      "text/markdown": [
       "0.411764705882353"
      ],
      "text/plain": [
       "[1] 0.4117647"
      ]
     },
     "metadata": {},
     "output_type": "display_data"
    }
   ],
   "source": [
    "# P(A | not B) \n",
    "p_1 = 0.35/0.85\n",
    "p_1"
   ]
  },
  {
   "cell_type": "code",
   "execution_count": 13,
   "id": "4e7d8c4c-7238-43d0-9de8-7ac47563b3e6",
   "metadata": {},
   "outputs": [
    {
     "data": {
      "text/html": [
       "0.352941176470588"
      ],
      "text/latex": [
       "0.352941176470588"
      ],
      "text/markdown": [
       "0.352941176470588"
      ],
      "text/plain": [
       "[1] 0.3529412"
      ]
     },
     "metadata": {},
     "output_type": "display_data"
    }
   ],
   "source": [
    "#P(C | not B)\n",
    "p_2 = 0.3 / 0.85\n",
    "p_2"
   ]
  },
  {
   "cell_type": "code",
   "execution_count": 14,
   "id": "39ef2698-5f1c-4295-898d-84edda10a5e6",
   "metadata": {},
   "outputs": [
    {
     "data": {
      "text/html": [
       "0.235294117647059"
      ],
      "text/latex": [
       "0.235294117647059"
      ],
      "text/markdown": [
       "0.235294117647059"
      ],
      "text/plain": [
       "[1] 0.2352941"
      ]
     },
     "metadata": {},
     "output_type": "display_data"
    }
   ],
   "source": [
    "p_3 = 0.2 / 0.85\n",
    "p_3"
   ]
  },
  {
   "cell_type": "code",
   "execution_count": 15,
   "id": "8726477d-5add-4733-b633-c16531be3c9e",
   "metadata": {},
   "outputs": [
    {
     "data": {
      "text/html": [
       "1"
      ],
      "text/latex": [
       "1"
      ],
      "text/markdown": [
       "1"
      ],
      "text/plain": [
       "[1] 1"
      ]
     },
     "metadata": {},
     "output_type": "display_data"
    }
   ],
   "source": [
    "p_1 + p_2 + p_3"
   ]
  },
  {
   "cell_type": "markdown",
   "id": "cc37537e-6ac3-422a-897d-5ecf3eb7f076",
   "metadata": {},
   "source": [
    "# Mulitplication law of probability\n",
    "# $$\n",
    "P(E_1 \\cap E_2) = P(E_1)P(E_2 | E_1)\n",
    "$$"
   ]
  },
  {
   "cell_type": "code",
   "execution_count": 19,
   "id": "40855f10-ff11-42d1-ba12-a44b93d99539",
   "metadata": {},
   "outputs": [
    {
     "data": {
      "text/html": [
       "0.0588235294117647"
      ],
      "text/latex": [
       "0.0588235294117647"
      ],
      "text/markdown": [
       "0.0588235294117647"
      ],
      "text/plain": [
       "[1] 0.05882353"
      ]
     },
     "metadata": {},
     "output_type": "display_data"
    }
   ],
   "source": [
    "# pull 2 carss from a deck without replacement\n",
    "# B_1 = E(black card on the first draw)\n",
    "# B_2 = E(a black on the second)\n",
    "\n",
    "# p_inters = (26/52) * (25/51)\n",
    "p_inters = (13/52) * (12/51)\n",
    "p_inters"
   ]
  },
  {
   "cell_type": "markdown",
   "id": "7a31de60-4aa7-4d15-a933-2f163ef38a63",
   "metadata": {},
   "source": [
    "### $$\n",
    "P(B_1 \\cap B_2 \\cap B_3) = P(B_1) x P((B_2 \\cap B_3) | B_1) \\\\\n",
    "    % =P(B_1) x \\frac{P((B_2 \\cap B_3) \\cap B_1)}{P(B_1)}\n",
    "      = P(B_1) x P(B_2|B_1) x P(B_3 | (B_1 \\cap B_2))\n",
    "$$"
   ]
  },
  {
   "cell_type": "code",
   "execution_count": 29,
   "id": "fac27a0f-d4ff-4708-b3a4-20afa6f6f6f8",
   "metadata": {},
   "outputs": [
    {
     "data": {
      "text/html": [
       "0.0129411764705882"
      ],
      "text/latex": [
       "0.0129411764705882"
      ],
      "text/markdown": [
       "0.0129411764705882"
      ],
      "text/plain": [
       "[1] 0.01294118"
      ]
     },
     "metadata": {},
     "output_type": "display_data"
    }
   ],
   "source": [
    "(13/52) * (12/51) * (11/50)"
   ]
  },
  {
   "cell_type": "code",
   "execution_count": 31,
   "id": "a76dd25d-3a2d-4be0-bd34-7a81e479109d",
   "metadata": {},
   "outputs": [
    {
     "data": {
      "text/html": [
       "0.0937950937950938"
      ],
      "text/latex": [
       "0.0937950937950938"
      ],
      "text/markdown": [
       "0.0937950937950938"
      ],
      "text/plain": [
       "[1] 0.09379509"
      ]
     },
     "metadata": {},
     "output_type": "display_data"
    }
   ],
   "source": [
    "p_1 = (26/56)*(25/55)*(24/54)\n",
    "p_1"
   ]
  },
  {
   "cell_type": "markdown",
   "id": "8e438d9c-ec1f-4907-bb39-024933fc9ace",
   "metadata": {},
   "source": [
    "# Independent events"
   ]
  },
  {
   "cell_type": "code",
   "execution_count": 33,
   "id": "0ec07ba8-92d1-4cf7-9eb1-1a959156b3c2",
   "metadata": {},
   "outputs": [
    {
     "data": {
      "text/html": [
       "0.100081997084548"
      ],
      "text/latex": [
       "0.100081997084548"
      ],
      "text/markdown": [
       "0.100081997084548"
      ],
      "text/plain": [
       "[1] 0.100082"
      ]
     },
     "metadata": {},
     "output_type": "display_data"
    }
   ],
   "source": [
    "# tossing coin : on second toss, P remains at 1/2\n",
    "# draw 3 cards in row : with replacement : E(getting black) \n",
    "p_2 = (26/56)*(26/56)*(26/56)\n",
    "p_2"
   ]
  },
  {
   "cell_type": "code",
   "execution_count": 34,
   "id": "a8006848-5f0d-4dd9-9e46-67ec9a64b8d2",
   "metadata": {},
   "outputs": [
    {
     "data": {
      "text/html": [
       "TRUE"
      ],
      "text/latex": [
       "TRUE"
      ],
      "text/markdown": [
       "TRUE"
      ],
      "text/plain": [
       "[1] TRUE"
      ]
     },
     "metadata": {},
     "output_type": "display_data"
    }
   ],
   "source": [
    "p_2 > p_1"
   ]
  },
  {
   "cell_type": "markdown",
   "id": "09ea8a60-08cb-456a-85a8-d2482fdeaf65",
   "metadata": {},
   "source": [
    "## $$\n",
    "P(E_2 | E_1) = P(E_2)\n",
    "$$\n",
    "### ***Reduce*** mulitplication rule to :\n",
    "## $$\n",
    "    P(E_1 \\cap E_2) = P(E_2 | E_1) P(E_1) \\\\\n",
    "        P(E_2)P(E_1)\n",
    "$$"
   ]
  },
  {
   "cell_type": "markdown",
   "id": "5eabeca8-d3ce-4c6f-9e84-6d4af03767d6",
   "metadata": {},
   "source": [
    "# The Intel Fiasco\n",
    "![Intel ](data:image/jpeg;base64,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)"
   ]
  },
  {
   "cell_type": "markdown",
   "id": "180b9e2a-9028-4b46-b5b3-35d0d6cf1624",
   "metadata": {},
   "source": [
    "## $$\n",
    "P(E) = P(\\text{Error will occur : When division is used on chip})\n",
    "$$"
   ]
  },
  {
   "cell_type": "code",
   "execution_count": 52,
   "id": "a2d7d1aa-4c5b-4455-89c9-b898489abcc8",
   "metadata": {},
   "outputs": [
    {
     "data": {
      "text/html": [
       "1.11111111111111e-10"
      ],
      "text/latex": [
       "1.11111111111111e-10"
      ],
      "text/markdown": [
       "1.11111111111111e-10"
      ],
      "text/plain": [
       "[1] 1.111111e-10"
      ]
     },
     "metadata": {},
     "output_type": "display_data"
    }
   ],
   "source": [
    "p_error = 1/(9*10^9)\n",
    "# 1/9 billion\n",
    "p_error"
   ]
  },
  {
   "cell_type": "code",
   "execution_count": 63,
   "id": "17d780f3-5617-4155-a554-e8ad0b785fb7",
   "metadata": {},
   "outputs": [
    {
     "data": {
      "text/html": [
       "0.999999999888889"
      ],
      "text/latex": [
       "0.999999999888889"
      ],
      "text/markdown": [
       "0.999999999888889"
      ],
      "text/plain": [
       "[1] 1"
      ]
     },
     "metadata": {},
     "output_type": "display_data"
    }
   ],
   "source": [
    "p_no_error_in1division = 1 - p_error\n",
    "p_no_error_in1division"
   ]
  },
  {
   "cell_type": "code",
   "execution_count": 64,
   "id": "23186ba0-57f8-4a29-8fda-a40c8aedc546",
   "metadata": {},
   "outputs": [
    {
     "data": {
      "text/html": [
       "1.11111111111111e-10"
      ],
      "text/latex": [
       "1.11111111111111e-10"
      ],
      "text/markdown": [
       "1.11111111111111e-10"
      ],
      "text/plain": [
       "[1] 1.111111e-10"
      ]
     },
     "metadata": {},
     "output_type": "display_data"
    }
   ],
   "source": [
    "error <- 1/9000000000\n",
    "error"
   ]
  },
  {
   "cell_type": "code",
   "execution_count": 65,
   "id": "74285f85-5beb-4cf8-be91-31ffa44ee123",
   "metadata": {},
   "outputs": [
    {
     "data": {
      "text/html": [
       "0.999999999888889"
      ],
      "text/latex": [
       "0.999999999888889"
      ],
      "text/markdown": [
       "0.999999999888889"
      ],
      "text/plain": [
       "[1] 1"
      ]
     },
     "metadata": {},
     "output_type": "display_data"
    }
   ],
   "source": [
    "1 - error"
   ]
  },
  {
   "cell_type": "code",
   "execution_count": 66,
   "id": "f6cd8381-8d8e-441f-b9ba-51066d6279a5",
   "metadata": {},
   "outputs": [
    {
     "data": {
      "text/html": [
       "0.999999999777778"
      ],
      "text/latex": [
       "0.999999999777778"
      ],
      "text/markdown": [
       "0.999999999777778"
      ],
      "text/plain": [
       "[1] 1"
      ]
     },
     "metadata": {},
     "output_type": "display_data"
    }
   ],
   "source": [
    "# Consider 2 successive division performed using the flawed chip\n",
    "# Suceessive divides are independent.\n",
    "p_no_error_in2divides = (1- (1/(9*10^9))) ^ 2\n",
    "p_no_error_in2divides"
   ]
  },
  {
   "cell_type": "markdown",
   "id": "18259063-465c-4d52-a1dd-bb52bdf7d8ba",
   "metadata": {},
   "source": [
    "## Problems occurs when the procedure, statistical software packages may perform an **extremely large number of divisions**"
   ]
  },
  {
   "cell_type": "code",
   "execution_count": 67,
   "id": "492e25f5-808d-41fe-946d-1b83f6a2f7a1",
   "metadata": {},
   "outputs": [
    {
     "data": {
      "text/html": [
       "0.108368003283162"
      ],
      "text/latex": [
       "0.108368003283162"
      ],
      "text/markdown": [
       "0.108368003283162"
      ],
      "text/plain": [
       "[1] 0.108368"
      ]
     },
     "metadata": {},
     "output_type": "display_data"
    }
   ],
   "source": [
    "(1- (1/(9*10^9))) ^ 20000000000"
   ]
  },
  {
   "cell_type": "code",
   "execution_count": 68,
   "id": "befe448b-8d84-49c7-87f7-0446d756085c",
   "metadata": {},
   "outputs": [],
   "source": [
    "billion = 10^9"
   ]
  },
  {
   "cell_type": "code",
   "execution_count": 72,
   "id": "30a38bb4-7b54-480d-8f2a-b8a03904bb52",
   "metadata": {},
   "outputs": [
    {
     "data": {
      "text/html": [
       "0.894839308582253"
      ],
      "text/latex": [
       "0.894839308582253"
      ],
      "text/markdown": [
       "0.894839308582253"
      ],
      "text/plain": [
       "[1] 0.8948393"
      ]
     },
     "metadata": {},
     "output_type": "display_data"
    }
   ],
   "source": [
    "# 1 billion diviesion with no error\n",
    "# p_not_e = (1-(1/9*billion)) ^ billion\n",
    "p_no_err_bill = (p_no_error_in1division) ^ billion\n",
    "p_no_err_bill"
   ]
  },
  {
   "cell_type": "code",
   "execution_count": 74,
   "id": "dbbe396e-ee66-41ea-856e-4c213b46371c",
   "metadata": {},
   "outputs": [
    {
     "data": {
      "text/html": [
       "0.105160691417747"
      ],
      "text/latex": [
       "0.105160691417747"
      ],
      "text/markdown": [
       "0.105160691417747"
      ],
      "text/plain": [
       "[1] 0.1051607"
      ]
     },
     "metadata": {},
     "output_type": "display_data"
    }
   ],
   "source": [
    "# P(at least 1 division error occure)\n",
    "p_atleast_1bill = 1 - p_no_err_bill\n",
    "p_atleast_1bill"
   ]
  },
  {
   "cell_type": "code",
   "execution_count": 79,
   "id": "63c68862-b8cc-430c-a172-324a9d1d4e4e",
   "metadata": {},
   "outputs": [
    {
     "data": {
      "text/html": [
       "5e+08"
      ],
      "text/latex": [
       "5e+08"
      ],
      "text/markdown": [
       "5e+08"
      ],
      "text/plain": [
       "[1] 5e+08"
      ]
     },
     "metadata": {},
     "output_type": "display_data"
    }
   ],
   "source": [
    "billion/2"
   ]
  },
  {
   "cell_type": "code",
   "execution_count": 93,
   "id": "cf837839-337b-49a5-8f4c-77bf5e41f6cd",
   "metadata": {},
   "outputs": [
    {
     "data": {
      "text/html": [
       "1e+09"
      ],
      "text/latex": [
       "1e+09"
      ],
      "text/markdown": [
       "1e+09"
      ],
      "text/plain": [
       "[1] 1e+09"
      ]
     },
     "metadata": {},
     "output_type": "display_data"
    }
   ],
   "source": [
    "billion"
   ]
  },
  {
   "cell_type": "code",
   "execution_count": 106,
   "id": "ad36af31-baf6-4af1-82a6-67a744ab5eda",
   "metadata": {},
   "outputs": [
    {
     "data": {
      "text/html": [
       "<style>\n",
       ".list-inline {list-style: none; margin:0; padding: 0}\n",
       ".list-inline>li {display: inline-block}\n",
       ".list-inline>li:not(:last-child)::after {content: \"\\00b7\"; padding: 0 .5ex}\n",
       "</style>\n",
       "<ol class=list-inline><li>0</li><li>2</li><li>4</li><li>6</li><li>8</li><li>10</li></ol>\n"
      ],
      "text/latex": [
       "\\begin{enumerate*}\n",
       "\\item 0\n",
       "\\item 2\n",
       "\\item 4\n",
       "\\item 6\n",
       "\\item 8\n",
       "\\item 10\n",
       "\\end{enumerate*}\n"
      ],
      "text/markdown": [
       "1. 0\n",
       "2. 2\n",
       "3. 4\n",
       "4. 6\n",
       "5. 8\n",
       "6. 10\n",
       "\n",
       "\n"
      ],
      "text/plain": [
       "[1]  0  2  4  6  8 10"
      ]
     },
     "metadata": {},
     "output_type": "display_data"
    },
    {
     "data": {
      "text/html": [
       "<style>\n",
       ".list-inline {list-style: none; margin:0; padding: 0}\n",
       ".list-inline>li {display: inline-block}\n",
       ".list-inline>li:not(:last-child)::after {content: \"\\00b7\"; padding: 0 .5ex}\n",
       "</style>\n",
       "<ol class=list-inline><li>0</li><li>9e+08</li><li>1.8e+09</li><li>2.7e+09</li><li>3.6e+09</li><li>4.5e+09</li></ol>\n"
      ],
      "text/latex": [
       "\\begin{enumerate*}\n",
       "\\item 0\n",
       "\\item 9e+08\n",
       "\\item 1.8e+09\n",
       "\\item 2.7e+09\n",
       "\\item 3.6e+09\n",
       "\\item 4.5e+09\n",
       "\\end{enumerate*}\n"
      ],
      "text/markdown": [
       "1. 0\n",
       "2. 9e+08\n",
       "3. 1.8e+09\n",
       "4. 2.7e+09\n",
       "5. 3.6e+09\n",
       "6. 4.5e+09\n",
       "\n",
       "\n"
      ],
      "text/plain": [
       "[1] 0.0e+00 9.0e+08 1.8e+09 2.7e+09 3.6e+09 4.5e+09"
      ]
     },
     "metadata": {},
     "output_type": "display_data"
    }
   ],
   "source": [
    "seq(0, 10, 2)\n",
    "# seq(0, billion)\n",
    "seq(0, 5*billion, billion - 0.1*billion)"
   ]
  },
  {
   "cell_type": "code",
   "execution_count": 104,
   "id": "632140b6-b5ae-4b72-8106-764cc140ce2b",
   "metadata": {},
   "outputs": [
    {
     "data": {
      "text/html": [
       "1e+07"
      ],
      "text/latex": [
       "1e+07"
      ],
      "text/markdown": [
       "1e+07"
      ],
      "text/plain": [
       "[1] 1e+07"
      ]
     },
     "metadata": {},
     "output_type": "display_data"
    }
   ],
   "source": [
    "0.01*billion"
   ]
  },
  {
   "cell_type": "code",
   "execution_count": 117,
   "id": "a9c388ac-6df2-4c74-8fd1-4064b9ed7dc8",
   "metadata": {},
   "outputs": [],
   "source": [
    "# computations = seq(0, billion/2, billion)\n",
    "computations = seq(0, 5*billion, billion * 0.1)\n",
    "# computations = seq(0, 5*billion, 10^8)\n",
    "# computations = seq(0, 5*billion, billion)\n",
    "# computations"
   ]
  },
  {
   "cell_type": "code",
   "execution_count": 118,
   "id": "e844ce02-0c50-45b7-bb1a-8b0e314a674c",
   "metadata": {},
   "outputs": [
    {
     "data": {
      "text/html": [
       "1e+09"
      ],
      "text/latex": [
       "1e+09"
      ],
      "text/markdown": [
       "1e+09"
      ],
      "text/plain": [
       "[1] 1e+09"
      ]
     },
     "metadata": {},
     "output_type": "display_data"
    }
   ],
   "source": [
    "billion"
   ]
  },
  {
   "cell_type": "code",
   "execution_count": 119,
   "id": "49674e7b-dd70-45bc-a9e2-b3ebe3dfdaad",
   "metadata": {},
   "outputs": [
    {
     "data": {
      "text/html": [
       "1e+09"
      ],
      "text/latex": [
       "1e+09"
      ],
      "text/markdown": [
       "1e+09"
      ],
      "text/plain": [
       "[1] 1e+09"
      ]
     },
     "metadata": {},
     "output_type": "display_data"
    }
   ],
   "source": [
    "10^9"
   ]
  },
  {
   "cell_type": "code",
   "execution_count": 121,
   "id": "555ca165-21cd-4f87-9082-0e802cc2b5b2",
   "metadata": {},
   "outputs": [
    {
     "data": {
      "image/png": "[encoded data removed]",
      "text/plain": [
       "plot without title"
      ]
     },
     "metadata": {
      "image/png": {
       "height": 420,
       "width": 420
      }
     },
     "output_type": "display_data"
    }
   ],
   "source": [
    "noErrorTotal = p_no_error_in1division ^ computations\n",
    "p_atleast_1 = 1 - noErrorTotal\n",
    "\n",
    "plot(computations, p_atleast_1,\n",
    "    ylim=c(0,1))"
   ]
  },
  {
   "cell_type": "code",
   "execution_count": 123,
   "id": "ce5c65ef-cafb-4c0f-a67d-2229a9293aef",
   "metadata": {},
   "outputs": [
    {
     "data": {
      "image/png": "[encoded data removed]",
      "text/plain": [
       "plot without title"
      ]
     },
     "metadata": {
      "image/png": {
       "height": 420,
       "width": 420
      }
     },
     "output_type": "display_data"
    }
   ],
   "source": [
    "computations = seq(0, 5*billion, billion * 0.1)\n",
    "\n",
    "noErrorTotal = p_no_error_in1division ^ computations\n",
    "p_atleast_1 = 1 - noErrorTotal\n",
    "\n",
    "plot(computations, p_atleast_1,\n",
    "    ylim=c(0,1))"
   ]
  },
  {
   "cell_type": "markdown",
   "id": "84d2e5df-95aa-4af5-8e67-b61e0946c409",
   "metadata": {},
   "source": [
    "# Ex 6.3 : Error backing up\n",
    "## A cs student keeps a backup copy of the programs by 2 devices\n",
    "1. Hard disk\n",
    "2. Memory stick (USB)\n",
    "###  10% the hard disk will crash. But each crash : 50% chance that the memory stick  will be lost.\n",
    "- P(Student's work will get lost?)\n",
    "- e1 = E(hard disk will crash)\n",
    "- e2 = E(Memory disk will be lost)\n",
    "- find $ E = (E_1 \\cap E_2) $"
   ]
  },
  {
   "cell_type": "code",
   "execution_count": 130,
   "id": "692fd773-9dec-43ad-8c6b-4674fb6b52fe",
   "metadata": {},
   "outputs": [
    {
     "data": {
      "text/html": [
       "0.05"
      ],
      "text/latex": [
       "0.05"
      ],
      "text/markdown": [
       "0.05"
      ],
      "text/plain": [
       "[1] 0.05"
      ]
     },
     "metadata": {},
     "output_type": "display_data"
    }
   ],
   "source": [
    "# hard disk and memory stick are independent units\n",
    "p_e = .5 * .1\n",
    "p_e"
   ]
  },
  {
   "cell_type": "code",
   "execution_count": null,
   "id": "0f9e0365-3fab-41a4-a3d9-d0f3c2c19645",
   "metadata": {},
   "outputs": [],
   "source": [
    "# Only 5% that the student's work will be lost."
   ]
  },
  {
   "cell_type": "code",
   "execution_count": 127,
   "id": "da41dc72-8844-4998-a054-25738cc690e3",
   "metadata": {},
   "outputs": [
    {
     "data": {
      "text/html": [
       "1e-20"
      ],
      "text/latex": [
       "1e-20"
      ],
      "text/markdown": [
       "1e-20"
      ],
      "text/plain": [
       "[1] 1e-20"
      ]
     },
     "metadata": {},
     "output_type": "display_data"
    }
   ],
   "source": [
    "# P(fail at backup 20 times in row)\n",
    "p_fail_bu_20 = 0.1 ^ 20\n",
    "p_fail_bu_20"
   ]
  },
  {
   "cell_type": "markdown",
   "id": "cf61452d-7c2f-47b3-a2a5-1565da5d493e",
   "metadata": {},
   "source": [
    "# Law of Total Probability"
   ]
  },
  {
   "cell_type": "code",
   "execution_count": 132,
   "id": "a8493207-0d3b-46fa-84bf-acd3c90a9600",
   "metadata": {},
   "outputs": [
    {
     "data": {
      "text/html": [
       "0.68"
      ],
      "text/latex": [
       "0.68"
      ],
      "text/markdown": [
       "0.68"
      ],
      "text/plain": [
       "[1] 0.68"
      ]
     },
     "metadata": {},
     "output_type": "display_data"
    }
   ],
   "source": [
    "# e = E(compilable on first run) = (J int E) U (C++ int E)\n",
    "# (J int E) and (C++ int E) are explicitly mutually exclusive\n",
    "# P(E) = P(J int E) + P(C++ int E)\n",
    "p_e = 80/200 * 64/80 + 120/200*72/120\n",
    "p_e"
   ]
  },
  {
   "cell_type": "markdown",
   "id": "d63c8a6e-2937-497d-8376-eef9aabc4c94",
   "metadata": {},
   "source": [
    "## Prior probability คือ เกิดก่อน"
   ]
  },
  {
   "cell_type": "code",
   "execution_count": 134,
   "id": "00f7b71b-2d88-4810-b08b-e8497a3d0bfe",
   "metadata": {},
   "outputs": [
    {
     "data": {
      "text/html": [
       "0.3"
      ],
      "text/latex": [
       "0.3"
      ],
      "text/markdown": [
       "0.3"
      ],
      "text/plain": [
       "[1] 0.3"
      ]
     },
     "metadata": {},
     "output_type": "display_data"
    }
   ],
   "source": [
    "# each word processors: W, L, H\n",
    "## 50% written in Word, 30% in Latex, 20% in Html\n",
    "## 40% of the Word documents exceed 10 pages\n",
    "## 20% of Latex docs > 10 pages\n",
    "## 20% of Html docs > 10 pages\n",
    "# E = E(10 > pages)\n",
    "# P(E) = P(W)P(E|W) + P(L)P(E|L) + P(H)P(E|H)\n",
    ".5*.4 + .3*.2 + .2*.2"
   ]
  },
  {
   "cell_type": "code",
   "execution_count": 135,
   "id": "06f68669-d8b7-4bd8-8f26-31f45fc1857a",
   "metadata": {},
   "outputs": [],
   "source": [
    "# P(W), P(L), P(H) == prior probabilities\n"
   ]
  },
  {
   "cell_type": "markdown",
   "id": "193129aa-f755-45b5-882b-54f4c5bb0dde",
   "metadata": {},
   "source": [
    "## $$\n",
    "\\begin{equation} \n",
    "\\begin{split}\n",
    "E & = E \\cap S \\\\\n",
    "    & = E \\cap (A_1 \\cup A_2 \\dots A_k) \\\\\n",
    "    & = (E \\cap A_1 ) \\cup \\dots (E \\cap E_k) \\\\\n",
    "P(E) &= P(A_1)P(E|A_1) + \\dots + P(A_k)P(E|A_k)\n",
    "\\end{split}\n",
    "\\end{equation}\n",
    "$$"
   ]
  },
  {
   "cell_type": "markdown",
   "id": "ae28c0cf-497e-4954-ab8b-224985ce1186",
   "metadata": {},
   "source": [
    "# Exercises 6.1"
   ]
  },
  {
   "cell_type": "code",
   "execution_count": 136,
   "id": "171653c4-b059-4469-ad44-7c67ba834a60",
   "metadata": {},
   "outputs": [],
   "source": [
    "# e-mail message : send to 3 servers : all servers are independent"
   ]
  },
  {
   "cell_type": "markdown",
   "id": "12bc7a71-026f-41bb-b194-39d239cbeb6d",
   "metadata": {},
   "source": [
    "| | Message (%) | Errors (%) |\n",
    "| --- |---|---|\n",
    "Server 1 | 40 | 1\n",
    "Server 2 | 25 | 2\n",
    "Server 3 | 35 | 1.5"
   ]
  },
  {
   "cell_type": "code",
   "execution_count": 140,
   "id": "cbb1fa5a-fb7a-4126-867d-8be9ec55b2bd",
   "metadata": {},
   "outputs": [
    {
     "data": {
      "text/html": [
       "1.425"
      ],
      "text/latex": [
       "1.425"
      ],
      "text/markdown": [
       "1.425"
      ],
      "text/plain": [
       "[1] 1.425"
      ]
     },
     "metadata": {},
     "output_type": "display_data"
    }
   ],
   "source": [
    "# Determine the percentage of e-mails that contain an error\n",
    "# P(total) = P(Err) \n",
    "p_totol_error = .4*.01 + .25*.02 + .35*.015\n",
    "p_totol_error * 100"
   ]
  },
  {
   "cell_type": "code",
   "execution_count": null,
   "id": "d8bb40d5-8a90-430d-9f2d-01b79e177772",
   "metadata": {},
   "outputs": [],
   "source": []
  },
  {
   "cell_type": "markdown",
   "id": "8a5a1193-92cd-4d12-8b54-df5125cb57c3",
   "metadata": {},
   "source": [
    "| Programmer | Code written (%) | Errors in code (%) |\n",
    "|---|---|---|\n",
    "1| 15| 5\n",
    "2 | 20 | 3\n",
    "3 | 25 | 2\n",
    "4 | 40 | 1"
   ]
  },
  {
   "cell_type": "code",
   "execution_count": 142,
   "id": "4c0d1073-a2f2-48f8-becd-641f9aa73736",
   "metadata": {},
   "outputs": [
    {
     "data": {
      "text/html": [
       "2.25"
      ],
      "text/latex": [
       "2.25"
      ],
      "text/markdown": [
       "2.25"
      ],
      "text/plain": [
       "[1] 2.25"
      ]
     },
     "metadata": {},
     "output_type": "display_data"
    }
   ],
   "source": [
    "p_overall_error = .15*.05 + .2*.03 + .25*.02 + .4*.01\n",
    "p_overall_error * 100"
   ]
  },
  {
   "cell_type": "code",
   "execution_count": null,
   "id": "44d65a1f-3330-4677-a778-173f54883c86",
   "metadata": {},
   "outputs": [],
   "source": []
  }
 ],
 "metadata": {
  "kernelspec": {
   "display_name": "R",
   "language": "R",
   "name": "ir"
  },
  "language_info": {
   "codemirror_mode": "r",
   "file_extension": ".r",
   "mimetype": "text/x-r-source",
   "name": "R",
   "pygments_lexer": "r",
   "version": "4.2.1"
  }
 },
 "nbformat": 4,
 "nbformat_minor": 5
}
