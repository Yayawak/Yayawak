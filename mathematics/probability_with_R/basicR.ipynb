{
 "cells": [
  {
   "cell_type": "code",
   "execution_count": 2,
   "id": "51818dfd-8f16-4524-bc2a-16b6c9a5483d",
   "metadata": {},
   "outputs": [
    {
     "data": {
      "text/html": [
       "7.33333333333333"
      ],
      "text/latex": [
       "7.33333333333333"
      ],
      "text/markdown": [
       "7.33333333333333"
      ],
      "text/plain": [
       "[1] 7.333333"
      ]
     },
     "metadata": {},
     "output_type": "display_data"
    }
   ],
   "source": [
    "5 + 7/3\n"
   ]
  },
  {
   "cell_type": "code",
   "execution_count": 3,
   "id": "b36995ba-cec3-4153-9953-992ec1ea2856",
   "metadata": {},
   "outputs": [],
   "source": [
    "x <- 15.5"
   ]
  },
  {
   "cell_type": "code",
   "execution_count": 4,
   "id": "50f64133-91c1-4c95-b442-b875722e53ef",
   "metadata": {},
   "outputs": [
    {
     "data": {
      "text/html": [
       "15.5"
      ],
      "text/latex": [
       "15.5"
      ],
      "text/markdown": [
       "15.5"
      ],
      "text/plain": [
       "[1] 15.5"
      ]
     },
     "metadata": {},
     "output_type": "display_data"
    }
   ],
   "source": [
    "x"
   ]
  },
  {
   "cell_type": "code",
   "execution_count": 5,
   "id": "e785cb4b-d1a4-497c-ace0-5a5042ae01cb",
   "metadata": {},
   "outputs": [
    {
     "data": {
      "text/html": [
       "240.25"
      ],
      "text/latex": [
       "240.25"
      ],
      "text/markdown": [
       "240.25"
      ],
      "text/plain": [
       "[1] 240.25"
      ]
     },
     "metadata": {},
     "output_type": "display_data"
    }
   ],
   "source": [
    "x**2"
   ]
  },
  {
   "cell_type": "code",
   "execution_count": 6,
   "id": "b88d7b47-1212-4609-a5bc-24e2dc5998a7",
   "metadata": {},
   "outputs": [
    {
     "data": {
      "text/html": [
       "<style>\n",
       ".list-inline {list-style: none; margin:0; padding: 0}\n",
       ".list-inline>li {display: inline-block}\n",
       ".list-inline>li:not(:last-child)::after {content: \"\\00b7\"; padding: 0 .5ex}\n",
       "</style>\n",
       "<ol class=list-inline><li>48</li><li>49</li><li>50</li><li>51</li><li>52</li><li>53</li><li>54</li><li>55</li><li>56</li></ol>\n"
      ],
      "text/latex": [
       "\\begin{enumerate*}\n",
       "\\item 48\n",
       "\\item 49\n",
       "\\item 50\n",
       "\\item 51\n",
       "\\item 52\n",
       "\\item 53\n",
       "\\item 54\n",
       "\\item 55\n",
       "\\item 56\n",
       "\\end{enumerate*}\n"
      ],
      "text/markdown": [
       "1. 48\n",
       "2. 49\n",
       "3. 50\n",
       "4. 51\n",
       "5. 52\n",
       "6. 53\n",
       "7. 54\n",
       "8. 55\n",
       "9. 56\n",
       "\n",
       "\n"
      ],
      "text/plain": [
       "[1] 48 49 50 51 52 53 54 55 56"
      ]
     },
     "metadata": {},
     "output_type": "display_data"
    }
   ],
   "source": [
    "x <- 48:56\n",
    "x"
   ]
  },
  {
   "cell_type": "code",
   "execution_count": 7,
   "id": "ad0dc0ad-1295-4884-ab27-0e36c27b31ce",
   "metadata": {},
   "outputs": [
    {
     "data": {
      "text/html": [
       "<style>\n",
       ".list-inline {list-style: none; margin:0; padding: 0}\n",
       ".list-inline>li {display: inline-block}\n",
       ".list-inline>li:not(:last-child)::after {content: \"\\00b7\"; padding: 0 .5ex}\n",
       "</style>\n",
       "<ol class=list-inline><li>24</li><li>24.5</li><li>25</li><li>25.5</li><li>26</li><li>26.5</li><li>27</li><li>27.5</li><li>28</li></ol>\n"
      ],
      "text/latex": [
       "\\begin{enumerate*}\n",
       "\\item 24\n",
       "\\item 24.5\n",
       "\\item 25\n",
       "\\item 25.5\n",
       "\\item 26\n",
       "\\item 26.5\n",
       "\\item 27\n",
       "\\item 27.5\n",
       "\\item 28\n",
       "\\end{enumerate*}\n"
      ],
      "text/markdown": [
       "1. 24\n",
       "2. 24.5\n",
       "3. 25\n",
       "4. 25.5\n",
       "5. 26\n",
       "6. 26.5\n",
       "7. 27\n",
       "8. 27.5\n",
       "9. 28\n",
       "\n",
       "\n"
      ],
      "text/plain": [
       "[1] 24.0 24.5 25.0 25.5 26.0 26.5 27.0 27.5 28.0"
      ]
     },
     "metadata": {},
     "output_type": "display_data"
    }
   ],
   "source": [
    "x/2"
   ]
  },
  {
   "cell_type": "code",
   "execution_count": 8,
   "id": "941d0c51-0dc1-41fc-9e6f-80b1fc0a53a7",
   "metadata": {},
   "outputs": [
    {
     "data": {
      "text/html": [
       "<style>\n",
       ".list-inline {list-style: none; margin:0; padding: 0}\n",
       ".list-inline>li {display: inline-block}\n",
       ".list-inline>li:not(:last-child)::after {content: \"\\00b7\"; padding: 0 .5ex}\n",
       "</style>\n",
       "<ol class=list-inline><li>52</li><li>53</li><li>54</li><li>55</li><li>56</li><li>57</li><li>58</li><li>59</li><li>60</li></ol>\n"
      ],
      "text/latex": [
       "\\begin{enumerate*}\n",
       "\\item 52\n",
       "\\item 53\n",
       "\\item 54\n",
       "\\item 55\n",
       "\\item 56\n",
       "\\item 57\n",
       "\\item 58\n",
       "\\item 59\n",
       "\\item 60\n",
       "\\end{enumerate*}\n"
      ],
      "text/markdown": [
       "1. 52\n",
       "2. 53\n",
       "3. 54\n",
       "4. 55\n",
       "5. 56\n",
       "6. 57\n",
       "7. 58\n",
       "8. 59\n",
       "9. 60\n",
       "\n",
       "\n"
      ],
      "text/plain": [
       "[1] 52 53 54 55 56 57 58 59 60"
      ]
     },
     "metadata": {},
     "output_type": "display_data"
    }
   ],
   "source": [
    "x + 4"
   ]
  },
  {
   "cell_type": "code",
   "execution_count": 9,
   "id": "ceff6acf-27b9-4243-8bda-cc0e28ef4e13",
   "metadata": {},
   "outputs": [
    {
     "data": {
      "text/html": [
       "<style>\n",
       ".list-inline {list-style: none; margin:0; padding: 0}\n",
       ".list-inline>li {display: inline-block}\n",
       ".list-inline>li:not(:last-child)::after {content: \"\\00b7\"; padding: 0 .5ex}\n",
       "</style>\n",
       "<ol class=list-inline><li>5.00702078263459e+80</li><li>6.60097246862195e+82</li><li>8.88178419700125e+84</li><li>1.21921130509465e+87</li><li>1.70676555274132e+89</li><li>2.43568481650227e+91</li><li>3.54211804501064e+93</li><li>5.24744532468752e+95</li><li>7.9164324866863e+97</li></ol>\n"
      ],
      "text/latex": [
       "\\begin{enumerate*}\n",
       "\\item 5.00702078263459e+80\n",
       "\\item 6.60097246862195e+82\n",
       "\\item 8.88178419700125e+84\n",
       "\\item 1.21921130509465e+87\n",
       "\\item 1.70676555274132e+89\n",
       "\\item 2.43568481650227e+91\n",
       "\\item 3.54211804501064e+93\n",
       "\\item 5.24744532468752e+95\n",
       "\\item 7.9164324866863e+97\n",
       "\\end{enumerate*}\n"
      ],
      "text/markdown": [
       "1. 5.00702078263459e+80\n",
       "2. 6.60097246862195e+82\n",
       "3. 8.88178419700125e+84\n",
       "4. 1.21921130509465e+87\n",
       "5. 1.70676555274132e+89\n",
       "6. 2.43568481650227e+91\n",
       "7. 3.54211804501064e+93\n",
       "8. 5.24744532468752e+95\n",
       "9. 7.9164324866863e+97\n",
       "\n",
       "\n"
      ],
      "text/plain": [
       "[1] 5.007021e+80 6.600972e+82 8.881784e+84 1.219211e+87 1.706766e+89\n",
       "[6] 2.435685e+91 3.542118e+93 5.247445e+95 7.916432e+97"
      ]
     },
     "metadata": {},
     "output_type": "display_data"
    }
   ],
   "source": [
    "x**x"
   ]
  },
  {
   "cell_type": "code",
   "execution_count": 10,
   "id": "35804bd5-0b46-4715-8278-004ca65d99f6",
   "metadata": {},
   "outputs": [
    {
     "data": {
      "text/html": [
       "<style>\n",
       ".list-inline {list-style: none; margin:0; padding: 0}\n",
       ".list-inline>li {display: inline-block}\n",
       ".list-inline>li:not(:last-child)::after {content: \"\\00b7\"; padding: 0 .5ex}\n",
       "</style>\n",
       "<ol class=list-inline><li>2304</li><li>2401</li><li>2500</li><li>2601</li><li>2704</li><li>2809</li><li>2916</li><li>3025</li><li>3136</li></ol>\n"
      ],
      "text/latex": [
       "\\begin{enumerate*}\n",
       "\\item 2304\n",
       "\\item 2401\n",
       "\\item 2500\n",
       "\\item 2601\n",
       "\\item 2704\n",
       "\\item 2809\n",
       "\\item 2916\n",
       "\\item 3025\n",
       "\\item 3136\n",
       "\\end{enumerate*}\n"
      ],
      "text/markdown": [
       "1. 2304\n",
       "2. 2401\n",
       "3. 2500\n",
       "4. 2601\n",
       "5. 2704\n",
       "6. 2809\n",
       "7. 2916\n",
       "8. 3025\n",
       "9. 3136\n",
       "\n",
       "\n"
      ],
      "text/plain": [
       "[1] 2304 2401 2500 2601 2704 2809 2916 3025 3136"
      ]
     },
     "metadata": {},
     "output_type": "display_data"
    }
   ],
   "source": [
    "x**2"
   ]
  },
  {
   "cell_type": "code",
   "execution_count": 11,
   "id": "35a54f7f-f17c-431d-b745-844847602aec",
   "metadata": {},
   "outputs": [
    {
     "name": "stderr",
     "output_type": "stream",
     "text": [
      "Warning message in 10:80:100:\n",
      "“numerical expression has 71 elements: only the first used”\n"
     ]
    },
    {
     "data": {
      "text/html": [
       "<style>\n",
       ".list-inline {list-style: none; margin:0; padding: 0}\n",
       ".list-inline>li {display: inline-block}\n",
       ".list-inline>li:not(:last-child)::after {content: \"\\00b7\"; padding: 0 .5ex}\n",
       "</style>\n",
       "<ol class=list-inline><li>10</li><li>11</li><li>12</li><li>13</li><li>14</li><li>15</li><li>16</li><li>17</li><li>18</li><li>19</li><li>20</li><li>21</li><li>22</li><li>23</li><li>24</li><li>25</li><li>26</li><li>27</li><li>28</li><li>29</li><li>30</li><li>31</li><li>32</li><li>33</li><li>34</li><li>35</li><li>36</li><li>37</li><li>38</li><li>39</li><li>40</li><li>41</li><li>42</li><li>43</li><li>44</li><li>45</li><li>46</li><li>47</li><li>48</li><li>49</li><li>50</li><li>51</li><li>52</li><li>53</li><li>54</li><li>55</li><li>56</li><li>57</li><li>58</li><li>59</li><li>60</li><li>61</li><li>62</li><li>63</li><li>64</li><li>65</li><li>66</li><li>67</li><li>68</li><li>69</li><li>70</li><li>71</li><li>72</li><li>73</li><li>74</li><li>75</li><li>76</li><li>77</li><li>78</li><li>79</li><li>80</li><li>81</li><li>82</li><li>83</li><li>84</li><li>85</li><li>86</li><li>87</li><li>88</li><li>89</li><li>90</li><li>91</li><li>92</li><li>93</li><li>94</li><li>95</li><li>96</li><li>97</li><li>98</li><li>99</li><li>100</li></ol>\n"
      ],
      "text/latex": [
       "\\begin{enumerate*}\n",
       "\\item 10\n",
       "\\item 11\n",
       "\\item 12\n",
       "\\item 13\n",
       "\\item 14\n",
       "\\item 15\n",
       "\\item 16\n",
       "\\item 17\n",
       "\\item 18\n",
       "\\item 19\n",
       "\\item 20\n",
       "\\item 21\n",
       "\\item 22\n",
       "\\item 23\n",
       "\\item 24\n",
       "\\item 25\n",
       "\\item 26\n",
       "\\item 27\n",
       "\\item 28\n",
       "\\item 29\n",
       "\\item 30\n",
       "\\item 31\n",
       "\\item 32\n",
       "\\item 33\n",
       "\\item 34\n",
       "\\item 35\n",
       "\\item 36\n",
       "\\item 37\n",
       "\\item 38\n",
       "\\item 39\n",
       "\\item 40\n",
       "\\item 41\n",
       "\\item 42\n",
       "\\item 43\n",
       "\\item 44\n",
       "\\item 45\n",
       "\\item 46\n",
       "\\item 47\n",
       "\\item 48\n",
       "\\item 49\n",
       "\\item 50\n",
       "\\item 51\n",
       "\\item 52\n",
       "\\item 53\n",
       "\\item 54\n",
       "\\item 55\n",
       "\\item 56\n",
       "\\item 57\n",
       "\\item 58\n",
       "\\item 59\n",
       "\\item 60\n",
       "\\item 61\n",
       "\\item 62\n",
       "\\item 63\n",
       "\\item 64\n",
       "\\item 65\n",
       "\\item 66\n",
       "\\item 67\n",
       "\\item 68\n",
       "\\item 69\n",
       "\\item 70\n",
       "\\item 71\n",
       "\\item 72\n",
       "\\item 73\n",
       "\\item 74\n",
       "\\item 75\n",
       "\\item 76\n",
       "\\item 77\n",
       "\\item 78\n",
       "\\item 79\n",
       "\\item 80\n",
       "\\item 81\n",
       "\\item 82\n",
       "\\item 83\n",
       "\\item 84\n",
       "\\item 85\n",
       "\\item 86\n",
       "\\item 87\n",
       "\\item 88\n",
       "\\item 89\n",
       "\\item 90\n",
       "\\item 91\n",
       "\\item 92\n",
       "\\item 93\n",
       "\\item 94\n",
       "\\item 95\n",
       "\\item 96\n",
       "\\item 97\n",
       "\\item 98\n",
       "\\item 99\n",
       "\\item 100\n",
       "\\end{enumerate*}\n"
      ],
      "text/markdown": [
       "1. 10\n",
       "2. 11\n",
       "3. 12\n",
       "4. 13\n",
       "5. 14\n",
       "6. 15\n",
       "7. 16\n",
       "8. 17\n",
       "9. 18\n",
       "10. 19\n",
       "11. 20\n",
       "12. 21\n",
       "13. 22\n",
       "14. 23\n",
       "15. 24\n",
       "16. 25\n",
       "17. 26\n",
       "18. 27\n",
       "19. 28\n",
       "20. 29\n",
       "21. 30\n",
       "22. 31\n",
       "23. 32\n",
       "24. 33\n",
       "25. 34\n",
       "26. 35\n",
       "27. 36\n",
       "28. 37\n",
       "29. 38\n",
       "30. 39\n",
       "31. 40\n",
       "32. 41\n",
       "33. 42\n",
       "34. 43\n",
       "35. 44\n",
       "36. 45\n",
       "37. 46\n",
       "38. 47\n",
       "39. 48\n",
       "40. 49\n",
       "41. 50\n",
       "42. 51\n",
       "43. 52\n",
       "44. 53\n",
       "45. 54\n",
       "46. 55\n",
       "47. 56\n",
       "48. 57\n",
       "49. 58\n",
       "50. 59\n",
       "51. 60\n",
       "52. 61\n",
       "53. 62\n",
       "54. 63\n",
       "55. 64\n",
       "56. 65\n",
       "57. 66\n",
       "58. 67\n",
       "59. 68\n",
       "60. 69\n",
       "61. 70\n",
       "62. 71\n",
       "63. 72\n",
       "64. 73\n",
       "65. 74\n",
       "66. 75\n",
       "67. 76\n",
       "68. 77\n",
       "69. 78\n",
       "70. 79\n",
       "71. 80\n",
       "72. 81\n",
       "73. 82\n",
       "74. 83\n",
       "75. 84\n",
       "76. 85\n",
       "77. 86\n",
       "78. 87\n",
       "79. 88\n",
       "80. 89\n",
       "81. 90\n",
       "82. 91\n",
       "83. 92\n",
       "84. 93\n",
       "85. 94\n",
       "86. 95\n",
       "87. 96\n",
       "88. 97\n",
       "89. 98\n",
       "90. 99\n",
       "91. 100\n",
       "\n",
       "\n"
      ],
      "text/plain": [
       " [1]  10  11  12  13  14  15  16  17  18  19  20  21  22  23  24  25  26  27  28\n",
       "[20]  29  30  31  32  33  34  35  36  37  38  39  40  41  42  43  44  45  46  47\n",
       "[39]  48  49  50  51  52  53  54  55  56  57  58  59  60  61  62  63  64  65  66\n",
       "[58]  67  68  69  70  71  72  73  74  75  76  77  78  79  80  81  82  83  84  85\n",
       "[77]  86  87  88  89  90  91  92  93  94  95  96  97  98  99 100"
      ]
     },
     "metadata": {},
     "output_type": "display_data"
    }
   ],
   "source": [
    "X <- 10:80:100\n",
    "X"
   ]
  },
  {
   "cell_type": "code",
   "execution_count": 12,
   "id": "7716a2fb-72a6-43cb-b7ed-322d40e4dd77",
   "metadata": {},
   "outputs": [],
   "source": [
    "# help()"
   ]
  },
  {
   "cell_type": "code",
   "execution_count": 13,
   "id": "c68cd97c-c6d9-48a6-bb74-e71d769c5581",
   "metadata": {},
   "outputs": [
    {
     "ename": "ERROR",
     "evalue": "Error in parse(text = x, srcfile = src): <text>:2:0: unexpected end of input\n1: ?\n   ^\n",
     "output_type": "error",
     "traceback": [
      "Error in parse(text = x, srcfile = src): <text>:2:0: unexpected end of input\n1: ?\n   ^\nTraceback:\n"
     ]
    }
   ],
   "source": [
    "?"
   ]
  },
  {
   "cell_type": "code",
   "execution_count": 14,
   "id": "d37fedd8-7c4a-46ef-b96a-c24586b248b1",
   "metadata": {},
   "outputs": [
    {
     "data": {
      "text/html": [
       "<h3>Demos</h3>\n",
       "<table class=\"dataframe\">\n",
       "<caption>A data.frame: 16 × 3</caption>\n",
       "<thead>\n",
       "\t<tr><th scope=col>Package</th><th scope=col>Item</th><th scope=col>Title</th></tr>\n",
       "\t<tr><th scope=col>&lt;chr&gt;</th><th scope=col>&lt;chr&gt;</th><th scope=col>&lt;chr&gt;</th></tr>\n",
       "</thead>\n",
       "<tbody>\n",
       "\t<tr><td><span style=white-space:pre-wrap>stats    </span></td><td><span style=white-space:pre-wrap>glm.vr        </span></td><td><span style=white-space:pre-wrap>Some glm() examples from V&amp;R with several predictors                                                                   </span></td></tr>\n",
       "\t<tr><td>stats    </td><td>lm.glm        </td><td>Some linear and generalized linear modelling examples from `An Introduction to Statistical Modelling' by Annette Dobson</td></tr>\n",
       "\t<tr><td>stats    </td><td>nlm           </td><td>Nonlinear least-squares using nlm()                                                                                    </td></tr>\n",
       "\t<tr><td>stats    </td><td>smooth        </td><td>`Visualize' steps in Tukey's smoothers                                                                                 </td></tr>\n",
       "\t<tr><td>graphics </td><td>Hershey       </td><td>Tables of the characters in the Hershey vector fonts                                                                   </td></tr>\n",
       "\t<tr><td>graphics </td><td>Japanese      </td><td>Tables of the Japanese characters in the Hershey vector fonts                                                          </td></tr>\n",
       "\t<tr><td>graphics </td><td>graphics      </td><td>A show of some of R's graphics capabilities                                                                            </td></tr>\n",
       "\t<tr><td>graphics </td><td>image         </td><td>The image-like graphics builtins of R                                                                                  </td></tr>\n",
       "\t<tr><td>graphics </td><td>persp         </td><td>Extended persp() examples                                                                                              </td></tr>\n",
       "\t<tr><td>graphics </td><td>plotmath      </td><td>Examples of the use of mathematics annotation                                                                          </td></tr>\n",
       "\t<tr><td>grDevices</td><td>colors        </td><td>A show of R's predefined colors()                                                                                      </td></tr>\n",
       "\t<tr><td>grDevices</td><td>hclColors     </td><td>Exploration of hcl() space                                                                                             </td></tr>\n",
       "\t<tr><td>base     </td><td>error.catching</td><td>More examples on catching and handling errors                                                                          </td></tr>\n",
       "\t<tr><td>base     </td><td>is.things     </td><td>Explore some properties of R objects and is.FOO() functions. Not for newbies!                                          </td></tr>\n",
       "\t<tr><td>base     </td><td>recursion     </td><td>Using recursion for adaptive integration                                                                               </td></tr>\n",
       "\t<tr><td>base     </td><td>scoping       </td><td>An illustration of lexical scoping.                                                                                    </td></tr>\n",
       "</tbody>\n",
       "</table>\n",
       "\n",
       "<p>Use ‘demo(package = .packages(all.available = TRUE))’\n",
       "to list the demos in all *available* packages.</p>"
      ],
      "text/plain": [
       "Demos in package ‘base’:\n",
       "\n",
       "error.catching          More examples on catching and handling errors\n",
       "is.things               Explore some properties of R objects and\n",
       "                        is.FOO() functions. Not for newbies!\n",
       "recursion               Using recursion for adaptive integration\n",
       "scoping                 An illustration of lexical scoping.\n",
       "Demos in package ‘grDevices’:\n",
       "\n",
       "colors                  A show of R's predefined colors()\n",
       "hclColors               Exploration of hcl() space\n",
       "Demos in package ‘graphics’:\n",
       "\n",
       "Hershey                 Tables of the characters in the Hershey vector\n",
       "                        fonts\n",
       "Japanese                Tables of the Japanese characters in the\n",
       "                        Hershey vector fonts\n",
       "graphics                A show of some of R's graphics capabilities\n",
       "image                   The image-like graphics builtins of R\n",
       "persp                   Extended persp() examples\n",
       "plotmath                Examples of the use of mathematics annotation\n",
       "Demos in package ‘stats’:\n",
       "\n",
       "glm.vr                  Some glm() examples from V&R with several\n",
       "                        predictors\n",
       "lm.glm                  Some linear and generalized linear modelling\n",
       "                        examples from `An Introduction to Statistical\n",
       "                        Modelling' by Annette Dobson\n",
       "nlm                     Nonlinear least-squares using nlm()\n",
       "smooth                  `Visualize' steps in Tukey's smoothers\n",
       "\n",
       "Use ‘demo(package = .packages(all.available = TRUE))’\n",
       "to list the demos in all *available* packages."
      ]
     },
     "metadata": {},
     "output_type": "display_data"
    }
   ],
   "source": [
    "demo()"
   ]
  },
  {
   "cell_type": "code",
   "execution_count": 15,
   "id": "eea6a175-3b2e-4011-af8e-977b48c96bdb",
   "metadata": {},
   "outputs": [
    {
     "data": {
      "text/html": [
       "No documentation for ‘read.Table’ in specified packages and libraries:\n",
       "you could try ‘??read.Table’"
      ],
      "text/latex": [
       "No documentation for ‘read.Table’ in specified packages and libraries:\n",
       "you could try ‘??read.Table’"
      ],
      "text/plain": [
       "No documentation for ‘read.Table’ in specified packages and libraries:\n",
       "you could try ‘??read.Table’"
      ]
     },
     "metadata": {},
     "output_type": "display_data"
    }
   ],
   "source": [
    "help(read.Table)"
   ]
  },
  {
   "cell_type": "code",
   "execution_count": 16,
   "id": "c86545a8-5d76-406d-982a-93e9300df320",
   "metadata": {},
   "outputs": [],
   "source": [
    "# help(??read.Table)"
   ]
  },
  {
   "cell_type": "code",
   "execution_count": 17,
   "id": "d90817b4-bbc2-438d-928a-24227a386def",
   "metadata": {},
   "outputs": [
    {
     "data": {
      "text/html": [
       "No documentation for ‘read.Table’ in specified packages and libraries:\n",
       "you could try ‘??read.Table’"
      ],
      "text/latex": [
       "No documentation for ‘read.Table’ in specified packages and libraries:\n",
       "you could try ‘??read.Table’"
      ],
      "text/plain": [
       "No documentation for ‘read.Table’ in specified packages and libraries:\n",
       "you could try ‘??read.Table’"
      ]
     },
     "metadata": {},
     "output_type": "display_data"
    }
   ],
   "source": [
    "?read.Table"
   ]
  },
  {
   "cell_type": "code",
   "execution_count": 18,
   "id": "ca2b2398-d4b2-4e1a-9690-32011d45c12b",
   "metadata": {},
   "outputs": [
    {
     "data": {
      "text/html": [
       "\n",
       "<table style=\"width: 100%;\"><tr><td>base-package {base}</td><td style=\"text-align: right;\">R Documentation</td></tr></table>\n",
       "\n",
       "<h2>\n",
       "The R Base Package\n",
       "</h2>\n",
       "\n",
       "<h3>Description</h3>\n",
       "\n",
       "<p>Base R functions\n",
       "</p>\n",
       "\n",
       "\n",
       "<h3>Details</h3>\n",
       "\n",
       "<p>This package contains the basic functions which let <span style=\"font-family: Courier New, Courier; color: #666666;\"><b>R</b></span>\n",
       "function as a language:  arithmetic, input/output, basic\n",
       "programming support, etc.  Its contents are available through\n",
       "inheritance from any environment.\n",
       "</p>\n",
       "<p>For a complete list of functions, use <code>library(help = \"base\")</code>.\n",
       "</p>\n",
       "\n",
       "<hr /><div style=\"text-align: center;\">[Package <em>base</em> version 4.2.1 ]</div>\n",
       "</div>"
      ],
      "text/latex": [
       "\\inputencoding{utf8}\n",
       "\\HeaderA{base-package}{The R Base Package}{base.Rdash.package}\n",
       "\\aliasA{base}{base-package}{base}\n",
       "\\keyword{package}{base-package}\n",
       "%\n",
       "\\begin{Description}\\relax\n",
       "Base R functions\n",
       "\\end{Description}\n",
       "%\n",
       "\\begin{Details}\\relax\n",
       "This package contains the basic functions which let \\R{}\n",
       "function as a language:  arithmetic, input/output, basic\n",
       "programming support, etc.  Its contents are available through\n",
       "inheritance from any environment.\n",
       "\n",
       "For a complete list of functions, use \\code{library(help = \"base\")}.\n",
       "\\end{Details}"
      ],
      "text/plain": [
       "base-package               package:base                R Documentation\n",
       "\n",
       "_\bT_\bh_\be _\bR _\bB_\ba_\bs_\be _\bP_\ba_\bc_\bk_\ba_\bg_\be\n",
       "\n",
       "_\bD_\be_\bs_\bc_\br_\bi_\bp_\bt_\bi_\bo_\bn:\n",
       "\n",
       "     Base R functions\n",
       "\n",
       "_\bD_\be_\bt_\ba_\bi_\bl_\bs:\n",
       "\n",
       "     This package contains the basic functions which let R function as\n",
       "     a language: arithmetic, input/output, basic programming support,\n",
       "     etc.  Its contents are available through inheritance from any\n",
       "     environment.\n",
       "\n",
       "     For a complete list of functions, use ‘library(help = \"base\")’.\n"
      ]
     },
     "metadata": {},
     "output_type": "display_data"
    }
   ],
   "source": [
    "?base"
   ]
  },
  {
   "cell_type": "code",
   "execution_count": 19,
   "id": "107e1a81-f165-4e59-8303-eac63e9bc2fa",
   "metadata": {},
   "outputs": [],
   "source": [
    "# library(help='base')"
   ]
  },
  {
   "cell_type": "code",
   "execution_count": 20,
   "id": "eed4aad2-3d7b-43ae-a70a-3813286f7edd",
   "metadata": {},
   "outputs": [
    {
     "data": {
      "text/html": [
       "<style>\n",
       ".list-inline {list-style: none; margin:0; padding: 0}\n",
       ".list-inline>li {display: inline-block}\n",
       ".list-inline>li:not(:last-child)::after {content: \"\\00b7\"; padding: 0 .5ex}\n",
       "</style>\n",
       "<ol class=list-inline><li>'boxplot'</li><li>'boxplot.default'</li><li>'boxplot.matrix'</li><li>'boxplot.stats'</li></ol>\n"
      ],
      "text/latex": [
       "\\begin{enumerate*}\n",
       "\\item 'boxplot'\n",
       "\\item 'boxplot.default'\n",
       "\\item 'boxplot.matrix'\n",
       "\\item 'boxplot.stats'\n",
       "\\end{enumerate*}\n"
      ],
      "text/markdown": [
       "1. 'boxplot'\n",
       "2. 'boxplot.default'\n",
       "3. 'boxplot.matrix'\n",
       "4. 'boxplot.stats'\n",
       "\n",
       "\n"
      ],
      "text/plain": [
       "[1] \"boxplot\"         \"boxplot.default\" \"boxplot.matrix\"  \"boxplot.stats\"  "
      ]
     },
     "metadata": {},
     "output_type": "display_data"
    }
   ],
   "source": [
    "apropos(\"boxplot\")"
   ]
  },
  {
   "cell_type": "code",
   "execution_count": 21,
   "id": "65ade39c-306d-41de-a53d-a27c1c8e75dc",
   "metadata": {},
   "outputs": [],
   "source": [
    "# ?boxplot"
   ]
  },
  {
   "cell_type": "code",
   "execution_count": 22,
   "id": "2ecd3cf8-2cd4-4dc3-a5f6-b9a5760cdb91",
   "metadata": {},
   "outputs": [
    {
     "data": {
      "image/png": "[encoded data removed]",
      "text/plain": [
       "plot without title"
      ]
     },
     "metadata": {
      "image/png": {
       "height": 420,
       "width": 420
      }
     },
     "output_type": "display_data"
    }
   ],
   "source": [
    "boxplot(3:10)"
   ]
  },
  {
   "cell_type": "code",
   "execution_count": 23,
   "id": "dfacc092-af1a-45b1-a8b6-81af3073be35",
   "metadata": {},
   "outputs": [],
   "source": [
    "downtime <- c(0:51)"
   ]
  },
  {
   "cell_type": "code",
   "execution_count": 24,
   "id": "642da474-bea7-45b5-a936-40b1fe53fa91",
   "metadata": {},
   "outputs": [
    {
     "data": {
      "text/html": [
       "<style>\n",
       ".list-inline {list-style: none; margin:0; padding: 0}\n",
       ".list-inline>li {display: inline-block}\n",
       ".list-inline>li:not(:last-child)::after {content: \"\\00b7\"; padding: 0 .5ex}\n",
       "</style>\n",
       "<ol class=list-inline><li>0</li><li>1</li><li>2</li><li>3</li><li>4</li><li>5</li><li>6</li><li>7</li><li>8</li><li>9</li><li>10</li><li>11</li><li>12</li><li>13</li><li>14</li><li>15</li><li>16</li><li>17</li><li>18</li><li>19</li><li>20</li><li>21</li><li>22</li><li>23</li><li>24</li><li>25</li><li>26</li><li>27</li><li>28</li><li>29</li><li>30</li><li>31</li><li>32</li><li>33</li><li>34</li><li>35</li><li>36</li><li>37</li><li>38</li><li>39</li><li>40</li><li>41</li><li>42</li><li>43</li><li>44</li><li>45</li><li>46</li><li>47</li><li>48</li><li>49</li><li>50</li><li>51</li></ol>\n"
      ],
      "text/latex": [
       "\\begin{enumerate*}\n",
       "\\item 0\n",
       "\\item 1\n",
       "\\item 2\n",
       "\\item 3\n",
       "\\item 4\n",
       "\\item 5\n",
       "\\item 6\n",
       "\\item 7\n",
       "\\item 8\n",
       "\\item 9\n",
       "\\item 10\n",
       "\\item 11\n",
       "\\item 12\n",
       "\\item 13\n",
       "\\item 14\n",
       "\\item 15\n",
       "\\item 16\n",
       "\\item 17\n",
       "\\item 18\n",
       "\\item 19\n",
       "\\item 20\n",
       "\\item 21\n",
       "\\item 22\n",
       "\\item 23\n",
       "\\item 24\n",
       "\\item 25\n",
       "\\item 26\n",
       "\\item 27\n",
       "\\item 28\n",
       "\\item 29\n",
       "\\item 30\n",
       "\\item 31\n",
       "\\item 32\n",
       "\\item 33\n",
       "\\item 34\n",
       "\\item 35\n",
       "\\item 36\n",
       "\\item 37\n",
       "\\item 38\n",
       "\\item 39\n",
       "\\item 40\n",
       "\\item 41\n",
       "\\item 42\n",
       "\\item 43\n",
       "\\item 44\n",
       "\\item 45\n",
       "\\item 46\n",
       "\\item 47\n",
       "\\item 48\n",
       "\\item 49\n",
       "\\item 50\n",
       "\\item 51\n",
       "\\end{enumerate*}\n"
      ],
      "text/markdown": [
       "1. 0\n",
       "2. 1\n",
       "3. 2\n",
       "4. 3\n",
       "5. 4\n",
       "6. 5\n",
       "7. 6\n",
       "8. 7\n",
       "9. 8\n",
       "10. 9\n",
       "11. 10\n",
       "12. 11\n",
       "13. 12\n",
       "14. 13\n",
       "15. 14\n",
       "16. 15\n",
       "17. 16\n",
       "18. 17\n",
       "19. 18\n",
       "20. 19\n",
       "21. 20\n",
       "22. 21\n",
       "23. 22\n",
       "24. 23\n",
       "25. 24\n",
       "26. 25\n",
       "27. 26\n",
       "28. 27\n",
       "29. 28\n",
       "30. 29\n",
       "31. 30\n",
       "32. 31\n",
       "33. 32\n",
       "34. 33\n",
       "35. 34\n",
       "36. 35\n",
       "37. 36\n",
       "38. 37\n",
       "39. 38\n",
       "40. 39\n",
       "41. 40\n",
       "42. 41\n",
       "43. 42\n",
       "44. 43\n",
       "45. 44\n",
       "46. 45\n",
       "47. 46\n",
       "48. 47\n",
       "49. 48\n",
       "50. 49\n",
       "51. 50\n",
       "52. 51\n",
       "\n",
       "\n"
      ],
      "text/plain": [
       " [1]  0  1  2  3  4  5  6  7  8  9 10 11 12 13 14 15 16 17 18 19 20 21 22 23 24\n",
       "[26] 25 26 27 28 29 30 31 32 33 34 35 36 37 38 39 40 41 42 43 44 45 46 47 48 49\n",
       "[51] 50 51"
      ]
     },
     "metadata": {},
     "output_type": "display_data"
    }
   ],
   "source": [
    "downtime"
   ]
  },
  {
   "cell_type": "code",
   "execution_count": 25,
   "id": "b76e8e73-6183-45ba-8ac8-b9ef0de27506",
   "metadata": {},
   "outputs": [
    {
     "ename": "ERROR",
     "evalue": "Error in read.table(): argument \"file\" is missing, with no default\n",
     "output_type": "error",
     "traceback": [
      "Error in read.table(): argument \"file\" is missing, with no default\nTraceback:\n",
      "1. read.table()"
     ]
    }
   ],
   "source": [
    "read.table()"
   ]
  },
  {
   "cell_type": "code",
   "execution_count": null,
   "id": "3aad2ac2-23d4-480c-a7ff-9e44271eaa38",
   "metadata": {},
   "outputs": [],
   "source": [
    "# ?read.table"
   ]
  },
  {
   "cell_type": "code",
   "execution_count": null,
   "id": "9a3756d2-fbce-4509-a2a7-aea9647e2d2e",
   "metadata": {},
   "outputs": [],
   "source": [
    "sample(1:9, size=5, replace = T)"
   ]
  },
  {
   "cell_type": "code",
   "execution_count": null,
   "id": "1351f5f5-446f-45ae-812a-478a190588e3",
   "metadata": {},
   "outputs": [],
   "source": [
    "data(mtcars)\n",
    "head(mtcars, 4)"
   ]
  },
  {
   "cell_type": "code",
   "execution_count": null,
   "id": "efe1d47f-af4a-4cb5-9310-c8b5bd1595a3",
   "metadata": {},
   "outputs": [],
   "source": [
    "# mtcars"
   ]
  },
  {
   "cell_type": "code",
   "execution_count": null,
   "id": "61ce7ebe-98bc-4deb-95ad-3d325caf749e",
   "metadata": {},
   "outputs": [],
   "source": [
    "mtcars$vs"
   ]
  },
  {
   "cell_type": "code",
   "execution_count": null,
   "id": "851733cb-5fe1-4e62-a7b3-9da60cc2ed66",
   "metadata": {},
   "outputs": [],
   "source": [
    "mtcars$gear"
   ]
  },
  {
   "cell_type": "code",
   "execution_count": 26,
   "id": "a60b683a-2c08-4a87-867a-f6be590b638d",
   "metadata": {},
   "outputs": [
    {
     "data": {
      "text/html": [
       "<style>\n",
       ".list-inline {list-style: none; margin:0; padding: 0}\n",
       ".list-inline>li {display: inline-block}\n",
       ".list-inline>li:not(:last-child)::after {content: \"\\00b7\"; padding: 0 .5ex}\n",
       "</style>\n",
       "<ol class=list-inline><li>3</li><li>3</li><li>3</li><li>4</li><li>4</li><li>4</li></ol>\n"
      ],
      "text/latex": [
       "\\begin{enumerate*}\n",
       "\\item 3\n",
       "\\item 3\n",
       "\\item 3\n",
       "\\item 4\n",
       "\\item 4\n",
       "\\item 4\n",
       "\\end{enumerate*}\n"
      ],
      "text/markdown": [
       "1. 3\n",
       "2. 3\n",
       "3. 3\n",
       "4. 4\n",
       "5. 4\n",
       "6. 4\n",
       "\n",
       "\n"
      ],
      "text/plain": [
       "[1] 3 3 3 4 4 4"
      ]
     },
     "metadata": {},
     "output_type": "display_data"
    }
   ],
   "source": [
    "mtcars$gear[5:10]"
   ]
  },
  {
   "cell_type": "code",
   "execution_count": 27,
   "id": "f24afa09-5c90-414f-8b3b-deeaa9f5cc3f",
   "metadata": {},
   "outputs": [
    {
     "data": {
      "text/html": [
       "<style>\n",
       ".list-inline {list-style: none; margin:0; padding: 0}\n",
       ".list-inline>li {display: inline-block}\n",
       ".list-inline>li:not(:last-child)::after {content: \"\\00b7\"; padding: 0 .5ex}\n",
       "</style>\n",
       "<ol class=list-inline><li>'mpg'</li><li>'cyl'</li><li>'disp'</li><li>'hp'</li><li>'drat'</li><li>'wt'</li><li>'qsec'</li><li>'vs'</li><li>'am'</li><li>'gear'</li><li>'carb'</li></ol>\n"
      ],
      "text/latex": [
       "\\begin{enumerate*}\n",
       "\\item 'mpg'\n",
       "\\item 'cyl'\n",
       "\\item 'disp'\n",
       "\\item 'hp'\n",
       "\\item 'drat'\n",
       "\\item 'wt'\n",
       "\\item 'qsec'\n",
       "\\item 'vs'\n",
       "\\item 'am'\n",
       "\\item 'gear'\n",
       "\\item 'carb'\n",
       "\\end{enumerate*}\n"
      ],
      "text/markdown": [
       "1. 'mpg'\n",
       "2. 'cyl'\n",
       "3. 'disp'\n",
       "4. 'hp'\n",
       "5. 'drat'\n",
       "6. 'wt'\n",
       "7. 'qsec'\n",
       "8. 'vs'\n",
       "9. 'am'\n",
       "10. 'gear'\n",
       "11. 'carb'\n",
       "\n",
       "\n"
      ],
      "text/plain": [
       " [1] \"mpg\"  \"cyl\"  \"disp\" \"hp\"   \"drat\" \"wt\"   \"qsec\" \"vs\"   \"am\"   \"gear\"\n",
       "[11] \"carb\""
      ]
     },
     "metadata": {},
     "output_type": "display_data"
    },
    {
     "ename": "ERROR",
     "evalue": "Error in eval(expr, envir, enclos): object 'gear' not found\n",
     "output_type": "error",
     "traceback": [
      "Error in eval(expr, envir, enclos): object 'gear' not found\nTraceback:\n"
     ]
    }
   ],
   "source": [
    "# attach(mtcars)\n",
    "names(mtcars)\n",
    "\n",
    "gear"
   ]
  },
  {
   "cell_type": "code",
   "execution_count": 28,
   "id": "011da5a2-cbb7-49fa-b2e4-7eac14844742",
   "metadata": {},
   "outputs": [
    {
     "ename": "ERROR",
     "evalue": "Error in eval(expr, envir, enclos): object 'mpg' not found\n",
     "output_type": "error",
     "traceback": [
      "Error in eval(expr, envir, enclos): object 'mpg' not found\nTraceback:\n"
     ]
    }
   ],
   "source": [
    "mpg"
   ]
  },
  {
   "cell_type": "code",
   "execution_count": 29,
   "id": "aea8930e-936e-40d3-97d8-38779e0ef10c",
   "metadata": {},
   "outputs": [
    {
     "data": {
      "text/html": [
       "<pre class=language-r><code>function (file, header = TRUE, sep = \",\", quote = \"\\\"\", dec = \".\", \n",
       "<span style=white-space:pre-wrap>    fill = TRUE, comment.char = \"\", ...) </span>\n",
       "read.table(file = file, header = header, sep = sep, quote = quote, \n",
       "<span style=white-space:pre-wrap>    dec = dec, fill = fill, comment.char = comment.char, ...)</span></code></pre>"
      ],
      "text/latex": [
       "\\begin{minted}{r}\n",
       "function (file, header = TRUE, sep = \",\", quote = \"\\textbackslash{}\"\", dec = \".\", \n",
       "    fill = TRUE, comment.char = \"\", ...) \n",
       "read.table(file = file, header = header, sep = sep, quote = quote, \n",
       "    dec = dec, fill = fill, comment.char = comment.char, ...)\n",
       "\\end{minted}"
      ],
      "text/markdown": [
       "```r\n",
       "function (file, header = TRUE, sep = \",\", quote = \"\\\"\", dec = \".\", \n",
       "    fill = TRUE, comment.char = \"\", ...) \n",
       "read.table(file = file, header = header, sep = sep, quote = quote, \n",
       "    dec = dec, fill = fill, comment.char = comment.char, ...)\n",
       "```"
      ],
      "text/plain": [
       "function (file, header = TRUE, sep = \",\", quote = \"\\\"\", dec = \".\", \n",
       "    fill = TRUE, comment.char = \"\", ...) \n",
       "read.table(file = file, header = header, sep = sep, quote = quote, \n",
       "    dec = dec, fill = fill, comment.char = comment.char, ...)\n",
       "<bytecode: 0x131972b60>\n",
       "<environment: namespace:utils>"
      ]
     },
     "metadata": {},
     "output_type": "display_data"
    }
   ],
   "source": [
    "read.csv"
   ]
  },
  {
   "cell_type": "code",
   "execution_count": 30,
   "id": "b0884139-ac75-4233-bc47-491f73ba53ca",
   "metadata": {},
   "outputs": [],
   "source": [
    "new_data <- data.frame()\n",
    "# slowest operation\n",
    "# fix(new_data)"
   ]
  },
  {
   "cell_type": "code",
   "execution_count": 32,
   "id": "d7239663-fd95-4670-9135-b13fdee897e6",
   "metadata": {},
   "outputs": [
    {
     "data": {
      "text/html": [
       "<table class=\"dataframe\">\n",
       "<caption>A data.frame: 4 × 11</caption>\n",
       "<thead>\n",
       "\t<tr><th></th><th scope=col>mpg</th><th scope=col>cyl</th><th scope=col>disp</th><th scope=col>hp</th><th scope=col>drat</th><th scope=col>wt</th><th scope=col>qsec</th><th scope=col>vs</th><th scope=col>am</th><th scope=col>gear</th><th scope=col>carb</th></tr>\n",
       "\t<tr><th></th><th scope=col>&lt;dbl&gt;</th><th scope=col>&lt;dbl&gt;</th><th scope=col>&lt;dbl&gt;</th><th scope=col>&lt;dbl&gt;</th><th scope=col>&lt;dbl&gt;</th><th scope=col>&lt;dbl&gt;</th><th scope=col>&lt;dbl&gt;</th><th scope=col>&lt;dbl&gt;</th><th scope=col>&lt;dbl&gt;</th><th scope=col>&lt;dbl&gt;</th><th scope=col>&lt;dbl&gt;</th></tr>\n",
       "</thead>\n",
       "<tbody>\n",
       "\t<tr><th scope=row>Mazda RX4</th><td>21.0</td><td>6</td><td>160</td><td>110</td><td>3.90</td><td>2.620</td><td>16.46</td><td>0</td><td>1</td><td>4</td><td>4</td></tr>\n",
       "\t<tr><th scope=row>Mazda RX4 Wag</th><td>21.0</td><td>6</td><td>160</td><td>110</td><td>3.90</td><td>2.875</td><td>17.02</td><td>0</td><td>1</td><td>4</td><td>4</td></tr>\n",
       "\t<tr><th scope=row>Datsun 710</th><td>22.8</td><td>4</td><td>108</td><td> 93</td><td>3.85</td><td>2.320</td><td>18.61</td><td>1</td><td>1</td><td>4</td><td>1</td></tr>\n",
       "\t<tr><th scope=row>Hornet 4 Drive</th><td>21.4</td><td>6</td><td>258</td><td>110</td><td>3.08</td><td>3.215</td><td>19.44</td><td>1</td><td>0</td><td>3</td><td>1</td></tr>\n",
       "</tbody>\n",
       "</table>\n"
      ],
      "text/latex": [
       "A data.frame: 4 × 11\n",
       "\\begin{tabular}{r|lllllllllll}\n",
       "  & mpg & cyl & disp & hp & drat & wt & qsec & vs & am & gear & carb\\\\\n",
       "  & <dbl> & <dbl> & <dbl> & <dbl> & <dbl> & <dbl> & <dbl> & <dbl> & <dbl> & <dbl> & <dbl>\\\\\n",
       "\\hline\n",
       "\tMazda RX4 & 21.0 & 6 & 160 & 110 & 3.90 & 2.620 & 16.46 & 0 & 1 & 4 & 4\\\\\n",
       "\tMazda RX4 Wag & 21.0 & 6 & 160 & 110 & 3.90 & 2.875 & 17.02 & 0 & 1 & 4 & 4\\\\\n",
       "\tDatsun 710 & 22.8 & 4 & 108 &  93 & 3.85 & 2.320 & 18.61 & 1 & 1 & 4 & 1\\\\\n",
       "\tHornet 4 Drive & 21.4 & 6 & 258 & 110 & 3.08 & 3.215 & 19.44 & 1 & 0 & 3 & 1\\\\\n",
       "\\end{tabular}\n"
      ],
      "text/markdown": [
       "\n",
       "A data.frame: 4 × 11\n",
       "\n",
       "| <!--/--> | mpg &lt;dbl&gt; | cyl &lt;dbl&gt; | disp &lt;dbl&gt; | hp &lt;dbl&gt; | drat &lt;dbl&gt; | wt &lt;dbl&gt; | qsec &lt;dbl&gt; | vs &lt;dbl&gt; | am &lt;dbl&gt; | gear &lt;dbl&gt; | carb &lt;dbl&gt; |\n",
       "|---|---|---|---|---|---|---|---|---|---|---|---|\n",
       "| Mazda RX4 | 21.0 | 6 | 160 | 110 | 3.90 | 2.620 | 16.46 | 0 | 1 | 4 | 4 |\n",
       "| Mazda RX4 Wag | 21.0 | 6 | 160 | 110 | 3.90 | 2.875 | 17.02 | 0 | 1 | 4 | 4 |\n",
       "| Datsun 710 | 22.8 | 4 | 108 |  93 | 3.85 | 2.320 | 18.61 | 1 | 1 | 4 | 1 |\n",
       "| Hornet 4 Drive | 21.4 | 6 | 258 | 110 | 3.08 | 3.215 | 19.44 | 1 | 0 | 3 | 1 |\n",
       "\n"
      ],
      "text/plain": [
       "               mpg  cyl disp hp  drat wt    qsec  vs am gear carb\n",
       "Mazda RX4      21.0 6   160  110 3.90 2.620 16.46 0  1  4    4   \n",
       "Mazda RX4 Wag  21.0 6   160  110 3.90 2.875 17.02 0  1  4    4   \n",
       "Datsun 710     22.8 4   108   93 3.85 2.320 18.61 1  1  4    1   \n",
       "Hornet 4 Drive 21.4 6   258  110 3.08 3.215 19.44 1  0  3    1   "
      ]
     },
     "metadata": {},
     "output_type": "display_data"
    }
   ],
   "source": [
    "head(mtcars, 4)"
   ]
  },
  {
   "cell_type": "code",
   "execution_count": 39,
   "id": "74f5d350-4af8-4998-b173-9b0f91728ef8",
   "metadata": {},
   "outputs": [
    {
     "data": {
      "text/html": [
       "<style>\n",
       ".list-inline {list-style: none; margin:0; padding: 0}\n",
       ".list-inline>li {display: inline-block}\n",
       ".list-inline>li:not(:last-child)::after {content: \"\\00b7\"; padding: 0 .5ex}\n",
       "</style>\n",
       "<ol class=list-inline><li>'mpg'</li><li>'cyl'</li><li>'disp'</li><li>'hp'</li><li>'drat'</li><li>'wt'</li><li>'qsec'</li><li>'vs'</li><li>'am'</li><li>'gear'</li><li>'carb'</li></ol>\n"
      ],
      "text/latex": [
       "\\begin{enumerate*}\n",
       "\\item 'mpg'\n",
       "\\item 'cyl'\n",
       "\\item 'disp'\n",
       "\\item 'hp'\n",
       "\\item 'drat'\n",
       "\\item 'wt'\n",
       "\\item 'qsec'\n",
       "\\item 'vs'\n",
       "\\item 'am'\n",
       "\\item 'gear'\n",
       "\\item 'carb'\n",
       "\\end{enumerate*}\n"
      ],
      "text/markdown": [
       "1. 'mpg'\n",
       "2. 'cyl'\n",
       "3. 'disp'\n",
       "4. 'hp'\n",
       "5. 'drat'\n",
       "6. 'wt'\n",
       "7. 'qsec'\n",
       "8. 'vs'\n",
       "9. 'am'\n",
       "10. 'gear'\n",
       "11. 'carb'\n",
       "\n",
       "\n"
      ],
      "text/plain": [
       " [1] \"mpg\"  \"cyl\"  \"disp\" \"hp\"   \"drat\" \"wt\"   \"qsec\" \"vs\"   \"am\"   \"gear\"\n",
       "[11] \"carb\""
      ]
     },
     "metadata": {},
     "output_type": "display_data"
    }
   ],
   "source": [
    "attach(mtcars)\n",
    "names(mtcars)"
   ]
  },
  {
   "cell_type": "code",
   "execution_count": 46,
   "id": "5653d54a-f0db-494d-b0d5-0d320e2d52a6",
   "metadata": {},
   "outputs": [
    {
     "data": {
      "text/html": [
       "<style>\n",
       ".list-inline {list-style: none; margin:0; padding: 0}\n",
       ".list-inline>li {display: inline-block}\n",
       ".list-inline>li:not(:last-child)::after {content: \"\\00b7\"; padding: 0 .5ex}\n",
       "</style>\n",
       "<ol class=list-inline><li>2.62</li><li>2.875</li><li>2.32</li><li>3.215</li><li>3.44</li><li>3.46</li><li>3.57</li><li>3.19</li><li>3.15</li><li>3.44</li><li>3.44</li><li>4.07</li><li>3.73</li><li>3.78</li><li>5.25</li><li>5.424</li><li>5.345</li><li>2.2</li><li>1.615</li><li>1.835</li><li>2.465</li><li>3.52</li><li>3.435</li><li>3.84</li><li>3.845</li><li>1.935</li><li>2.14</li><li>1.513</li><li>3.17</li><li>2.77</li><li>3.57</li><li>2.78</li></ol>\n"
      ],
      "text/latex": [
       "\\begin{enumerate*}\n",
       "\\item 2.62\n",
       "\\item 2.875\n",
       "\\item 2.32\n",
       "\\item 3.215\n",
       "\\item 3.44\n",
       "\\item 3.46\n",
       "\\item 3.57\n",
       "\\item 3.19\n",
       "\\item 3.15\n",
       "\\item 3.44\n",
       "\\item 3.44\n",
       "\\item 4.07\n",
       "\\item 3.73\n",
       "\\item 3.78\n",
       "\\item 5.25\n",
       "\\item 5.424\n",
       "\\item 5.345\n",
       "\\item 2.2\n",
       "\\item 1.615\n",
       "\\item 1.835\n",
       "\\item 2.465\n",
       "\\item 3.52\n",
       "\\item 3.435\n",
       "\\item 3.84\n",
       "\\item 3.845\n",
       "\\item 1.935\n",
       "\\item 2.14\n",
       "\\item 1.513\n",
       "\\item 3.17\n",
       "\\item 2.77\n",
       "\\item 3.57\n",
       "\\item 2.78\n",
       "\\end{enumerate*}\n"
      ],
      "text/markdown": [
       "1. 2.62\n",
       "2. 2.875\n",
       "3. 2.32\n",
       "4. 3.215\n",
       "5. 3.44\n",
       "6. 3.46\n",
       "7. 3.57\n",
       "8. 3.19\n",
       "9. 3.15\n",
       "10. 3.44\n",
       "11. 3.44\n",
       "12. 4.07\n",
       "13. 3.73\n",
       "14. 3.78\n",
       "15. 5.25\n",
       "16. 5.424\n",
       "17. 5.345\n",
       "18. 2.2\n",
       "19. 1.615\n",
       "20. 1.835\n",
       "21. 2.465\n",
       "22. 3.52\n",
       "23. 3.435\n",
       "24. 3.84\n",
       "25. 3.845\n",
       "26. 1.935\n",
       "27. 2.14\n",
       "28. 1.513\n",
       "29. 3.17\n",
       "30. 2.77\n",
       "31. 3.57\n",
       "32. 2.78\n",
       "\n",
       "\n"
      ],
      "text/plain": [
       " [1] 2.620 2.875 2.320 3.215 3.440 3.460 3.570 3.190 3.150 3.440 3.440 4.070\n",
       "[13] 3.730 3.780 5.250 5.424 5.345 2.200 1.615 1.835 2.465 3.520 3.435 3.840\n",
       "[25] 3.845 1.935 2.140 1.513 3.170 2.770 3.570 2.780"
      ]
     },
     "metadata": {},
     "output_type": "display_data"
    }
   ],
   "source": [
    "wt"
   ]
  },
  {
   "cell_type": "code",
   "execution_count": 49,
   "id": "53064566-e039-43ed-ba94-514d7b173a41",
   "metadata": {},
   "outputs": [
    {
     "data": {
      "text/html": [
       "<style>\n",
       ".list-inline {list-style: none; margin:0; padding: 0}\n",
       ".list-inline>li {display: inline-block}\n",
       ".list-inline>li:not(:last-child)::after {content: \"\\00b7\"; padding: 0 .5ex}\n",
       "</style>\n",
       "<ol class=list-inline><li>1</li><li>2</li><li>3</li><li>4</li><li>5</li><li>6</li><li>7</li><li>8</li></ol>\n"
      ],
      "text/latex": [
       "\\begin{enumerate*}\n",
       "\\item 1\n",
       "\\item 2\n",
       "\\item 3\n",
       "\\item 4\n",
       "\\item 5\n",
       "\\item 6\n",
       "\\item 7\n",
       "\\item 8\n",
       "\\end{enumerate*}\n"
      ],
      "text/markdown": [
       "1. 1\n",
       "2. 2\n",
       "3. 3\n",
       "4. 4\n",
       "5. 5\n",
       "6. 6\n",
       "7. 7\n",
       "8. 8\n",
       "\n",
       "\n"
      ],
      "text/plain": [
       "[1] 1 2 3 4 5 6 7 8"
      ]
     },
     "metadata": {},
     "output_type": "display_data"
    }
   ],
   "source": [
    "wt <- 1:8\n",
    "wt\n",
    "# 1:8:100"
   ]
  },
  {
   "cell_type": "code",
   "execution_count": 51,
   "id": "da24b0ad-63b7-4d3f-bd8a-6758243de9ef",
   "metadata": {},
   "outputs": [],
   "source": [
    "# mtcars"
   ]
  },
  {
   "cell_type": "code",
   "execution_count": 53,
   "id": "17bf5a5b-25f0-4373-96a2-d2e9407311c3",
   "metadata": {},
   "outputs": [
    {
     "data": {
      "text/html": [
       "<style>\n",
       ".list-inline {list-style: none; margin:0; padding: 0}\n",
       ".list-inline>li {display: inline-block}\n",
       ".list-inline>li:not(:last-child)::after {content: \"\\00b7\"; padding: 0 .5ex}\n",
       "</style>\n",
       "<ol class=list-inline><li>'X'</li><li>'downtime'</li><li>'new_data'</li><li>'wt'</li><li>'x'</li></ol>\n"
      ],
      "text/latex": [
       "\\begin{enumerate*}\n",
       "\\item 'X'\n",
       "\\item 'downtime'\n",
       "\\item 'new\\_data'\n",
       "\\item 'wt'\n",
       "\\item 'x'\n",
       "\\end{enumerate*}\n"
      ],
      "text/markdown": [
       "1. 'X'\n",
       "2. 'downtime'\n",
       "3. 'new_data'\n",
       "4. 'wt'\n",
       "5. 'x'\n",
       "\n",
       "\n"
      ],
      "text/plain": [
       "[1] \"X\"        \"downtime\" \"new_data\" \"wt\"       \"x\"       "
      ]
     },
     "metadata": {},
     "output_type": "display_data"
    }
   ],
   "source": [
    "ls()"
   ]
  },
  {
   "cell_type": "code",
   "execution_count": 54,
   "id": "dceabe90-fe6a-42b6-a082-75ca7e92bc69",
   "metadata": {},
   "outputs": [
    {
     "data": {
      "text/html": [
       "<style>\n",
       ".list-inline {list-style: none; margin:0; padding: 0}\n",
       ".list-inline>li {display: inline-block}\n",
       ".list-inline>li:not(:last-child)::after {content: \"\\00b7\"; padding: 0 .5ex}\n",
       "</style>\n",
       "<ol class=list-inline><li>10</li><li>11</li><li>12</li><li>13</li><li>14</li><li>15</li><li>16</li><li>17</li><li>18</li><li>19</li><li>20</li><li>21</li><li>22</li><li>23</li><li>24</li><li>25</li><li>26</li><li>27</li><li>28</li><li>29</li><li>30</li><li>31</li><li>32</li><li>33</li><li>34</li><li>35</li><li>36</li><li>37</li><li>38</li><li>39</li><li>40</li><li>41</li><li>42</li><li>43</li><li>44</li><li>45</li><li>46</li><li>47</li><li>48</li><li>49</li><li>50</li><li>51</li><li>52</li><li>53</li><li>54</li><li>55</li><li>56</li><li>57</li><li>58</li><li>59</li><li>60</li><li>61</li><li>62</li><li>63</li><li>64</li><li>65</li><li>66</li><li>67</li><li>68</li><li>69</li><li>70</li><li>71</li><li>72</li><li>73</li><li>74</li><li>75</li><li>76</li><li>77</li><li>78</li><li>79</li><li>80</li><li>81</li><li>82</li><li>83</li><li>84</li><li>85</li><li>86</li><li>87</li><li>88</li><li>89</li><li>90</li><li>91</li><li>92</li><li>93</li><li>94</li><li>95</li><li>96</li><li>97</li><li>98</li><li>99</li><li>100</li></ol>\n"
      ],
      "text/latex": [
       "\\begin{enumerate*}\n",
       "\\item 10\n",
       "\\item 11\n",
       "\\item 12\n",
       "\\item 13\n",
       "\\item 14\n",
       "\\item 15\n",
       "\\item 16\n",
       "\\item 17\n",
       "\\item 18\n",
       "\\item 19\n",
       "\\item 20\n",
       "\\item 21\n",
       "\\item 22\n",
       "\\item 23\n",
       "\\item 24\n",
       "\\item 25\n",
       "\\item 26\n",
       "\\item 27\n",
       "\\item 28\n",
       "\\item 29\n",
       "\\item 30\n",
       "\\item 31\n",
       "\\item 32\n",
       "\\item 33\n",
       "\\item 34\n",
       "\\item 35\n",
       "\\item 36\n",
       "\\item 37\n",
       "\\item 38\n",
       "\\item 39\n",
       "\\item 40\n",
       "\\item 41\n",
       "\\item 42\n",
       "\\item 43\n",
       "\\item 44\n",
       "\\item 45\n",
       "\\item 46\n",
       "\\item 47\n",
       "\\item 48\n",
       "\\item 49\n",
       "\\item 50\n",
       "\\item 51\n",
       "\\item 52\n",
       "\\item 53\n",
       "\\item 54\n",
       "\\item 55\n",
       "\\item 56\n",
       "\\item 57\n",
       "\\item 58\n",
       "\\item 59\n",
       "\\item 60\n",
       "\\item 61\n",
       "\\item 62\n",
       "\\item 63\n",
       "\\item 64\n",
       "\\item 65\n",
       "\\item 66\n",
       "\\item 67\n",
       "\\item 68\n",
       "\\item 69\n",
       "\\item 70\n",
       "\\item 71\n",
       "\\item 72\n",
       "\\item 73\n",
       "\\item 74\n",
       "\\item 75\n",
       "\\item 76\n",
       "\\item 77\n",
       "\\item 78\n",
       "\\item 79\n",
       "\\item 80\n",
       "\\item 81\n",
       "\\item 82\n",
       "\\item 83\n",
       "\\item 84\n",
       "\\item 85\n",
       "\\item 86\n",
       "\\item 87\n",
       "\\item 88\n",
       "\\item 89\n",
       "\\item 90\n",
       "\\item 91\n",
       "\\item 92\n",
       "\\item 93\n",
       "\\item 94\n",
       "\\item 95\n",
       "\\item 96\n",
       "\\item 97\n",
       "\\item 98\n",
       "\\item 99\n",
       "\\item 100\n",
       "\\end{enumerate*}\n"
      ],
      "text/markdown": [
       "1. 10\n",
       "2. 11\n",
       "3. 12\n",
       "4. 13\n",
       "5. 14\n",
       "6. 15\n",
       "7. 16\n",
       "8. 17\n",
       "9. 18\n",
       "10. 19\n",
       "11. 20\n",
       "12. 21\n",
       "13. 22\n",
       "14. 23\n",
       "15. 24\n",
       "16. 25\n",
       "17. 26\n",
       "18. 27\n",
       "19. 28\n",
       "20. 29\n",
       "21. 30\n",
       "22. 31\n",
       "23. 32\n",
       "24. 33\n",
       "25. 34\n",
       "26. 35\n",
       "27. 36\n",
       "28. 37\n",
       "29. 38\n",
       "30. 39\n",
       "31. 40\n",
       "32. 41\n",
       "33. 42\n",
       "34. 43\n",
       "35. 44\n",
       "36. 45\n",
       "37. 46\n",
       "38. 47\n",
       "39. 48\n",
       "40. 49\n",
       "41. 50\n",
       "42. 51\n",
       "43. 52\n",
       "44. 53\n",
       "45. 54\n",
       "46. 55\n",
       "47. 56\n",
       "48. 57\n",
       "49. 58\n",
       "50. 59\n",
       "51. 60\n",
       "52. 61\n",
       "53. 62\n",
       "54. 63\n",
       "55. 64\n",
       "56. 65\n",
       "57. 66\n",
       "58. 67\n",
       "59. 68\n",
       "60. 69\n",
       "61. 70\n",
       "62. 71\n",
       "63. 72\n",
       "64. 73\n",
       "65. 74\n",
       "66. 75\n",
       "67. 76\n",
       "68. 77\n",
       "69. 78\n",
       "70. 79\n",
       "71. 80\n",
       "72. 81\n",
       "73. 82\n",
       "74. 83\n",
       "75. 84\n",
       "76. 85\n",
       "77. 86\n",
       "78. 87\n",
       "79. 88\n",
       "80. 89\n",
       "81. 90\n",
       "82. 91\n",
       "83. 92\n",
       "84. 93\n",
       "85. 94\n",
       "86. 95\n",
       "87. 96\n",
       "88. 97\n",
       "89. 98\n",
       "90. 99\n",
       "91. 100\n",
       "\n",
       "\n"
      ],
      "text/plain": [
       " [1]  10  11  12  13  14  15  16  17  18  19  20  21  22  23  24  25  26  27  28\n",
       "[20]  29  30  31  32  33  34  35  36  37  38  39  40  41  42  43  44  45  46  47\n",
       "[39]  48  49  50  51  52  53  54  55  56  57  58  59  60  61  62  63  64  65  66\n",
       "[58]  67  68  69  70  71  72  73  74  75  76  77  78  79  80  81  82  83  84  85\n",
       "[77]  86  87  88  89  90  91  92  93  94  95  96  97  98  99 100"
      ]
     },
     "metadata": {},
     "output_type": "display_data"
    }
   ],
   "source": [
    "X"
   ]
  },
  {
   "cell_type": "code",
   "execution_count": 55,
   "id": "84fb26c5-416f-4590-ae50-c1e802d287e6",
   "metadata": {},
   "outputs": [
    {
     "data": {
      "text/html": [
       "<style>\n",
       ".list-inline {list-style: none; margin:0; padding: 0}\n",
       ".list-inline>li {display: inline-block}\n",
       ".list-inline>li:not(:last-child)::after {content: \"\\00b7\"; padding: 0 .5ex}\n",
       "</style>\n",
       "<ol class=list-inline><li>1</li><li>2</li><li>3</li><li>4</li><li>5</li><li>6</li><li>7</li><li>8</li></ol>\n"
      ],
      "text/latex": [
       "\\begin{enumerate*}\n",
       "\\item 1\n",
       "\\item 2\n",
       "\\item 3\n",
       "\\item 4\n",
       "\\item 5\n",
       "\\item 6\n",
       "\\item 7\n",
       "\\item 8\n",
       "\\end{enumerate*}\n"
      ],
      "text/markdown": [
       "1. 1\n",
       "2. 2\n",
       "3. 3\n",
       "4. 4\n",
       "5. 5\n",
       "6. 6\n",
       "7. 7\n",
       "8. 8\n",
       "\n",
       "\n"
      ],
      "text/plain": [
       "[1] 1 2 3 4 5 6 7 8"
      ]
     },
     "metadata": {},
     "output_type": "display_data"
    }
   ],
   "source": [
    "wt"
   ]
  },
  {
   "cell_type": "code",
   "execution_count": 56,
   "id": "9d718459-80bf-4dd3-a5ef-374d628d5b0b",
   "metadata": {},
   "outputs": [
    {
     "data": {
      "text/html": [
       "<style>\n",
       ".list-inline {list-style: none; margin:0; padding: 0}\n",
       ".list-inline>li {display: inline-block}\n",
       ".list-inline>li:not(:last-child)::after {content: \"\\00b7\"; padding: 0 .5ex}\n",
       "</style>\n",
       "<ol class=list-inline><li>48</li><li>49</li><li>50</li><li>51</li><li>52</li><li>53</li><li>54</li><li>55</li><li>56</li></ol>\n"
      ],
      "text/latex": [
       "\\begin{enumerate*}\n",
       "\\item 48\n",
       "\\item 49\n",
       "\\item 50\n",
       "\\item 51\n",
       "\\item 52\n",
       "\\item 53\n",
       "\\item 54\n",
       "\\item 55\n",
       "\\item 56\n",
       "\\end{enumerate*}\n"
      ],
      "text/markdown": [
       "1. 48\n",
       "2. 49\n",
       "3. 50\n",
       "4. 51\n",
       "5. 52\n",
       "6. 53\n",
       "7. 54\n",
       "8. 55\n",
       "9. 56\n",
       "\n",
       "\n"
      ],
      "text/plain": [
       "[1] 48 49 50 51 52 53 54 55 56"
      ]
     },
     "metadata": {},
     "output_type": "display_data"
    }
   ],
   "source": [
    "x"
   ]
  },
  {
   "cell_type": "code",
   "execution_count": 57,
   "id": "fc3c078f-839c-4ea3-9f35-73b713d09a26",
   "metadata": {},
   "outputs": [
    {
     "data": {
      "text/html": [
       "<style>\n",
       ".list-inline {list-style: none; margin:0; padding: 0}\n",
       ".list-inline>li {display: inline-block}\n",
       ".list-inline>li:not(:last-child)::after {content: \"\\00b7\"; padding: 0 .5ex}\n",
       "</style>\n",
       "<ol class=list-inline><li>0</li><li>1</li><li>2</li><li>3</li><li>4</li><li>5</li><li>6</li><li>7</li><li>8</li><li>9</li><li>10</li><li>11</li><li>12</li><li>13</li><li>14</li><li>15</li><li>16</li><li>17</li><li>18</li><li>19</li><li>20</li><li>21</li><li>22</li><li>23</li><li>24</li><li>25</li><li>26</li><li>27</li><li>28</li><li>29</li><li>30</li><li>31</li><li>32</li><li>33</li><li>34</li><li>35</li><li>36</li><li>37</li><li>38</li><li>39</li><li>40</li><li>41</li><li>42</li><li>43</li><li>44</li><li>45</li><li>46</li><li>47</li><li>48</li><li>49</li><li>50</li><li>51</li></ol>\n"
      ],
      "text/latex": [
       "\\begin{enumerate*}\n",
       "\\item 0\n",
       "\\item 1\n",
       "\\item 2\n",
       "\\item 3\n",
       "\\item 4\n",
       "\\item 5\n",
       "\\item 6\n",
       "\\item 7\n",
       "\\item 8\n",
       "\\item 9\n",
       "\\item 10\n",
       "\\item 11\n",
       "\\item 12\n",
       "\\item 13\n",
       "\\item 14\n",
       "\\item 15\n",
       "\\item 16\n",
       "\\item 17\n",
       "\\item 18\n",
       "\\item 19\n",
       "\\item 20\n",
       "\\item 21\n",
       "\\item 22\n",
       "\\item 23\n",
       "\\item 24\n",
       "\\item 25\n",
       "\\item 26\n",
       "\\item 27\n",
       "\\item 28\n",
       "\\item 29\n",
       "\\item 30\n",
       "\\item 31\n",
       "\\item 32\n",
       "\\item 33\n",
       "\\item 34\n",
       "\\item 35\n",
       "\\item 36\n",
       "\\item 37\n",
       "\\item 38\n",
       "\\item 39\n",
       "\\item 40\n",
       "\\item 41\n",
       "\\item 42\n",
       "\\item 43\n",
       "\\item 44\n",
       "\\item 45\n",
       "\\item 46\n",
       "\\item 47\n",
       "\\item 48\n",
       "\\item 49\n",
       "\\item 50\n",
       "\\item 51\n",
       "\\end{enumerate*}\n"
      ],
      "text/markdown": [
       "1. 0\n",
       "2. 1\n",
       "3. 2\n",
       "4. 3\n",
       "5. 4\n",
       "6. 5\n",
       "7. 6\n",
       "8. 7\n",
       "9. 8\n",
       "10. 9\n",
       "11. 10\n",
       "12. 11\n",
       "13. 12\n",
       "14. 13\n",
       "15. 14\n",
       "16. 15\n",
       "17. 16\n",
       "18. 17\n",
       "19. 18\n",
       "20. 19\n",
       "21. 20\n",
       "22. 21\n",
       "23. 22\n",
       "24. 23\n",
       "25. 24\n",
       "26. 25\n",
       "27. 26\n",
       "28. 27\n",
       "29. 28\n",
       "30. 29\n",
       "31. 30\n",
       "32. 31\n",
       "33. 32\n",
       "34. 33\n",
       "35. 34\n",
       "36. 35\n",
       "37. 36\n",
       "38. 37\n",
       "39. 38\n",
       "40. 39\n",
       "41. 40\n",
       "42. 41\n",
       "43. 42\n",
       "44. 43\n",
       "45. 44\n",
       "46. 45\n",
       "47. 46\n",
       "48. 47\n",
       "49. 48\n",
       "50. 49\n",
       "51. 50\n",
       "52. 51\n",
       "\n",
       "\n"
      ],
      "text/plain": [
       " [1]  0  1  2  3  4  5  6  7  8  9 10 11 12 13 14 15 16 17 18 19 20 21 22 23 24\n",
       "[26] 25 26 27 28 29 30 31 32 33 34 35 36 37 38 39 40 41 42 43 44 45 46 47 48 49\n",
       "[51] 50 51"
      ]
     },
     "metadata": {},
     "output_type": "display_data"
    }
   ],
   "source": [
    "downtime"
   ]
  },
  {
   "cell_type": "code",
   "execution_count": 58,
   "id": "a9b8a770-1599-4742-aac2-a3e3c8ada1ee",
   "metadata": {},
   "outputs": [
    {
     "data": {
      "text/html": [
       "<style>\n",
       ".list-inline {list-style: none; margin:0; padding: 0}\n",
       ".list-inline>li {display: inline-block}\n",
       ".list-inline>li:not(:last-child)::after {content: \"\\00b7\"; padding: 0 .5ex}\n",
       "</style>\n",
       "<ol class=list-inline><li>'X'</li><li>'downtime'</li><li>'new_data'</li><li>'wt'</li><li>'x'</li></ol>\n"
      ],
      "text/latex": [
       "\\begin{enumerate*}\n",
       "\\item 'X'\n",
       "\\item 'downtime'\n",
       "\\item 'new\\_data'\n",
       "\\item 'wt'\n",
       "\\item 'x'\n",
       "\\end{enumerate*}\n"
      ],
      "text/markdown": [
       "1. 'X'\n",
       "2. 'downtime'\n",
       "3. 'new_data'\n",
       "4. 'wt'\n",
       "5. 'x'\n",
       "\n",
       "\n"
      ],
      "text/plain": [
       "[1] \"X\"        \"downtime\" \"new_data\" \"wt\"       \"x\"       "
      ]
     },
     "metadata": {},
     "output_type": "display_data"
    }
   ],
   "source": [
    "objects()"
   ]
  },
  {
   "cell_type": "code",
   "execution_count": 59,
   "id": "a0e49fcd-94d1-4420-bf6a-d374dcb9a8d0",
   "metadata": {},
   "outputs": [],
   "source": [
    "rm(x)"
   ]
  },
  {
   "cell_type": "code",
   "execution_count": 60,
   "id": "5a1a189b-5136-4e10-afff-d4ac7e3842c6",
   "metadata": {},
   "outputs": [
    {
     "data": {
      "text/html": [
       "<style>\n",
       ".list-inline {list-style: none; margin:0; padding: 0}\n",
       ".list-inline>li {display: inline-block}\n",
       ".list-inline>li:not(:last-child)::after {content: \"\\00b7\"; padding: 0 .5ex}\n",
       "</style>\n",
       "<ol class=list-inline><li>'X'</li><li>'downtime'</li><li>'new_data'</li><li>'wt'</li></ol>\n"
      ],
      "text/latex": [
       "\\begin{enumerate*}\n",
       "\\item 'X'\n",
       "\\item 'downtime'\n",
       "\\item 'new\\_data'\n",
       "\\item 'wt'\n",
       "\\end{enumerate*}\n"
      ],
      "text/markdown": [
       "1. 'X'\n",
       "2. 'downtime'\n",
       "3. 'new_data'\n",
       "4. 'wt'\n",
       "\n",
       "\n"
      ],
      "text/plain": [
       "[1] \"X\"        \"downtime\" \"new_data\" \"wt\"      "
      ]
     },
     "metadata": {},
     "output_type": "display_data"
    }
   ],
   "source": [
    "ls()"
   ]
  },
  {
   "cell_type": "code",
   "execution_count": 61,
   "id": "60933c03-6c4a-4b27-9507-2394854af2e6",
   "metadata": {},
   "outputs": [
    {
     "data": {
      "text/html": [
       "<style>\n",
       ".list-inline {list-style: none; margin:0; padding: 0}\n",
       ".list-inline>li {display: inline-block}\n",
       ".list-inline>li:not(:last-child)::after {content: \"\\00b7\"; padding: 0 .5ex}\n",
       "</style>\n",
       "<ol class=list-inline><li>'X'</li><li>'downtime'</li><li>'wt'</li></ol>\n"
      ],
      "text/latex": [
       "\\begin{enumerate*}\n",
       "\\item 'X'\n",
       "\\item 'downtime'\n",
       "\\item 'wt'\n",
       "\\end{enumerate*}\n"
      ],
      "text/markdown": [
       "1. 'X'\n",
       "2. 'downtime'\n",
       "3. 'wt'\n",
       "\n",
       "\n"
      ],
      "text/plain": [
       "[1] \"X\"        \"downtime\" \"wt\"      "
      ]
     },
     "metadata": {},
     "output_type": "display_data"
    }
   ],
   "source": [
    "rm(new_data)\n",
    "ls()"
   ]
  },
  {
   "cell_type": "code",
   "execution_count": 62,
   "id": "142ab542-0714-4cb7-a000-375f8b9ef60b",
   "metadata": {},
   "outputs": [],
   "source": [
    "rm(list=ls())"
   ]
  },
  {
   "cell_type": "code",
   "execution_count": 63,
   "id": "089604f0-6252-4c72-8bde-fbb7c1a30943",
   "metadata": {},
   "outputs": [
    {
     "data": {
      "text/html": [],
      "text/latex": [],
      "text/markdown": [],
      "text/plain": [
       "character(0)"
      ]
     },
     "metadata": {},
     "output_type": "display_data"
    }
   ],
   "source": [
    "ls()"
   ]
  },
  {
   "cell_type": "code",
   "execution_count": 73,
   "id": "885b249f-3a29-4ed9-9061-c4a39ff3237f",
   "metadata": {},
   "outputs": [
    {
     "data": {
      "text/html": [
       "<style>\n",
       ".list-inline {list-style: none; margin:0; padding: 0}\n",
       ".list-inline>li {display: inline-block}\n",
       ".list-inline>li:not(:last-child)::after {content: \"\\00b7\"; padding: 0 .5ex}\n",
       "</style>\n",
       "<ol class=list-inline><li>5.9846383119002</li><li>5.23652972560376</li><li>5.92273786128499</li><li>5.0986209847033</li></ol>\n"
      ],
      "text/latex": [
       "\\begin{enumerate*}\n",
       "\\item 5.9846383119002\n",
       "\\item 5.23652972560376\n",
       "\\item 5.92273786128499\n",
       "\\item 5.0986209847033\n",
       "\\end{enumerate*}\n"
      ],
      "text/markdown": [
       "1. 5.9846383119002\n",
       "2. 5.23652972560376\n",
       "3. 5.92273786128499\n",
       "4. 5.0986209847033\n",
       "\n",
       "\n"
      ],
      "text/plain": [
       "[1] 5.984638 5.236530 5.922738 5.098621"
      ]
     },
     "metadata": {},
     "output_type": "display_data"
    }
   ],
   "source": [
    "runif(4, 5, 6)"
   ]
  },
  {
   "cell_type": "code",
   "execution_count": 74,
   "id": "07256fba-a73e-47ae-82dd-c2c41d818c65",
   "metadata": {},
   "outputs": [
    {
     "data": {
      "text/html": [
       "<style>\n",
       ".list-inline {list-style: none; margin:0; padding: 0}\n",
       ".list-inline>li {display: inline-block}\n",
       ".list-inline>li:not(:last-child)::after {content: \"\\00b7\"; padding: 0 .5ex}\n",
       "</style>\n",
       "<ol class=list-inline><li>91</li><li>93</li><li>65</li><li>90</li><li>83</li></ol>\n"
      ],
      "text/latex": [
       "\\begin{enumerate*}\n",
       "\\item 91\n",
       "\\item 93\n",
       "\\item 65\n",
       "\\item 90\n",
       "\\item 83\n",
       "\\end{enumerate*}\n"
      ],
      "text/markdown": [
       "1. 91\n",
       "2. 93\n",
       "3. 65\n",
       "4. 90\n",
       "5. 83\n",
       "\n",
       "\n"
      ],
      "text/plain": [
       "[1] 91 93 65 90 83"
      ]
     },
     "metadata": {},
     "output_type": "display_data"
    }
   ],
   "source": [
    "sample(40:100, 5) # random by sample from range"
   ]
  },
  {
   "cell_type": "code",
   "execution_count": 98,
   "id": "a063659b-7cba-4151-8659-812cc311348b",
   "metadata": {},
   "outputs": [
    {
     "data": {
      "image/png": "[encoded data removed]",
      "text/plain": [
       "plot without title"
      ]
     },
     "metadata": {
      "image/png": {
       "height": 420,
       "width": 420
      }
     },
     "output_type": "display_data"
    }
   ],
   "source": [
    "females_score = c(sample(40:100), 60)\n",
    "males_score = c(sample(40:100), 40) * 1.1\n",
    "# females_score\n",
    "# scatter.smooth(females_score, males_score)\n",
    "\n",
    "boxplot(females_score, males_score, ann=)\n",
    "# boxplot(females_score)\n",
    "# boxplot(males_score)"
   ]
  },
  {
   "cell_type": "code",
   "execution_count": 94,
   "id": "5ba44ef1-c078-4b9c-a14d-1c16ed3d2cd2",
   "metadata": {},
   "outputs": [
    {
     "ename": "ERROR",
     "evalue": "Error in parse(text = x, srcfile = src): <text>:1:3: unexpected ','\n1: {1,\n      ^\n",
     "output_type": "error",
     "traceback": [
      "Error in parse(text = x, srcfile = src): <text>:1:3: unexpected ','\n1: {1,\n      ^\nTraceback:\n"
     ]
    }
   ],
   "source": []
  },
  {
   "cell_type": "code",
   "execution_count": 104,
   "id": "e3557fdc-630a-4b81-a47b-8edc6cbb7853",
   "metadata": {},
   "outputs": [
    {
     "data": {
      "text/html": [
       "<style>\n",
       ".list-inline {list-style: none; margin:0; padding: 0}\n",
       ".list-inline>li {display: inline-block}\n",
       ".list-inline>li:not(:last-child)::after {content: \"\\00b7\"; padding: 0 .5ex}\n",
       "</style>\n",
       "<ol class=list-inline><li>1</li><li>2</li><li>3</li><li>4</li><li>5</li><li>6</li><li>7</li><li>8</li><li>9</li><li>10</li></ol>\n"
      ],
      "text/latex": [
       "\\begin{enumerate*}\n",
       "\\item 1\n",
       "\\item 2\n",
       "\\item 3\n",
       "\\item 4\n",
       "\\item 5\n",
       "\\item 6\n",
       "\\item 7\n",
       "\\item 8\n",
       "\\item 9\n",
       "\\item 10\n",
       "\\end{enumerate*}\n"
      ],
      "text/markdown": [
       "1. 1\n",
       "2. 2\n",
       "3. 3\n",
       "4. 4\n",
       "5. 5\n",
       "6. 6\n",
       "7. 7\n",
       "8. 8\n",
       "9. 9\n",
       "10. 10\n",
       "\n",
       "\n"
      ],
      "text/plain": [
       " [1]  1  2  3  4  5  6  7  8  9 10"
      ]
     },
     "metadata": {},
     "output_type": "display_data"
    }
   ],
   "source": [
    "X = c(1:10)\n",
    "X"
   ]
  },
  {
   "cell_type": "code",
   "execution_count": 107,
   "id": "4854a9ad-1b2f-4b08-95bf-c088ef76c6a4",
   "metadata": {},
   "outputs": [
    {
     "data": {
      "text/html": [
       "<style>\n",
       ".list-inline {list-style: none; margin:0; padding: 0}\n",
       ".list-inline>li {display: inline-block}\n",
       ".list-inline>li:not(:last-child)::after {content: \"\\00b7\"; padding: 0 .5ex}\n",
       "</style>\n",
       "<ol class=list-inline><li>1</li><li>2</li><li>3</li><li>4</li><li>5</li><li>6</li><li>7</li><li>8</li><li>9</li><li>10</li><li>1</li><li>2</li><li>3</li><li>4</li><li>5</li><li>6</li><li>7</li><li>8</li><li>9</li><li>10</li></ol>\n"
      ],
      "text/latex": [
       "\\begin{enumerate*}\n",
       "\\item 1\n",
       "\\item 2\n",
       "\\item 3\n",
       "\\item 4\n",
       "\\item 5\n",
       "\\item 6\n",
       "\\item 7\n",
       "\\item 8\n",
       "\\item 9\n",
       "\\item 10\n",
       "\\item 1\n",
       "\\item 2\n",
       "\\item 3\n",
       "\\item 4\n",
       "\\item 5\n",
       "\\item 6\n",
       "\\item 7\n",
       "\\item 8\n",
       "\\item 9\n",
       "\\item 10\n",
       "\\end{enumerate*}\n"
      ],
      "text/markdown": [
       "1. 1\n",
       "2. 2\n",
       "3. 3\n",
       "4. 4\n",
       "5. 5\n",
       "6. 6\n",
       "7. 7\n",
       "8. 8\n",
       "9. 9\n",
       "10. 10\n",
       "11. 1\n",
       "12. 2\n",
       "13. 3\n",
       "14. 4\n",
       "15. 5\n",
       "16. 6\n",
       "17. 7\n",
       "18. 8\n",
       "19. 9\n",
       "20. 10\n",
       "\n",
       "\n"
      ],
      "text/plain": [
       " [1]  1  2  3  4  5  6  7  8  9 10  1  2  3  4  5  6  7  8  9 10"
      ]
     },
     "metadata": {},
     "output_type": "display_data"
    }
   ],
   "source": [
    "rep(X, 2)"
   ]
  },
  {
   "cell_type": "code",
   "execution_count": 109,
   "id": "330f391d-d47b-4169-8630-f87f8d1769f5",
   "metadata": {},
   "outputs": [
    {
     "data": {
      "text/html": [
       "<style>\n",
       ".list-inline {list-style: none; margin:0; padding: 0}\n",
       ".list-inline>li {display: inline-block}\n",
       ".list-inline>li:not(:last-child)::after {content: \"\\00b7\"; padding: 0 .5ex}\n",
       "</style>\n",
       "<ol class=list-inline><li>'W'</li><li>'W'</li><li>'W'</li><li>'W'</li><li>'W'</li><li>'W'</li><li>'W'</li><li>'W'</li><li>'W'</li><li>'W'</li><li>'W'</li><li>'W'</li><li>'W'</li><li>'W'</li><li>'W'</li><li>'W'</li><li>'W'</li><li>'W'</li><li>'W'</li><li>'W'</li><li>'W'</li><li>'W'</li><li>'W'</li><li>'W'</li><li>'W'</li><li>'W'</li><li>'W'</li><li>'W'</li><li>'W'</li><li>'W'</li><li>'W'</li><li>'W'</li><li>'W'</li><li>'W'</li><li>'W'</li><li>'W'</li><li>'W'</li><li>'W'</li><li>'W'</li><li>'W'</li><li>'W'</li><li>'W'</li><li>'W'</li><li>'W'</li><li>'W'</li><li>'W'</li><li>'W'</li><li>'W'</li><li>'W'</li><li>'W'</li><li>'W'</li><li>'W'</li><li>'W'</li><li>'W'</li><li>'W'</li><li>'W'</li><li>'W'</li><li>'W'</li><li>'W'</li><li>'W'</li><li>'M'</li><li>'M'</li><li>'M'</li><li>'M'</li><li>'M'</li><li>'M'</li><li>'M'</li><li>'M'</li><li>'M'</li><li>'M'</li><li>'M'</li><li>'M'</li><li>'M'</li><li>'M'</li><li>'M'</li><li>'M'</li><li>'M'</li><li>'M'</li><li>'M'</li><li>'M'</li><li>'M'</li><li>'M'</li><li>'M'</li><li>'M'</li><li>'M'</li><li>'M'</li><li>'M'</li><li>'M'</li><li>'M'</li><li>'M'</li><li>'M'</li><li>'M'</li><li>'M'</li><li>'M'</li><li>'M'</li><li>'M'</li><li>'M'</li><li>'M'</li><li>'M'</li><li>'M'</li></ol>\n"
      ],
      "text/latex": [
       "\\begin{enumerate*}\n",
       "\\item 'W'\n",
       "\\item 'W'\n",
       "\\item 'W'\n",
       "\\item 'W'\n",
       "\\item 'W'\n",
       "\\item 'W'\n",
       "\\item 'W'\n",
       "\\item 'W'\n",
       "\\item 'W'\n",
       "\\item 'W'\n",
       "\\item 'W'\n",
       "\\item 'W'\n",
       "\\item 'W'\n",
       "\\item 'W'\n",
       "\\item 'W'\n",
       "\\item 'W'\n",
       "\\item 'W'\n",
       "\\item 'W'\n",
       "\\item 'W'\n",
       "\\item 'W'\n",
       "\\item 'W'\n",
       "\\item 'W'\n",
       "\\item 'W'\n",
       "\\item 'W'\n",
       "\\item 'W'\n",
       "\\item 'W'\n",
       "\\item 'W'\n",
       "\\item 'W'\n",
       "\\item 'W'\n",
       "\\item 'W'\n",
       "\\item 'W'\n",
       "\\item 'W'\n",
       "\\item 'W'\n",
       "\\item 'W'\n",
       "\\item 'W'\n",
       "\\item 'W'\n",
       "\\item 'W'\n",
       "\\item 'W'\n",
       "\\item 'W'\n",
       "\\item 'W'\n",
       "\\item 'W'\n",
       "\\item 'W'\n",
       "\\item 'W'\n",
       "\\item 'W'\n",
       "\\item 'W'\n",
       "\\item 'W'\n",
       "\\item 'W'\n",
       "\\item 'W'\n",
       "\\item 'W'\n",
       "\\item 'W'\n",
       "\\item 'W'\n",
       "\\item 'W'\n",
       "\\item 'W'\n",
       "\\item 'W'\n",
       "\\item 'W'\n",
       "\\item 'W'\n",
       "\\item 'W'\n",
       "\\item 'W'\n",
       "\\item 'W'\n",
       "\\item 'W'\n",
       "\\item 'M'\n",
       "\\item 'M'\n",
       "\\item 'M'\n",
       "\\item 'M'\n",
       "\\item 'M'\n",
       "\\item 'M'\n",
       "\\item 'M'\n",
       "\\item 'M'\n",
       "\\item 'M'\n",
       "\\item 'M'\n",
       "\\item 'M'\n",
       "\\item 'M'\n",
       "\\item 'M'\n",
       "\\item 'M'\n",
       "\\item 'M'\n",
       "\\item 'M'\n",
       "\\item 'M'\n",
       "\\item 'M'\n",
       "\\item 'M'\n",
       "\\item 'M'\n",
       "\\item 'M'\n",
       "\\item 'M'\n",
       "\\item 'M'\n",
       "\\item 'M'\n",
       "\\item 'M'\n",
       "\\item 'M'\n",
       "\\item 'M'\n",
       "\\item 'M'\n",
       "\\item 'M'\n",
       "\\item 'M'\n",
       "\\item 'M'\n",
       "\\item 'M'\n",
       "\\item 'M'\n",
       "\\item 'M'\n",
       "\\item 'M'\n",
       "\\item 'M'\n",
       "\\item 'M'\n",
       "\\item 'M'\n",
       "\\item 'M'\n",
       "\\item 'M'\n",
       "\\end{enumerate*}\n"
      ],
      "text/markdown": [
       "1. 'W'\n",
       "2. 'W'\n",
       "3. 'W'\n",
       "4. 'W'\n",
       "5. 'W'\n",
       "6. 'W'\n",
       "7. 'W'\n",
       "8. 'W'\n",
       "9. 'W'\n",
       "10. 'W'\n",
       "11. 'W'\n",
       "12. 'W'\n",
       "13. 'W'\n",
       "14. 'W'\n",
       "15. 'W'\n",
       "16. 'W'\n",
       "17. 'W'\n",
       "18. 'W'\n",
       "19. 'W'\n",
       "20. 'W'\n",
       "21. 'W'\n",
       "22. 'W'\n",
       "23. 'W'\n",
       "24. 'W'\n",
       "25. 'W'\n",
       "26. 'W'\n",
       "27. 'W'\n",
       "28. 'W'\n",
       "29. 'W'\n",
       "30. 'W'\n",
       "31. 'W'\n",
       "32. 'W'\n",
       "33. 'W'\n",
       "34. 'W'\n",
       "35. 'W'\n",
       "36. 'W'\n",
       "37. 'W'\n",
       "38. 'W'\n",
       "39. 'W'\n",
       "40. 'W'\n",
       "41. 'W'\n",
       "42. 'W'\n",
       "43. 'W'\n",
       "44. 'W'\n",
       "45. 'W'\n",
       "46. 'W'\n",
       "47. 'W'\n",
       "48. 'W'\n",
       "49. 'W'\n",
       "50. 'W'\n",
       "51. 'W'\n",
       "52. 'W'\n",
       "53. 'W'\n",
       "54. 'W'\n",
       "55. 'W'\n",
       "56. 'W'\n",
       "57. 'W'\n",
       "58. 'W'\n",
       "59. 'W'\n",
       "60. 'W'\n",
       "61. 'M'\n",
       "62. 'M'\n",
       "63. 'M'\n",
       "64. 'M'\n",
       "65. 'M'\n",
       "66. 'M'\n",
       "67. 'M'\n",
       "68. 'M'\n",
       "69. 'M'\n",
       "70. 'M'\n",
       "71. 'M'\n",
       "72. 'M'\n",
       "73. 'M'\n",
       "74. 'M'\n",
       "75. 'M'\n",
       "76. 'M'\n",
       "77. 'M'\n",
       "78. 'M'\n",
       "79. 'M'\n",
       "80. 'M'\n",
       "81. 'M'\n",
       "82. 'M'\n",
       "83. 'M'\n",
       "84. 'M'\n",
       "85. 'M'\n",
       "86. 'M'\n",
       "87. 'M'\n",
       "88. 'M'\n",
       "89. 'M'\n",
       "90. 'M'\n",
       "91. 'M'\n",
       "92. 'M'\n",
       "93. 'M'\n",
       "94. 'M'\n",
       "95. 'M'\n",
       "96. 'M'\n",
       "97. 'M'\n",
       "98. 'M'\n",
       "99. 'M'\n",
       "100. 'M'\n",
       "\n",
       "\n"
      ],
      "text/plain": [
       "  [1] \"W\" \"W\" \"W\" \"W\" \"W\" \"W\" \"W\" \"W\" \"W\" \"W\" \"W\" \"W\" \"W\" \"W\" \"W\" \"W\" \"W\" \"W\"\n",
       " [19] \"W\" \"W\" \"W\" \"W\" \"W\" \"W\" \"W\" \"W\" \"W\" \"W\" \"W\" \"W\" \"W\" \"W\" \"W\" \"W\" \"W\" \"W\"\n",
       " [37] \"W\" \"W\" \"W\" \"W\" \"W\" \"W\" \"W\" \"W\" \"W\" \"W\" \"W\" \"W\" \"W\" \"W\" \"W\" \"W\" \"W\" \"W\"\n",
       " [55] \"W\" \"W\" \"W\" \"W\" \"W\" \"W\" \"M\" \"M\" \"M\" \"M\" \"M\" \"M\" \"M\" \"M\" \"M\" \"M\" \"M\" \"M\"\n",
       " [73] \"M\" \"M\" \"M\" \"M\" \"M\" \"M\" \"M\" \"M\" \"M\" \"M\" \"M\" \"M\" \"M\" \"M\" \"M\" \"M\" \"M\" \"M\"\n",
       " [91] \"M\" \"M\" \"M\" \"M\" \"M\" \"M\" \"M\" \"M\" \"M\" \"M\""
      ]
     },
     "metadata": {},
     "output_type": "display_data"
    }
   ],
   "source": [
    "gendermarks <- rep(c(\"W\", \"M\"), c(60,40))\n",
    "gendermarks"
   ]
  },
  {
   "cell_type": "code",
   "execution_count": 112,
   "id": "68c7ef0f-075f-49f7-a674-5038f101eb6e",
   "metadata": {},
   "outputs": [
    {
     "data": {
      "image/png": "[encoded data removed]",
      "text/plain": [
       "Plot with title “ecdf(downtime)”"
      ]
     },
     "metadata": {
      "image/png": {
       "height": 420,
       "width": 420
      }
     },
     "output_type": "display_data"
    }
   ],
   "source": [
    "downtime = sample(1:50, 20)\n",
    "plot.stepfun(downtime)"
   ]
  },
  {
   "cell_type": "code",
   "execution_count": 113,
   "id": "10a4707c-728b-479f-8ba3-c8c663f8d75c",
   "metadata": {},
   "outputs": [
    {
     "data": {
      "image/png": "[encoded data removed]",
      "text/plain": [
       "plot without title"
      ]
     },
     "metadata": {
      "image/png": {
       "height": 420,
       "width": 420
      }
     },
     "output_type": "display_data"
    }
   ],
   "source": [
    "plot(downtime)"
   ]
  },
  {
   "cell_type": "code",
   "execution_count": 117,
   "id": "e2448be7-b578-4641-813a-13a1c5f6e000",
   "metadata": {},
   "outputs": [
    {
     "data": {
      "text/plain": [
       "\n",
       "Call:\n",
       "line(downtime)\n",
       "\n",
       "Coefficients:\n",
       "[1]  28.6923  -0.1538\n"
      ]
     },
     "metadata": {},
     "output_type": "display_data"
    }
   ],
   "source": [
    "line(downtime)"
   ]
  },
  {
   "cell_type": "code",
   "execution_count": 122,
   "id": "d0ee57ba-a0dc-4e92-bc6e-fa81ae68296a",
   "metadata": {},
   "outputs": [
    {
     "data": {
      "text/html": [
       "<style>\n",
       ".list-inline {list-style: none; margin:0; padding: 0}\n",
       ".list-inline>li {display: inline-block}\n",
       ".list-inline>li:not(:last-child)::after {content: \"\\00b7\"; padding: 0 .5ex}\n",
       "</style>\n",
       "<ol class=list-inline><li>36</li><li>6</li><li>9</li><li>38</li><li>4</li><li>28</li><li>46</li><li>15</li><li>31</li><li>13</li><li>47</li><li>45</li><li>21</li><li>24</li><li>32</li><li>26</li><li>16</li><li>30</li><li>5</li><li>43</li></ol>\n"
      ],
      "text/latex": [
       "\\begin{enumerate*}\n",
       "\\item 36\n",
       "\\item 6\n",
       "\\item 9\n",
       "\\item 38\n",
       "\\item 4\n",
       "\\item 28\n",
       "\\item 46\n",
       "\\item 15\n",
       "\\item 31\n",
       "\\item 13\n",
       "\\item 47\n",
       "\\item 45\n",
       "\\item 21\n",
       "\\item 24\n",
       "\\item 32\n",
       "\\item 26\n",
       "\\item 16\n",
       "\\item 30\n",
       "\\item 5\n",
       "\\item 43\n",
       "\\end{enumerate*}\n"
      ],
      "text/markdown": [
       "1. 36\n",
       "2. 6\n",
       "3. 9\n",
       "4. 38\n",
       "5. 4\n",
       "6. 28\n",
       "7. 46\n",
       "8. 15\n",
       "9. 31\n",
       "10. 13\n",
       "11. 47\n",
       "12. 45\n",
       "13. 21\n",
       "14. 24\n",
       "15. 32\n",
       "16. 26\n",
       "17. 16\n",
       "18. 30\n",
       "19. 5\n",
       "20. 43\n",
       "\n",
       "\n"
      ],
      "text/plain": [
       " [1] 36  6  9 38  4 28 46 15 31 13 47 45 21 24 32 26 16 30  5 43"
      ]
     },
     "metadata": {},
     "output_type": "display_data"
    }
   ],
   "source": [
    "downtime"
   ]
  },
  {
   "cell_type": "code",
   "execution_count": 124,
   "id": "41c62ef9-5384-4e60-943a-d8287d7af813",
   "metadata": {},
   "outputs": [
    {
     "data": {
      "text/html": [
       "<style>\n",
       ".list-inline {list-style: none; margin:0; padding: 0}\n",
       ".list-inline>li {display: inline-block}\n",
       ".list-inline>li:not(:last-child)::after {content: \"\\00b7\"; padding: 0 .5ex}\n",
       "</style>\n",
       "<ol class=list-inline><li>4</li><li>5</li><li>6</li><li>9</li><li>13</li><li>15</li><li>16</li><li>21</li><li>24</li><li>26</li><li>28</li><li>30</li><li>31</li><li>32</li><li>36</li><li>38</li><li>43</li><li>45</li><li>46</li><li>47</li></ol>\n"
      ],
      "text/latex": [
       "\\begin{enumerate*}\n",
       "\\item 4\n",
       "\\item 5\n",
       "\\item 6\n",
       "\\item 9\n",
       "\\item 13\n",
       "\\item 15\n",
       "\\item 16\n",
       "\\item 21\n",
       "\\item 24\n",
       "\\item 26\n",
       "\\item 28\n",
       "\\item 30\n",
       "\\item 31\n",
       "\\item 32\n",
       "\\item 36\n",
       "\\item 38\n",
       "\\item 43\n",
       "\\item 45\n",
       "\\item 46\n",
       "\\item 47\n",
       "\\end{enumerate*}\n"
      ],
      "text/markdown": [
       "1. 4\n",
       "2. 5\n",
       "3. 6\n",
       "4. 9\n",
       "5. 13\n",
       "6. 15\n",
       "7. 16\n",
       "8. 21\n",
       "9. 24\n",
       "10. 26\n",
       "11. 28\n",
       "12. 30\n",
       "13. 31\n",
       "14. 32\n",
       "15. 36\n",
       "16. 38\n",
       "17. 43\n",
       "18. 45\n",
       "19. 46\n",
       "20. 47\n",
       "\n",
       "\n"
      ],
      "text/plain": [
       " [1]  4  5  6  9 13 15 16 21 24 26 28 30 31 32 36 38 43 45 46 47"
      ]
     },
     "metadata": {},
     "output_type": "display_data"
    }
   ],
   "source": [
    "sort(downtime)"
   ]
  },
  {
   "cell_type": "code",
   "execution_count": 121,
   "id": "5d0a4457-2c66-40c5-8138-b7f455d9cfb8",
   "metadata": {},
   "outputs": [
    {
     "data": {
      "text/html": [
       "25.75"
      ],
      "text/latex": [
       "25.75"
      ],
      "text/markdown": [
       "25.75"
      ],
      "text/plain": [
       "[1] 25.75"
      ]
     },
     "metadata": {},
     "output_type": "display_data"
    }
   ],
   "source": [
    "mean(downtime)"
   ]
  },
  {
   "cell_type": "code",
   "execution_count": 125,
   "id": "ddd3f2bd-0f42-4bdf-ac1c-53e99cd0408f",
   "metadata": {},
   "outputs": [
    {
     "data": {
      "text/html": [
       "'numeric'"
      ],
      "text/latex": [
       "'numeric'"
      ],
      "text/markdown": [
       "'numeric'"
      ],
      "text/plain": [
       "[1] \"numeric\""
      ]
     },
     "metadata": {},
     "output_type": "display_data"
    }
   ],
   "source": [
    "mode(downtime)"
   ]
  },
  {
   "cell_type": "code",
   "execution_count": 126,
   "id": "cc043996-1d57-488f-8179-8a5954848e65",
   "metadata": {},
   "outputs": [
    {
     "data": {
      "text/html": [
       "27"
      ],
      "text/latex": [
       "27"
      ],
      "text/markdown": [
       "27"
      ],
      "text/plain": [
       "[1] 27"
      ]
     },
     "metadata": {},
     "output_type": "display_data"
    }
   ],
   "source": [
    "median(downtime)"
   ]
  },
  {
   "cell_type": "code",
   "execution_count": 128,
   "id": "7ecfb8a9-33e1-4ebe-8577-88204579d879",
   "metadata": {},
   "outputs": [
    {
     "data": {
      "text/html": [
       "<table class=\"dataframe\">\n",
       "<caption>A data.frame: 6 × 11</caption>\n",
       "<thead>\n",
       "\t<tr><th></th><th scope=col>mpg</th><th scope=col>cyl</th><th scope=col>disp</th><th scope=col>hp</th><th scope=col>drat</th><th scope=col>wt</th><th scope=col>qsec</th><th scope=col>vs</th><th scope=col>am</th><th scope=col>gear</th><th scope=col>carb</th></tr>\n",
       "\t<tr><th></th><th scope=col>&lt;dbl&gt;</th><th scope=col>&lt;dbl&gt;</th><th scope=col>&lt;dbl&gt;</th><th scope=col>&lt;dbl&gt;</th><th scope=col>&lt;dbl&gt;</th><th scope=col>&lt;dbl&gt;</th><th scope=col>&lt;dbl&gt;</th><th scope=col>&lt;dbl&gt;</th><th scope=col>&lt;dbl&gt;</th><th scope=col>&lt;dbl&gt;</th><th scope=col>&lt;dbl&gt;</th></tr>\n",
       "</thead>\n",
       "<tbody>\n",
       "\t<tr><th scope=row>Mazda RX4</th><td>21.0</td><td>6</td><td>160</td><td>110</td><td>3.90</td><td>2.620</td><td>16.46</td><td>0</td><td>1</td><td>4</td><td>4</td></tr>\n",
       "\t<tr><th scope=row>Mazda RX4 Wag</th><td>21.0</td><td>6</td><td>160</td><td>110</td><td>3.90</td><td>2.875</td><td>17.02</td><td>0</td><td>1</td><td>4</td><td>4</td></tr>\n",
       "\t<tr><th scope=row>Datsun 710</th><td>22.8</td><td>4</td><td>108</td><td> 93</td><td>3.85</td><td>2.320</td><td>18.61</td><td>1</td><td>1</td><td>4</td><td>1</td></tr>\n",
       "\t<tr><th scope=row>Hornet 4 Drive</th><td>21.4</td><td>6</td><td>258</td><td>110</td><td>3.08</td><td>3.215</td><td>19.44</td><td>1</td><td>0</td><td>3</td><td>1</td></tr>\n",
       "\t<tr><th scope=row>Hornet Sportabout</th><td>18.7</td><td>8</td><td>360</td><td>175</td><td>3.15</td><td>3.440</td><td>17.02</td><td>0</td><td>0</td><td>3</td><td>2</td></tr>\n",
       "\t<tr><th scope=row>Valiant</th><td>18.1</td><td>6</td><td>225</td><td>105</td><td>2.76</td><td>3.460</td><td>20.22</td><td>1</td><td>0</td><td>3</td><td>1</td></tr>\n",
       "</tbody>\n",
       "</table>\n"
      ],
      "text/latex": [
       "A data.frame: 6 × 11\n",
       "\\begin{tabular}{r|lllllllllll}\n",
       "  & mpg & cyl & disp & hp & drat & wt & qsec & vs & am & gear & carb\\\\\n",
       "  & <dbl> & <dbl> & <dbl> & <dbl> & <dbl> & <dbl> & <dbl> & <dbl> & <dbl> & <dbl> & <dbl>\\\\\n",
       "\\hline\n",
       "\tMazda RX4 & 21.0 & 6 & 160 & 110 & 3.90 & 2.620 & 16.46 & 0 & 1 & 4 & 4\\\\\n",
       "\tMazda RX4 Wag & 21.0 & 6 & 160 & 110 & 3.90 & 2.875 & 17.02 & 0 & 1 & 4 & 4\\\\\n",
       "\tDatsun 710 & 22.8 & 4 & 108 &  93 & 3.85 & 2.320 & 18.61 & 1 & 1 & 4 & 1\\\\\n",
       "\tHornet 4 Drive & 21.4 & 6 & 258 & 110 & 3.08 & 3.215 & 19.44 & 1 & 0 & 3 & 1\\\\\n",
       "\tHornet Sportabout & 18.7 & 8 & 360 & 175 & 3.15 & 3.440 & 17.02 & 0 & 0 & 3 & 2\\\\\n",
       "\tValiant & 18.1 & 6 & 225 & 105 & 2.76 & 3.460 & 20.22 & 1 & 0 & 3 & 1\\\\\n",
       "\\end{tabular}\n"
      ],
      "text/markdown": [
       "\n",
       "A data.frame: 6 × 11\n",
       "\n",
       "| <!--/--> | mpg &lt;dbl&gt; | cyl &lt;dbl&gt; | disp &lt;dbl&gt; | hp &lt;dbl&gt; | drat &lt;dbl&gt; | wt &lt;dbl&gt; | qsec &lt;dbl&gt; | vs &lt;dbl&gt; | am &lt;dbl&gt; | gear &lt;dbl&gt; | carb &lt;dbl&gt; |\n",
       "|---|---|---|---|---|---|---|---|---|---|---|---|\n",
       "| Mazda RX4 | 21.0 | 6 | 160 | 110 | 3.90 | 2.620 | 16.46 | 0 | 1 | 4 | 4 |\n",
       "| Mazda RX4 Wag | 21.0 | 6 | 160 | 110 | 3.90 | 2.875 | 17.02 | 0 | 1 | 4 | 4 |\n",
       "| Datsun 710 | 22.8 | 4 | 108 |  93 | 3.85 | 2.320 | 18.61 | 1 | 1 | 4 | 1 |\n",
       "| Hornet 4 Drive | 21.4 | 6 | 258 | 110 | 3.08 | 3.215 | 19.44 | 1 | 0 | 3 | 1 |\n",
       "| Hornet Sportabout | 18.7 | 8 | 360 | 175 | 3.15 | 3.440 | 17.02 | 0 | 0 | 3 | 2 |\n",
       "| Valiant | 18.1 | 6 | 225 | 105 | 2.76 | 3.460 | 20.22 | 1 | 0 | 3 | 1 |\n",
       "\n"
      ],
      "text/plain": [
       "                  mpg  cyl disp hp  drat wt    qsec  vs am gear carb\n",
       "Mazda RX4         21.0 6   160  110 3.90 2.620 16.46 0  1  4    4   \n",
       "Mazda RX4 Wag     21.0 6   160  110 3.90 2.875 17.02 0  1  4    4   \n",
       "Datsun 710        22.8 4   108   93 3.85 2.320 18.61 1  1  4    1   \n",
       "Hornet 4 Drive    21.4 6   258  110 3.08 3.215 19.44 1  0  3    1   \n",
       "Hornet Sportabout 18.7 8   360  175 3.15 3.440 17.02 0  0  3    2   \n",
       "Valiant           18.1 6   225  105 2.76 3.460 20.22 1  0  3    1   "
      ]
     },
     "metadata": {},
     "output_type": "display_data"
    }
   ],
   "source": [
    "head(mtcars)"
   ]
  },
  {
   "cell_type": "code",
   "execution_count": 133,
   "id": "f2f77a23-0f45-4a1b-8c54-ae49c8bbf7a1",
   "metadata": {},
   "outputs": [
    {
     "data": {
      "text/html": [
       "146.6875"
      ],
      "text/latex": [
       "146.6875"
      ],
      "text/markdown": [
       "146.6875"
      ],
      "text/plain": [
       "[1] 146.6875"
      ]
     },
     "metadata": {},
     "output_type": "display_data"
    }
   ],
   "source": [
    "mean(hp, na.rm=T)"
   ]
  },
  {
   "cell_type": "code",
   "execution_count": 134,
   "id": "05abf1e6-1818-46d6-9a56-f9d041e02801",
   "metadata": {},
   "outputs": [
    {
     "data": {
      "text/html": [
       "335"
      ],
      "text/latex": [
       "335"
      ],
      "text/markdown": [
       "335"
      ],
      "text/plain": [
       "[1] 335"
      ]
     },
     "metadata": {},
     "output_type": "display_data"
    }
   ],
   "source": [
    "max(hp)"
   ]
  },
  {
   "cell_type": "code",
   "execution_count": 135,
   "id": "ef5a4ce8-a40c-4e75-bb33-0019c17ac175",
   "metadata": {},
   "outputs": [
    {
     "data": {
      "text/html": [
       "52"
      ],
      "text/latex": [
       "52"
      ],
      "text/markdown": [
       "52"
      ],
      "text/plain": [
       "[1] 52"
      ]
     },
     "metadata": {},
     "output_type": "display_data"
    }
   ],
   "source": [
    "min(hp)"
   ]
  },
  {
   "cell_type": "code",
   "execution_count": 136,
   "id": "ed5922cb-ef41-47ed-974e-410b7a1cc79d",
   "metadata": {},
   "outputs": [
    {
     "data": {
      "text/html": [
       "193.5"
      ],
      "text/latex": [
       "193.5"
      ],
      "text/markdown": [
       "193.5"
      ],
      "text/plain": [
       "[1] 193.5"
      ]
     },
     "metadata": {},
     "output_type": "display_data"
    }
   ],
   "source": [
    "(min(hp) + max(hp))/2"
   ]
  },
  {
   "cell_type": "code",
   "execution_count": 137,
   "id": "603630c5-7ffa-4187-b2e8-253d98848a29",
   "metadata": {},
   "outputs": [
    {
     "data": {
      "text/html": [
       "<style>\n",
       ".list-inline {list-style: none; margin:0; padding: 0}\n",
       ".list-inline>li {display: inline-block}\n",
       ".list-inline>li:not(:last-child)::after {content: \"\\00b7\"; padding: 0 .5ex}\n",
       "</style>\n",
       "<ol class=list-inline><li>1</li><li>2</li><li>3</li><li>4</li><li>5</li><li>6</li><li>7</li><li>8</li><li>9</li><li>10</li><li>11</li><li>12</li><li>13</li><li>14</li><li>15</li><li>16</li><li>17</li><li>18</li><li>19</li><li>20</li><li>21</li><li>22</li><li>23</li></ol>\n"
      ],
      "text/latex": [
       "\\begin{enumerate*}\n",
       "\\item 1\n",
       "\\item 2\n",
       "\\item 3\n",
       "\\item 4\n",
       "\\item 5\n",
       "\\item 6\n",
       "\\item 7\n",
       "\\item 8\n",
       "\\item 9\n",
       "\\item 10\n",
       "\\item 11\n",
       "\\item 12\n",
       "\\item 13\n",
       "\\item 14\n",
       "\\item 15\n",
       "\\item 16\n",
       "\\item 17\n",
       "\\item 18\n",
       "\\item 19\n",
       "\\item 20\n",
       "\\item 21\n",
       "\\item 22\n",
       "\\item 23\n",
       "\\end{enumerate*}\n"
      ],
      "text/markdown": [
       "1. 1\n",
       "2. 2\n",
       "3. 3\n",
       "4. 4\n",
       "5. 5\n",
       "6. 6\n",
       "7. 7\n",
       "8. 8\n",
       "9. 9\n",
       "10. 10\n",
       "11. 11\n",
       "12. 12\n",
       "13. 13\n",
       "14. 14\n",
       "15. 15\n",
       "16. 16\n",
       "17. 17\n",
       "18. 18\n",
       "19. 19\n",
       "20. 20\n",
       "21. 21\n",
       "22. 22\n",
       "23. 23\n",
       "\n",
       "\n"
      ],
      "text/plain": [
       " [1]  1  2  3  4  5  6  7  8  9 10 11 12 13 14 15 16 17 18 19 20 21 22 23"
      ]
     },
     "metadata": {},
     "output_type": "display_data"
    }
   ],
   "source": [
    "1:23"
   ]
  },
  {
   "cell_type": "code",
   "execution_count": 140,
   "id": "7c47552e-ffeb-4eee-8afe-82a556faa01e",
   "metadata": {},
   "outputs": [
    {
     "data": {
      "text/html": [
       "<style>\n",
       ".list-inline {list-style: none; margin:0; padding: 0}\n",
       ".list-inline>li {display: inline-block}\n",
       ".list-inline>li:not(:last-child)::after {content: \"\\00b7\"; padding: 0 .5ex}\n",
       "</style>\n",
       "<ol class=list-inline><li>245</li><li>175</li><li>66</li><li>91</li><li>113</li><li>264</li><li>175</li><li>335</li><li>109</li><li>&lt;NA&gt;</li><li>&lt;NA&gt;</li><li>&lt;NA&gt;</li><li>&lt;NA&gt;</li><li>&lt;NA&gt;</li><li>&lt;NA&gt;</li><li>&lt;NA&gt;</li><li>&lt;NA&gt;</li><li>&lt;NA&gt;</li><li>&lt;NA&gt;</li><li>&lt;NA&gt;</li><li>&lt;NA&gt;</li><li>&lt;NA&gt;</li><li>&lt;NA&gt;</li><li>&lt;NA&gt;</li><li>&lt;NA&gt;</li><li>&lt;NA&gt;</li><li>&lt;NA&gt;</li></ol>\n"
      ],
      "text/latex": [
       "\\begin{enumerate*}\n",
       "\\item 245\n",
       "\\item 175\n",
       "\\item 66\n",
       "\\item 91\n",
       "\\item 113\n",
       "\\item 264\n",
       "\\item 175\n",
       "\\item 335\n",
       "\\item 109\n",
       "\\item <NA>\n",
       "\\item <NA>\n",
       "\\item <NA>\n",
       "\\item <NA>\n",
       "\\item <NA>\n",
       "\\item <NA>\n",
       "\\item <NA>\n",
       "\\item <NA>\n",
       "\\item <NA>\n",
       "\\item <NA>\n",
       "\\item <NA>\n",
       "\\item <NA>\n",
       "\\item <NA>\n",
       "\\item <NA>\n",
       "\\item <NA>\n",
       "\\item <NA>\n",
       "\\item <NA>\n",
       "\\item <NA>\n",
       "\\end{enumerate*}\n"
      ],
      "text/markdown": [
       "1. 245\n",
       "2. 175\n",
       "3. 66\n",
       "4. 91\n",
       "5. 113\n",
       "6. 264\n",
       "7. 175\n",
       "8. 335\n",
       "9. 109\n",
       "10. &lt;NA&gt;\n",
       "11. &lt;NA&gt;\n",
       "12. &lt;NA&gt;\n",
       "13. &lt;NA&gt;\n",
       "14. &lt;NA&gt;\n",
       "15. &lt;NA&gt;\n",
       "16. &lt;NA&gt;\n",
       "17. &lt;NA&gt;\n",
       "18. &lt;NA&gt;\n",
       "19. &lt;NA&gt;\n",
       "20. &lt;NA&gt;\n",
       "21. &lt;NA&gt;\n",
       "22. &lt;NA&gt;\n",
       "23. &lt;NA&gt;\n",
       "24. &lt;NA&gt;\n",
       "25. &lt;NA&gt;\n",
       "26. &lt;NA&gt;\n",
       "27. &lt;NA&gt;\n",
       "\n",
       "\n"
      ],
      "text/plain": [
       " [1] 245 175  66  91 113 264 175 335 109  NA  NA  NA  NA  NA  NA  NA  NA  NA  NA\n",
       "[20]  NA  NA  NA  NA  NA  NA  NA  NA"
      ]
     },
     "metadata": {},
     "output_type": "display_data"
    }
   ],
   "source": [
    "hp[24:50]"
   ]
  },
  {
   "cell_type": "code",
   "execution_count": 142,
   "id": "07ba90b9-4f3c-4292-8ab4-f1e270bbc508",
   "metadata": {},
   "outputs": [
    {
     "data": {
      "text/html": [
       "<style>\n",
       ".list-inline {list-style: none; margin:0; padding: 0}\n",
       ".list-inline>li {display: inline-block}\n",
       ".list-inline>li:not(:last-child)::after {content: \"\\00b7\"; padding: 0 .5ex}\n",
       "</style>\n",
       "<ol class=list-inline><li>2.62</li><li>2.875</li><li>2.32</li><li>3.215</li><li>3.44</li><li>3.46</li><li>3.57</li><li>3.19</li><li>3.15</li><li>3.44</li><li>3.44</li><li>4.07</li><li>3.73</li><li>3.78</li><li>5.25</li><li>5.424</li><li>5.345</li><li>2.2</li><li>1.615</li><li>1.835</li><li>2.465</li><li>3.52</li><li>3.435</li><li>3.84</li><li>3.845</li><li>1.935</li><li>2.14</li><li>1.513</li><li>3.17</li><li>2.77</li><li>3.57</li><li>2.78</li></ol>\n"
      ],
      "text/latex": [
       "\\begin{enumerate*}\n",
       "\\item 2.62\n",
       "\\item 2.875\n",
       "\\item 2.32\n",
       "\\item 3.215\n",
       "\\item 3.44\n",
       "\\item 3.46\n",
       "\\item 3.57\n",
       "\\item 3.19\n",
       "\\item 3.15\n",
       "\\item 3.44\n",
       "\\item 3.44\n",
       "\\item 4.07\n",
       "\\item 3.73\n",
       "\\item 3.78\n",
       "\\item 5.25\n",
       "\\item 5.424\n",
       "\\item 5.345\n",
       "\\item 2.2\n",
       "\\item 1.615\n",
       "\\item 1.835\n",
       "\\item 2.465\n",
       "\\item 3.52\n",
       "\\item 3.435\n",
       "\\item 3.84\n",
       "\\item 3.845\n",
       "\\item 1.935\n",
       "\\item 2.14\n",
       "\\item 1.513\n",
       "\\item 3.17\n",
       "\\item 2.77\n",
       "\\item 3.57\n",
       "\\item 2.78\n",
       "\\end{enumerate*}\n"
      ],
      "text/markdown": [
       "1. 2.62\n",
       "2. 2.875\n",
       "3. 2.32\n",
       "4. 3.215\n",
       "5. 3.44\n",
       "6. 3.46\n",
       "7. 3.57\n",
       "8. 3.19\n",
       "9. 3.15\n",
       "10. 3.44\n",
       "11. 3.44\n",
       "12. 4.07\n",
       "13. 3.73\n",
       "14. 3.78\n",
       "15. 5.25\n",
       "16. 5.424\n",
       "17. 5.345\n",
       "18. 2.2\n",
       "19. 1.615\n",
       "20. 1.835\n",
       "21. 2.465\n",
       "22. 3.52\n",
       "23. 3.435\n",
       "24. 3.84\n",
       "25. 3.845\n",
       "26. 1.935\n",
       "27. 2.14\n",
       "28. 1.513\n",
       "29. 3.17\n",
       "30. 2.77\n",
       "31. 3.57\n",
       "32. 2.78\n",
       "\n",
       "\n"
      ],
      "text/plain": [
       " [1] 2.620 2.875 2.320 3.215 3.440 3.460 3.570 3.190 3.150 3.440 3.440 4.070\n",
       "[13] 3.730 3.780 5.250 5.424 5.345 2.200 1.615 1.835 2.465 3.520 3.435 3.840\n",
       "[25] 3.845 1.935 2.140 1.513 3.170 2.770 3.570 2.780"
      ]
     },
     "metadata": {},
     "output_type": "display_data"
    }
   ],
   "source": [
    "wt"
   ]
  },
  {
   "cell_type": "code",
   "execution_count": 143,
   "id": "f3b38f7f-0853-4c39-b8b3-941eca38c500",
   "metadata": {},
   "outputs": [
    {
     "data": {
      "text/html": [
       "3.21725"
      ],
      "text/latex": [
       "3.21725"
      ],
      "text/markdown": [
       "3.21725"
      ],
      "text/plain": [
       "[1] 3.21725"
      ]
     },
     "metadata": {},
     "output_type": "display_data"
    }
   ],
   "source": [
    "mean(wt)"
   ]
  },
  {
   "cell_type": "markdown",
   "id": "42c1a8d6-4c78-4cc5-a3a1-b0a0181c4942",
   "metadata": {},
   "source": [
    "# Dispersion of dataset"
   ]
  },
  {
   "cell_type": "code",
   "execution_count": 146,
   "id": "e429fe5f-dba0-4577-810b-4e7c9ba7b33b",
   "metadata": {},
   "outputs": [
    {
     "data": {
      "text/html": [
       "283"
      ],
      "text/latex": [
       "283"
      ],
      "text/markdown": [
       "283"
      ],
      "text/plain": [
       "[1] 283"
      ]
     },
     "metadata": {},
     "output_type": "display_data"
    }
   ],
   "source": [
    "max(hp) - min(hp)"
   ]
  },
  {
   "cell_type": "code",
   "execution_count": 149,
   "id": "3040f9a1-41d1-42e7-86e4-25c30a9e1286",
   "metadata": {},
   "outputs": [
    {
     "data": {
      "text/html": [
       "68.5628684893206"
      ],
      "text/latex": [
       "68.5628684893206"
      ],
      "text/markdown": [
       "68.5628684893206"
      ],
      "text/plain": [
       "[1] 68.56287"
      ]
     },
     "metadata": {},
     "output_type": "display_data"
    }
   ],
   "source": [
    "sd(hp)"
   ]
  },
  {
   "cell_type": "code",
   "execution_count": 150,
   "id": "5f2facfd-caf2-4ad6-b482-f5c4eeab1dca",
   "metadata": {},
   "outputs": [
    {
     "data": {
      "text/html": [
       "146.6875"
      ],
      "text/latex": [
       "146.6875"
      ],
      "text/markdown": [
       "146.6875"
      ],
      "text/plain": [
       "[1] 146.6875"
      ]
     },
     "metadata": {},
     "output_type": "display_data"
    }
   ],
   "source": [
    "mean(hp)"
   ]
  },
  {
   "cell_type": "code",
   "execution_count": 152,
   "id": "986a1c32-085c-4ecf-9898-b410b2cad694",
   "metadata": {},
   "outputs": [
    {
     "data": {
      "text/html": [
       "<style>\n",
       ".list-inline {list-style: none; margin:0; padding: 0}\n",
       ".list-inline>li {display: inline-block}\n",
       ".list-inline>li:not(:last-child)::after {content: \"\\00b7\"; padding: 0 .5ex}\n",
       "</style>\n",
       "<ol class=list-inline><li>215.250368489321</li><li>215.250368489321</li></ol>\n"
      ],
      "text/latex": [
       "\\begin{enumerate*}\n",
       "\\item 215.250368489321\n",
       "\\item 215.250368489321\n",
       "\\end{enumerate*}\n"
      ],
      "text/markdown": [
       "1. 215.250368489321\n",
       "2. 215.250368489321\n",
       "\n",
       "\n"
      ],
      "text/plain": [
       "[1] 215.2504 215.2504"
      ]
     },
     "metadata": {},
     "output_type": "display_data"
    }
   ],
   "source": [
    "s = sd(hp)\n",
    "c(mean(hp)+s, mean(hp)+s)"
   ]
  },
  {
   "cell_type": "code",
   "execution_count": 155,
   "id": "6a944911-5b4c-4726-96b2-5189240c3f92",
   "metadata": {},
   "outputs": [
    {
     "ename": "ERROR",
     "evalue": "Error in is.data.frame(x): 'list' object cannot be coerced to type 'double'\n",
     "output_type": "error",
     "traceback": [
      "Error in is.data.frame(x): 'list' object cannot be coerced to type 'double'\nTraceback:\n",
      "1. sd(mtcars)",
      "2. var(if (is.vector(x) || is.factor(x)) x else as.double(x), na.rm = na.rm)",
      "3. is.data.frame(x)"
     ]
    }
   ],
   "source": [
    "sd(mtcars)\n"
   ]
  },
  {
   "cell_type": "code",
   "execution_count": 157,
   "id": "7e3d3397-1482-4684-b216-f00bbeeb39e1",
   "metadata": {},
   "outputs": [
    {
     "data": {
      "text/html": [
       "<style>\n",
       ".dl-inline {width: auto; margin:0; padding: 0}\n",
       ".dl-inline>dt, .dl-inline>dd {float: none; width: auto; display: inline-block}\n",
       ".dl-inline>dt::after {content: \":\\0020\"; padding-right: .5ex}\n",
       ".dl-inline>dt:not(:first-of-type) {padding-left: .5ex}\n",
       "</style><dl class=dl-inline><dt>0%</dt><dd>52</dd><dt>25%</dt><dd>96.5</dd><dt>50%</dt><dd>123</dd><dt>75%</dt><dd>180</dd><dt>100%</dt><dd>335</dd></dl>\n"
      ],
      "text/latex": [
       "\\begin{description*}\n",
       "\\item[0\\textbackslash{}\\%] 52\n",
       "\\item[25\\textbackslash{}\\%] 96.5\n",
       "\\item[50\\textbackslash{}\\%] 123\n",
       "\\item[75\\textbackslash{}\\%] 180\n",
       "\\item[100\\textbackslash{}\\%] 335\n",
       "\\end{description*}\n"
      ],
      "text/markdown": [
       "0%\n",
       ":   5225%\n",
       ":   96.550%\n",
       ":   12375%\n",
       ":   180100%\n",
       ":   335\n",
       "\n"
      ],
      "text/plain": [
       "   0%   25%   50%   75%  100% \n",
       " 52.0  96.5 123.0 180.0 335.0 "
      ]
     },
     "metadata": {},
     "output_type": "display_data"
    }
   ],
   "source": [
    "quantile(hp)"
   ]
  },
  {
   "cell_type": "code",
   "execution_count": 159,
   "id": "973fc636-8c27-4788-99f7-5826dd7edf48",
   "metadata": {},
   "outputs": [
    {
     "data": {
      "text/html": [
       "<style>\n",
       ".list-inline {list-style: none; margin:0; padding: 0}\n",
       ".list-inline>li {display: inline-block}\n",
       ".list-inline>li:not(:last-child)::after {content: \"\\00b7\"; padding: 0 .5ex}\n",
       "</style>\n",
       "<ol class=list-inline><li>0</li><li>0.1</li><li>0.2</li><li>0.3</li><li>0.4</li><li>0.5</li><li>0.6</li><li>0.7</li><li>0.8</li><li>0.9</li><li>1</li></ol>\n"
      ],
      "text/latex": [
       "\\begin{enumerate*}\n",
       "\\item 0\n",
       "\\item 0.1\n",
       "\\item 0.2\n",
       "\\item 0.3\n",
       "\\item 0.4\n",
       "\\item 0.5\n",
       "\\item 0.6\n",
       "\\item 0.7\n",
       "\\item 0.8\n",
       "\\item 0.9\n",
       "\\item 1\n",
       "\\end{enumerate*}\n"
      ],
      "text/markdown": [
       "1. 0\n",
       "2. 0.1\n",
       "3. 0.2\n",
       "4. 0.3\n",
       "5. 0.4\n",
       "6. 0.5\n",
       "7. 0.6\n",
       "8. 0.7\n",
       "9. 0.8\n",
       "10. 0.9\n",
       "11. 1\n",
       "\n",
       "\n"
      ],
      "text/plain": [
       " [1] 0.0 0.1 0.2 0.3 0.4 0.5 0.6 0.7 0.8 0.9 1.0"
      ]
     },
     "metadata": {},
     "output_type": "display_data"
    }
   ],
   "source": [
    "seq(0,1,.1)"
   ]
  },
  {
   "cell_type": "code",
   "execution_count": 161,
   "id": "4f78269f-ec4d-477e-90c1-838685ae6629",
   "metadata": {},
   "outputs": [
    {
     "data": {
      "text/html": [
       "<style>\n",
       ".list-inline {list-style: none; margin:0; padding: 0}\n",
       ".list-inline>li {display: inline-block}\n",
       ".list-inline>li:not(:last-child)::after {content: \"\\00b7\"; padding: 0 .5ex}\n",
       "</style>\n",
       "<ol class=list-inline><li>0</li><li>0.1</li><li>0.2</li><li>0.3</li><li>0.4</li><li>0.5</li><li>0.6</li><li>0.7</li><li>0.8</li><li>0.9</li><li>1</li></ol>\n"
      ],
      "text/latex": [
       "\\begin{enumerate*}\n",
       "\\item 0\n",
       "\\item 0.1\n",
       "\\item 0.2\n",
       "\\item 0.3\n",
       "\\item 0.4\n",
       "\\item 0.5\n",
       "\\item 0.6\n",
       "\\item 0.7\n",
       "\\item 0.8\n",
       "\\item 0.9\n",
       "\\item 1\n",
       "\\end{enumerate*}\n"
      ],
      "text/markdown": [
       "1. 0\n",
       "2. 0.1\n",
       "3. 0.2\n",
       "4. 0.3\n",
       "5. 0.4\n",
       "6. 0.5\n",
       "7. 0.6\n",
       "8. 0.7\n",
       "9. 0.8\n",
       "10. 0.9\n",
       "11. 1\n",
       "\n",
       "\n"
      ],
      "text/plain": [
       " [1] 0.0 0.1 0.2 0.3 0.4 0.5 0.6 0.7 0.8 0.9 1.0"
      ]
     },
     "metadata": {},
     "output_type": "display_data"
    }
   ],
   "source": [
    "deciles <- seq(0,1,.1)\n",
    "deciles"
   ]
  },
  {
   "cell_type": "code",
   "execution_count": 162,
   "id": "1a25ed4a-9792-48a4-9ad5-c7837558bccd",
   "metadata": {},
   "outputs": [
    {
     "data": {
      "text/html": [
       "<style>\n",
       ".dl-inline {width: auto; margin:0; padding: 0}\n",
       ".dl-inline>dt, .dl-inline>dd {float: none; width: auto; display: inline-block}\n",
       ".dl-inline>dt::after {content: \":\\0020\"; padding-right: .5ex}\n",
       ".dl-inline>dt:not(:first-of-type) {padding-left: .5ex}\n",
       "</style><dl class=dl-inline><dt>0%</dt><dd>52</dd><dt>10%</dt><dd>66</dd><dt>20%</dt><dd>93.4</dd><dt>30%</dt><dd>106.2</dd><dt>40%</dt><dd>110</dd><dt>50%</dt><dd>123</dd><dt>60%</dt><dd>165</dd><dt>70%</dt><dd>178.5</dd><dt>80%</dt><dd>200</dd><dt>90%</dt><dd>243.5</dd><dt>100%</dt><dd>335</dd></dl>\n"
      ],
      "text/latex": [
       "\\begin{description*}\n",
       "\\item[0\\textbackslash{}\\%] 52\n",
       "\\item[10\\textbackslash{}\\%] 66\n",
       "\\item[20\\textbackslash{}\\%] 93.4\n",
       "\\item[30\\textbackslash{}\\%] 106.2\n",
       "\\item[40\\textbackslash{}\\%] 110\n",
       "\\item[50\\textbackslash{}\\%] 123\n",
       "\\item[60\\textbackslash{}\\%] 165\n",
       "\\item[70\\textbackslash{}\\%] 178.5\n",
       "\\item[80\\textbackslash{}\\%] 200\n",
       "\\item[90\\textbackslash{}\\%] 243.5\n",
       "\\item[100\\textbackslash{}\\%] 335\n",
       "\\end{description*}\n"
      ],
      "text/markdown": [
       "0%\n",
       ":   5210%\n",
       ":   6620%\n",
       ":   93.430%\n",
       ":   106.240%\n",
       ":   11050%\n",
       ":   12360%\n",
       ":   16570%\n",
       ":   178.580%\n",
       ":   20090%\n",
       ":   243.5100%\n",
       ":   335\n",
       "\n"
      ],
      "text/plain": [
       "   0%   10%   20%   30%   40%   50%   60%   70%   80%   90%  100% \n",
       " 52.0  66.0  93.4 106.2 110.0 123.0 165.0 178.5 200.0 243.5 335.0 "
      ]
     },
     "metadata": {},
     "output_type": "display_data"
    }
   ],
   "source": [
    "quantile(hp, deciles)"
   ]
  },
  {
   "cell_type": "code",
   "execution_count": 163,
   "id": "ad1afb4b-8da2-4d91-b55a-634e64a4b340",
   "metadata": {},
   "outputs": [
    {
     "data": {
      "text/plain": [
       "   Min. 1st Qu.  Median    Mean 3rd Qu.    Max. \n",
       "   52.0    96.5   123.0   146.7   180.0   335.0 "
      ]
     },
     "metadata": {},
     "output_type": "display_data"
    }
   ],
   "source": [
    "summary(hp)"
   ]
  },
  {
   "cell_type": "code",
   "execution_count": 164,
   "id": "900085b8-8440-4cf3-8c86-c779c2c936b6",
   "metadata": {},
   "outputs": [
    {
     "data": {
      "text/html": [
       "146.6875"
      ],
      "text/latex": [
       "146.6875"
      ],
      "text/markdown": [
       "146.6875"
      ],
      "text/plain": [
       "[1] 146.6875"
      ]
     },
     "metadata": {},
     "output_type": "display_data"
    }
   ],
   "source": [
    "mean(hp)"
   ]
  },
  {
   "cell_type": "code",
   "execution_count": 165,
   "id": "f9d0a35d-b921-499f-b759-4de93902b9b3",
   "metadata": {},
   "outputs": [
    {
     "data": {
      "text/html": [
       "146.6875"
      ],
      "text/latex": [
       "146.6875"
      ],
      "text/markdown": [
       "146.6875"
      ],
      "text/plain": [
       "[1] 146.6875"
      ]
     },
     "metadata": {},
     "output_type": "display_data"
    }
   ],
   "source": [
    "sum(hp)/length(hp)"
   ]
  },
  {
   "cell_type": "code",
   "execution_count": 166,
   "id": "7fbe03de-fa49-4650-b769-8c8ce2ce25b4",
   "metadata": {},
   "outputs": [
    {
     "data": {
      "text/html": [
       "68.5628684893206"
      ],
      "text/latex": [
       "68.5628684893206"
      ],
      "text/markdown": [
       "68.5628684893206"
      ],
      "text/plain": [
       "[1] 68.56287"
      ]
     },
     "metadata": {},
     "output_type": "display_data"
    }
   ],
   "source": [
    "sd(hp)"
   ]
  },
  {
   "cell_type": "code",
   "execution_count": 181,
   "id": "69f50300-700a-4612-96ec-779afc93e104",
   "metadata": {},
   "outputs": [
    {
     "data": {
      "text/html": [
       "67.4756611212517"
      ],
      "text/latex": [
       "67.4756611212517"
      ],
      "text/markdown": [
       "67.4756611212517"
      ],
      "text/plain": [
       "[1] 67.47566"
      ]
     },
     "metadata": {},
     "output_type": "display_data"
    }
   ],
   "source": [
    "(sum( ( hp-mean(hp) )**2)/ length(hp)-1) ^ (1/2)\n"
   ]
  },
  {
   "cell_type": "code",
   "execution_count": 176,
   "id": "408eaba5-8866-4573-8a40-db04a067d7e2",
   "metadata": {},
   "outputs": [
    {
     "data": {
      "text/html": [
       "<style>\n",
       ".list-inline {list-style: none; margin:0; padding: 0}\n",
       ".list-inline>li {display: inline-block}\n",
       ".list-inline>li:not(:last-child)::after {content: \"\\00b7\"; padding: 0 .5ex}\n",
       "</style>\n",
       "<ol class=list-inline><li>-36.6875</li><li>-36.6875</li><li>-53.6875</li><li>-36.6875</li><li>28.3125</li><li>-41.6875</li><li>98.3125</li><li>-84.6875</li><li>-51.6875</li><li>-23.6875</li><li>-23.6875</li><li>33.3125</li><li>33.3125</li><li>33.3125</li><li>58.3125</li><li>68.3125</li><li>83.3125</li><li>-80.6875</li><li>-94.6875</li><li>-81.6875</li><li>-49.6875</li><li>3.3125</li><li>3.3125</li><li>98.3125</li><li>28.3125</li><li>-80.6875</li><li>-55.6875</li><li>-33.6875</li><li>117.3125</li><li>28.3125</li><li>188.3125</li><li>-37.6875</li></ol>\n"
      ],
      "text/latex": [
       "\\begin{enumerate*}\n",
       "\\item -36.6875\n",
       "\\item -36.6875\n",
       "\\item -53.6875\n",
       "\\item -36.6875\n",
       "\\item 28.3125\n",
       "\\item -41.6875\n",
       "\\item 98.3125\n",
       "\\item -84.6875\n",
       "\\item -51.6875\n",
       "\\item -23.6875\n",
       "\\item -23.6875\n",
       "\\item 33.3125\n",
       "\\item 33.3125\n",
       "\\item 33.3125\n",
       "\\item 58.3125\n",
       "\\item 68.3125\n",
       "\\item 83.3125\n",
       "\\item -80.6875\n",
       "\\item -94.6875\n",
       "\\item -81.6875\n",
       "\\item -49.6875\n",
       "\\item 3.3125\n",
       "\\item 3.3125\n",
       "\\item 98.3125\n",
       "\\item 28.3125\n",
       "\\item -80.6875\n",
       "\\item -55.6875\n",
       "\\item -33.6875\n",
       "\\item 117.3125\n",
       "\\item 28.3125\n",
       "\\item 188.3125\n",
       "\\item -37.6875\n",
       "\\end{enumerate*}\n"
      ],
      "text/markdown": [
       "1. -36.6875\n",
       "2. -36.6875\n",
       "3. -53.6875\n",
       "4. -36.6875\n",
       "5. 28.3125\n",
       "6. -41.6875\n",
       "7. 98.3125\n",
       "8. -84.6875\n",
       "9. -51.6875\n",
       "10. -23.6875\n",
       "11. -23.6875\n",
       "12. 33.3125\n",
       "13. 33.3125\n",
       "14. 33.3125\n",
       "15. 58.3125\n",
       "16. 68.3125\n",
       "17. 83.3125\n",
       "18. -80.6875\n",
       "19. -94.6875\n",
       "20. -81.6875\n",
       "21. -49.6875\n",
       "22. 3.3125\n",
       "23. 3.3125\n",
       "24. 98.3125\n",
       "25. 28.3125\n",
       "26. -80.6875\n",
       "27. -55.6875\n",
       "28. -33.6875\n",
       "29. 117.3125\n",
       "30. 28.3125\n",
       "31. 188.3125\n",
       "32. -37.6875\n",
       "\n",
       "\n"
      ],
      "text/plain": [
       " [1] -36.6875 -36.6875 -53.6875 -36.6875  28.3125 -41.6875  98.3125 -84.6875\n",
       " [9] -51.6875 -23.6875 -23.6875  33.3125  33.3125  33.3125  58.3125  68.3125\n",
       "[17]  83.3125 -80.6875 -94.6875 -81.6875 -49.6875   3.3125   3.3125  98.3125\n",
       "[25]  28.3125 -80.6875 -55.6875 -33.6875 117.3125  28.3125 188.3125 -37.6875"
      ]
     },
     "metadata": {},
     "output_type": "display_data"
    }
   ],
   "source": [
    "hp-mean(hp)"
   ]
  },
  {
   "cell_type": "code",
   "execution_count": 179,
   "id": "55b86d17-d389-49e9-b3cc-76749ce97ad6",
   "metadata": {},
   "outputs": [
    {
     "data": {
      "text/html": [
       "145726.875"
      ],
      "text/latex": [
       "145726.875"
      ],
      "text/markdown": [
       "145726.875"
      ],
      "text/plain": [
       "[1] 145726.9"
      ]
     },
     "metadata": {},
     "output_type": "display_data"
    }
   ],
   "source": [
    "sum((hp-mean(hp)) ** 2)"
   ]
  },
  {
   "cell_type": "code",
   "execution_count": null,
   "id": "a6e7ed34-e09b-4fd2-8fe8-a5b9f3e0aef6",
   "metadata": {},
   "outputs": [],
   "source": []
  }
 ],
 "metadata": {
  "kernelspec": {
   "display_name": "R",
   "language": "R",
   "name": "ir"
  },
  "language_info": {
   "codemirror_mode": "r",
   "file_extension": ".r",
   "mimetype": "text/x-r-source",
   "name": "R",
   "pygments_lexer": "r",
   "version": "4.2.1"
  }
 },
 "nbformat": 4,
 "nbformat_minor": 5
}
